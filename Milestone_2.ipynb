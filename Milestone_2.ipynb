{
 "cells": [
  {
   "cell_type": "markdown",
   "metadata": {},
   "source": [
    "# Milestone 2"
   ]
  },
  {
   "cell_type": "markdown",
   "metadata": {},
   "source": [
    "## Imports"
   ]
  },
  {
   "cell_type": "code",
   "execution_count": 1,
   "metadata": {
    "pycharm": {
     "name": "#%%\n"
    }
   },
   "outputs": [],
   "source": [
    "import pandas as pd\n",
    "import numpy as np\n",
    "import matplotlib.pyplot as plt\n",
    "from sklearn.linear_model import LinearRegression\n",
    "import random\n",
    "import os\n",
    "import bz2\n",
    "from src.QuoteBankData import QuoteBankData\n",
    "import quotebank_preprocessing_utils as utils\n",
    "from tqdm import tqdm"
   ]
  },
  {
   "cell_type": "code",
   "execution_count": 2,
   "metadata": {},
   "outputs": [],
   "source": [
    "DATA_PATH = \"./data/\"\n",
    "COLORS = [\"red\", \"green\", \"blue\", \"brown\", \"yellow\", \"purple\", \"orange\", \"pink\"]\n",
    "GENERATED_PATH = \"./generated\""
   ]
  },
  {
   "cell_type": "markdown",
   "metadata": {},
   "source": [
    "# Quotebank preprocessing"
   ]
  },
  {
   "cell_type": "markdown",
   "metadata": {},
   "source": [
    "Most of the code used for the quotebank preprocessing can be found in the classes QuotebankData and Keyword, in addition to in files for helper functions. "
   ]
  },
  {
   "cell_type": "code",
   "execution_count": 3,
   "metadata": {
    "pycharm": {
     "name": "#%%\n"
    }
   },
   "outputs": [],
   "source": [
    "def quotation_classification():\n",
    "    \"\"\"\n",
    "    Iterate through all quotebank files, stored locally. For each quote inside the file, check which keywords match.\n",
    "    Store the results in the respective output\n",
    "    \"\"\"\n",
    "    quotes_filenames_list = utils.compose_quotebank_filenames()\n",
    "\n",
    "    for index, filename in enumerate(quotes_filenames_list):\n",
    "        print(\"Elaborating file: \" + filename.split(\"/\").pop())\n",
    "        quotation_classification_for_file(filename)\n",
    "        quotebank.write_matching_quotes_to_file_for_year(index)\n",
    "        quotebank.delete_json_lines_for_all_keywords()"
   ]
  },
  {
   "cell_type": "code",
   "execution_count": 4,
   "metadata": {
    "pycharm": {
     "name": "#%%\n"
    }
   },
   "outputs": [],
   "source": [
    "def quotation_classification_for_file(filename):\n",
    "    \"\"\"\n",
    "    For every line of the input file (json file), extract the quotation.\n",
    "    If any of the keyword is found inside the quotation, the corresponding (json) line gets saved inside json_lines attribute of the corresponding\n",
    "    keyword object.\n",
    "    :param filename: str \n",
    "    \"\"\"\n",
    "    if not os.path.isfile(filename):\n",
    "        print(filename + \" doesn't exist\")\n",
    "        return\n",
    "\n",
    "    with bz2.open(filename, \"rb\") as file:\n",
    "        for i, line in tqdm(enumerate(file)):\n",
    "            if i == 100000: break\n",
    "            quotation = utils.extract_quotation(line)\n",
    "            found_keywords = quotebank.match_quotation_with_any_keyword(quotation)\n",
    "            if len(found_keywords) > 0:\n",
    "                for found_keyword in found_keywords:\n",
    "                    found_keyword.json_lines.append(line)"
   ]
  },
  {
   "cell_type": "markdown",
   "source": [
    "Initialize quotebank\n",
    "- read keyword and synonyms for death causes\n",
    "- create folders and file names for quotes that matches keywords or synonyms\n",
    "- match keywords and synonyms with quotes"
   ],
   "metadata": {
    "collapsed": false,
    "pycharm": {
     "name": "#%% md\n"
    }
   }
  },
  {
   "cell_type": "code",
   "execution_count": 5,
   "metadata": {
    "pycharm": {
     "name": "#%%\n"
    }
   },
   "outputs": [
    {
     "name": "stderr",
     "output_type": "stream",
     "text": [
      "148it [00:00, 1479.60it/s]"
     ]
    },
    {
     "name": "stdout",
     "output_type": "stream",
     "text": [
      "Elaborating file: quotes-2008.json.bz2\n",
      "./data/quotes-2008.json.bz2 doesn't exist\n",
      "Elaborating file: quotes-2009.json.bz2\n",
      "./data/quotes-2009.json.bz2 doesn't exist\n",
      "Elaborating file: quotes-2010.json.bz2\n",
      "./data/quotes-2010.json.bz2 doesn't exist\n",
      "Elaborating file: quotes-2011.json.bz2\n"
     ]
    },
    {
     "name": "stderr",
     "output_type": "stream",
     "text": [
      "100000it [00:26, 3793.28it/s]\n",
      "252it [00:00, 2516.32it/s]"
     ]
    },
    {
     "name": "stdout",
     "output_type": "stream",
     "text": [
      "Results for the first 100.000 quotes in year: 2011 \n",
      "\n",
      "meningitis\n",
      "\t 0\n",
      "lower respiratory infections\n",
      "\t 5\n",
      "intestinal infectious diseases\n",
      "\t 4\n",
      "protein-energy malnutrition\n",
      "\t 0\n",
      "terrorism\n",
      "\t 62\n",
      "cardiovascular diseases\n",
      "\t 37\n",
      "alzheimer disease and other dementias\n",
      "\t 7\n",
      "chronic kidney disease\n",
      "\t 1\n",
      "chronic respiratory diseases\n",
      "\t 16\n",
      "cirrhosis and other chronic liver diseases\n",
      "\t 0\n",
      "digestive diseases\n",
      "\t 0\n",
      "hepatitis\n",
      "\t 0\n",
      "neoplasms\n",
      "\t 0\n",
      "parkinson disease\n",
      "\t 1\n",
      "fire, heat, and hot substances\n",
      "\t 3\n",
      "malaria\n",
      "\t 3\n",
      "drowning\n",
      "\t 2\n",
      "interpersonal violence\n",
      "\t 12\n",
      "hiv/aids\n",
      "\t 29\n",
      "drug use disorders\n",
      "\t 4\n",
      "tuberculosis\n",
      "\t 3\n",
      "road injuries\n",
      "\t 5\n",
      "maternal disorders\n",
      "\t 18\n",
      "neonatal disorders\n",
      "\t 2\n",
      "alcohol use disorders\n",
      "\t 5\n",
      "exposure to forces of nature\n",
      "\t 42\n",
      "diarrheal diseases\n",
      "\t 7\n",
      "environmental heat and cold exposure\n",
      "\t 7\n",
      "nutritional deficiencies\n",
      "\t 0\n",
      "self-harm\n",
      "\t 0\n",
      "conflict and terrorism\n",
      "\t 321\n",
      "diabetes mellitus\n",
      "\t 15\n",
      "poisonings\n",
      "\t 7\n",
      "Elaborating file: quotes-2012.json.bz2\n"
     ]
    },
    {
     "name": "stderr",
     "output_type": "stream",
     "text": [
      "100000it [00:26, 3823.21it/s]\n",
      "373it [00:00, 3727.50it/s]"
     ]
    },
    {
     "name": "stdout",
     "output_type": "stream",
     "text": [
      "Results for the first 100.000 quotes in year: 2012 \n",
      "\n",
      "meningitis\n",
      "\t 0\n",
      "lower respiratory infections\n",
      "\t 5\n",
      "intestinal infectious diseases\n",
      "\t 1\n",
      "protein-energy malnutrition\n",
      "\t 0\n",
      "terrorism\n",
      "\t 64\n",
      "cardiovascular diseases\n",
      "\t 43\n",
      "alzheimer disease and other dementias\n",
      "\t 10\n",
      "chronic kidney disease\n",
      "\t 3\n",
      "chronic respiratory diseases\n",
      "\t 20\n",
      "cirrhosis and other chronic liver diseases\n",
      "\t 2\n",
      "digestive diseases\n",
      "\t 1\n",
      "hepatitis\n",
      "\t 0\n",
      "neoplasms\n",
      "\t 0\n",
      "parkinson disease\n",
      "\t 0\n",
      "fire, heat, and hot substances\n",
      "\t 6\n",
      "malaria\n",
      "\t 3\n",
      "drowning\n",
      "\t 2\n",
      "interpersonal violence\n",
      "\t 31\n",
      "hiv/aids\n",
      "\t 28\n",
      "drug use disorders\n",
      "\t 3\n",
      "tuberculosis\n",
      "\t 2\n",
      "road injuries\n",
      "\t 4\n",
      "maternal disorders\n",
      "\t 23\n",
      "neonatal disorders\n",
      "\t 2\n",
      "alcohol use disorders\n",
      "\t 0\n",
      "exposure to forces of nature\n",
      "\t 29\n",
      "diarrheal diseases\n",
      "\t 1\n",
      "environmental heat and cold exposure\n",
      "\t 13\n",
      "nutritional deficiencies\n",
      "\t 0\n",
      "self-harm\n",
      "\t 0\n",
      "conflict and terrorism\n",
      "\t 296\n",
      "diabetes mellitus\n",
      "\t 19\n",
      "poisonings\n",
      "\t 5\n",
      "Elaborating file: quotes-2013.json.bz2\n"
     ]
    },
    {
     "name": "stderr",
     "output_type": "stream",
     "text": [
      "100000it [00:23, 4179.99it/s]\n",
      "833it [00:00, 4194.40it/s]"
     ]
    },
    {
     "name": "stdout",
     "output_type": "stream",
     "text": [
      "Results for the first 100.000 quotes in year: 2013 \n",
      "\n",
      "meningitis\n",
      "\t 1\n",
      "lower respiratory infections\n",
      "\t 4\n",
      "intestinal infectious diseases\n",
      "\t 0\n",
      "protein-energy malnutrition\n",
      "\t 0\n",
      "terrorism\n",
      "\t 83\n",
      "cardiovascular diseases\n",
      "\t 31\n",
      "alzheimer disease and other dementias\n",
      "\t 4\n",
      "chronic kidney disease\n",
      "\t 2\n",
      "chronic respiratory diseases\n",
      "\t 12\n",
      "cirrhosis and other chronic liver diseases\n",
      "\t 1\n",
      "digestive diseases\n",
      "\t 0\n",
      "hepatitis\n",
      "\t 0\n",
      "neoplasms\n",
      "\t 0\n",
      "parkinson disease\n",
      "\t 0\n",
      "fire, heat, and hot substances\n",
      "\t 1\n",
      "malaria\n",
      "\t 7\n",
      "drowning\n",
      "\t 1\n",
      "interpersonal violence\n",
      "\t 28\n",
      "hiv/aids\n",
      "\t 32\n",
      "drug use disorders\n",
      "\t 4\n",
      "tuberculosis\n",
      "\t 1\n",
      "road injuries\n",
      "\t 6\n",
      "maternal disorders\n",
      "\t 20\n",
      "neonatal disorders\n",
      "\t 3\n",
      "alcohol use disorders\n",
      "\t 3\n",
      "exposure to forces of nature\n",
      "\t 23\n",
      "diarrheal diseases\n",
      "\t 0\n",
      "environmental heat and cold exposure\n",
      "\t 16\n",
      "nutritional deficiencies\n",
      "\t 3\n",
      "self-harm\n",
      "\t 4\n",
      "conflict and terrorism\n",
      "\t 342\n",
      "diabetes mellitus\n",
      "\t 16\n",
      "poisonings\n",
      "\t 5\n",
      "Elaborating file: quotes-2014.json.bz2\n"
     ]
    },
    {
     "name": "stderr",
     "output_type": "stream",
     "text": [
      "100000it [00:23, 4340.30it/s]\n",
      "719it [00:00, 3633.92it/s]"
     ]
    },
    {
     "name": "stdout",
     "output_type": "stream",
     "text": [
      "Results for the first 100.000 quotes in year: 2014 \n",
      "\n",
      "meningitis\n",
      "\t 1\n",
      "lower respiratory infections\n",
      "\t 4\n",
      "intestinal infectious diseases\n",
      "\t 2\n",
      "protein-energy malnutrition\n",
      "\t 0\n",
      "terrorism\n",
      "\t 159\n",
      "cardiovascular diseases\n",
      "\t 36\n",
      "alzheimer disease and other dementias\n",
      "\t 15\n",
      "chronic kidney disease\n",
      "\t 3\n",
      "chronic respiratory diseases\n",
      "\t 10\n",
      "cirrhosis and other chronic liver diseases\n",
      "\t 0\n",
      "digestive diseases\n",
      "\t 1\n",
      "hepatitis\n",
      "\t 0\n",
      "neoplasms\n",
      "\t 0\n",
      "parkinson disease\n",
      "\t 0\n",
      "fire, heat, and hot substances\n",
      "\t 5\n",
      "malaria\n",
      "\t 5\n",
      "drowning\n",
      "\t 4\n",
      "interpersonal violence\n",
      "\t 46\n",
      "hiv/aids\n",
      "\t 37\n",
      "drug use disorders\n",
      "\t 5\n",
      "tuberculosis\n",
      "\t 2\n",
      "road injuries\n",
      "\t 13\n",
      "maternal disorders\n",
      "\t 16\n",
      "neonatal disorders\n",
      "\t 1\n",
      "alcohol use disorders\n",
      "\t 2\n",
      "exposure to forces of nature\n",
      "\t 25\n",
      "diarrheal diseases\n",
      "\t 2\n",
      "environmental heat and cold exposure\n",
      "\t 6\n",
      "nutritional deficiencies\n",
      "\t 3\n",
      "self-harm\n",
      "\t 2\n",
      "conflict and terrorism\n",
      "\t 381\n",
      "diabetes mellitus\n",
      "\t 16\n",
      "poisonings\n",
      "\t 5\n",
      "Elaborating file: quotes-2015.json.bz2\n"
     ]
    },
    {
     "name": "stderr",
     "output_type": "stream",
     "text": [
      "100000it [00:19, 5016.42it/s]\n",
      "591it [00:00, 3017.20it/s]"
     ]
    },
    {
     "name": "stdout",
     "output_type": "stream",
     "text": [
      "Results for the first 100.000 quotes in year: 2015 \n",
      "\n",
      "meningitis\n",
      "\t 1\n",
      "lower respiratory infections\n",
      "\t 4\n",
      "intestinal infectious diseases\n",
      "\t 2\n",
      "protein-energy malnutrition\n",
      "\t 0\n",
      "terrorism\n",
      "\t 177\n",
      "cardiovascular diseases\n",
      "\t 30\n",
      "alzheimer disease and other dementias\n",
      "\t 3\n",
      "chronic kidney disease\n",
      "\t 3\n",
      "chronic respiratory diseases\n",
      "\t 18\n",
      "cirrhosis and other chronic liver diseases\n",
      "\t 2\n",
      "digestive diseases\n",
      "\t 0\n",
      "hepatitis\n",
      "\t 0\n",
      "neoplasms\n",
      "\t 0\n",
      "parkinson disease\n",
      "\t 0\n",
      "fire, heat, and hot substances\n",
      "\t 1\n",
      "malaria\n",
      "\t 4\n",
      "drowning\n",
      "\t 5\n",
      "interpersonal violence\n",
      "\t 34\n",
      "hiv/aids\n",
      "\t 27\n",
      "drug use disorders\n",
      "\t 1\n",
      "tuberculosis\n",
      "\t 3\n",
      "road injuries\n",
      "\t 11\n",
      "maternal disorders\n",
      "\t 20\n",
      "neonatal disorders\n",
      "\t 1\n",
      "alcohol use disorders\n",
      "\t 2\n",
      "exposure to forces of nature\n",
      "\t 27\n",
      "diarrheal diseases\n",
      "\t 3\n",
      "environmental heat and cold exposure\n",
      "\t 10\n",
      "nutritional deficiencies\n",
      "\t 2\n",
      "self-harm\n",
      "\t 2\n",
      "conflict and terrorism\n",
      "\t 408\n",
      "diabetes mellitus\n",
      "\t 19\n",
      "poisonings\n",
      "\t 7\n",
      "Elaborating file: quotes-2016.json.bz2\n"
     ]
    },
    {
     "name": "stderr",
     "output_type": "stream",
     "text": [
      "100000it [00:25, 3953.21it/s]\n",
      "380it [00:00, 3795.56it/s]"
     ]
    },
    {
     "name": "stdout",
     "output_type": "stream",
     "text": [
      "Results for the first 100.000 quotes in year: 2016 \n",
      "\n",
      "meningitis\n",
      "\t 1\n",
      "lower respiratory infections\n",
      "\t 8\n",
      "intestinal infectious diseases\n",
      "\t 1\n",
      "protein-energy malnutrition\n",
      "\t 0\n",
      "terrorism\n",
      "\t 167\n",
      "cardiovascular diseases\n",
      "\t 39\n",
      "alzheimer disease and other dementias\n",
      "\t 14\n",
      "chronic kidney disease\n",
      "\t 0\n",
      "chronic respiratory diseases\n",
      "\t 9\n",
      "cirrhosis and other chronic liver diseases\n",
      "\t 0\n",
      "digestive diseases\n",
      "\t 4\n",
      "hepatitis\n",
      "\t 0\n",
      "neoplasms\n",
      "\t 0\n",
      "parkinson disease\n",
      "\t 1\n",
      "fire, heat, and hot substances\n",
      "\t 5\n",
      "malaria\n",
      "\t 5\n",
      "drowning\n",
      "\t 6\n",
      "interpersonal violence\n",
      "\t 27\n",
      "hiv/aids\n",
      "\t 32\n",
      "drug use disorders\n",
      "\t 5\n",
      "tuberculosis\n",
      "\t 3\n",
      "road injuries\n",
      "\t 11\n",
      "maternal disorders\n",
      "\t 10\n",
      "neonatal disorders\n",
      "\t 1\n",
      "alcohol use disorders\n",
      "\t 5\n",
      "exposure to forces of nature\n",
      "\t 18\n",
      "diarrheal diseases\n",
      "\t 1\n",
      "environmental heat and cold exposure\n",
      "\t 13\n",
      "nutritional deficiencies\n",
      "\t 3\n",
      "self-harm\n",
      "\t 3\n",
      "conflict and terrorism\n",
      "\t 381\n",
      "diabetes mellitus\n",
      "\t 9\n",
      "poisonings\n",
      "\t 3\n",
      "Elaborating file: quotes-2017.json.bz2\n"
     ]
    },
    {
     "name": "stderr",
     "output_type": "stream",
     "text": [
      "100000it [00:22, 4377.96it/s]\n"
     ]
    },
    {
     "name": "stdout",
     "output_type": "stream",
     "text": [
      "Results for the first 100.000 quotes in year: 2017 \n",
      "\n",
      "meningitis\n",
      "\t 2\n",
      "lower respiratory infections\n",
      "\t 4\n",
      "intestinal infectious diseases\n",
      "\t 1\n",
      "protein-energy malnutrition\n",
      "\t 0\n",
      "terrorism\n",
      "\t 122\n",
      "cardiovascular diseases\n",
      "\t 33\n",
      "alzheimer disease and other dementias\n",
      "\t 9\n",
      "chronic kidney disease\n",
      "\t 2\n",
      "chronic respiratory diseases\n",
      "\t 16\n",
      "cirrhosis and other chronic liver diseases\n",
      "\t 0\n",
      "digestive diseases\n",
      "\t 0\n",
      "hepatitis\n",
      "\t 0\n",
      "neoplasms\n",
      "\t 0\n",
      "parkinson disease\n",
      "\t 0\n",
      "fire, heat, and hot substances\n",
      "\t 1\n",
      "malaria\n",
      "\t 3\n",
      "drowning\n",
      "\t 5\n",
      "interpersonal violence\n",
      "\t 29\n",
      "hiv/aids\n",
      "\t 26\n",
      "drug use disorders\n",
      "\t 5\n",
      "tuberculosis\n",
      "\t 1\n",
      "road injuries\n",
      "\t 8\n",
      "maternal disorders\n",
      "\t 17\n",
      "neonatal disorders\n",
      "\t 3\n",
      "alcohol use disorders\n",
      "\t 5\n",
      "exposure to forces of nature\n",
      "\t 30\n",
      "diarrheal diseases\n",
      "\t 0\n",
      "environmental heat and cold exposure\n",
      "\t 9\n",
      "nutritional deficiencies\n",
      "\t 3\n",
      "self-harm\n",
      "\t 6\n",
      "conflict and terrorism\n",
      "\t 352\n",
      "diabetes mellitus\n",
      "\t 14\n",
      "poisonings\n",
      "\t 7\n"
     ]
    }
   ],
   "source": [
    "quotebank = QuoteBankData(\"Asymmetry of News\", [])\n",
    "quotebank.read_keywords_from_file()\n",
    "utils.create_directories_for_every_year()\n",
    "quotebank.create_json_dumps_filenames_for_each_keyword()\n",
    "quotation_classification()"
   ]
  },
  {
   "cell_type": "markdown",
   "source": [
    "To illustrate the results, we plot the number of quotes found for each issue in 2016"
   ],
   "metadata": {
    "collapsed": false,
    "pycharm": {
     "name": "#%% md\n"
    }
   }
  },
  {
   "cell_type": "code",
   "execution_count": null,
   "metadata": {
    "pycharm": {
     "is_executing": true
    }
   },
   "outputs": [],
   "source": [
    "occurences = list()\n",
    "x_labels=list()\n",
    "x_number = list()\n",
    "count = 0\n",
    "for keys in quotebank.keywords:\n",
    "    with open(keys.output_filenames[8], 'rU') as f:\n",
    "        keys.quotes = pd.read_json(keys.output_filenames[8], lines=True)\n",
    "    occurences.append(len(keys.quotes))\n",
    "    x_labels.append(keys.name)\n",
    "    x_number.append(count)\n",
    "    count += 1"
   ]
  },
  {
   "cell_type": "code",
   "execution_count": 8,
   "outputs": [
    {
     "data": {
      "text/plain": "<Figure size 432x288 with 1 Axes>",
      "image/png": "[encoded data removed]"
     },
     "metadata": {
      "needs_background": "light"
     },
     "output_type": "display_data"
    }
   ],
   "source": [
    "plt.bar(x_number, occurences, log = True)\n",
    "plt.xticks(x_number, x_labels)\n",
    "plt.xticks(rotation=90)\n",
    "plt.title(\"Number of occurences per topic in 2016\")\n",
    "plt.xlabel(\"Topics\")\n",
    "plt.ylabel(\"Number of occurences\")\n",
    "plt.show()"
   ],
   "metadata": {
    "collapsed": false,
    "pycharm": {
     "name": "#%%\n"
    }
   }
  },
  {
   "cell_type": "code",
   "execution_count": 9,
   "metadata": {},
   "outputs": [],
   "source": [
    "def freq_per_month(df):\n",
    "    freqs = np.zeros(12)\n",
    "    for i in range(12):\n",
    "        freqs[i] = np.sum(df[\"date\"].dt.month == i+1)\n",
    "    return freqs"
   ]
  },
  {
   "cell_type": "code",
   "execution_count": 12,
   "metadata": {},
   "outputs": [
    {
     "data": {
      "text/plain": "<Figure size 432x288 with 1 Axes>",
      "image/png": "[encoded data removed]"
     },
     "metadata": {
      "needs_background": "light"
     },
     "output_type": "display_data"
    }
   ],
   "source": [
    "all_freq = list()\n",
    "for keys in quotebank.keywords:\n",
    "    if not keys.quotes.empty:\n",
    "        all_freq.append(freq_per_month(keys.quotes))\n",
    "    else:\n",
    "        all_freq.append(np.zeros(12))\n",
    "df = pd.DataFrame(all_freq)\n",
    "\n",
    "plt.plot(np.sum(df))\n",
    "plt.title(\"Number of topic quotes found throughout the year 2016\")\n",
    "plt.show()"
   ]
  },
  {
   "cell_type": "markdown",
   "metadata": {},
   "source": [
    "# Population data preprocessing\n",
    "This is population data from the UN, which we might use in combination with the Our World in Data datasets to get a more realistic understanding of the relative deaths each year."
   ]
  },
  {
   "cell_type": "code",
   "execution_count": 13,
   "metadata": {},
   "outputs": [
    {
     "data": {
      "text/plain": "        LocID     Location  VarID      Variant  Time  MidPeriod    PopMale  \\\n0           4  Afghanistan      2       Medium  1950     1950.5   4099.243   \n1           4  Afghanistan      2       Medium  1951     1951.5   4134.756   \n2           4  Afghanistan      2       Medium  1952     1952.5   4174.450   \n3           4  Afghanistan      2       Medium  1953     1953.5   4218.336   \n4           4  Afghanistan      2       Medium  1954     1954.5   4266.484   \n...       ...          ...    ...          ...   ...        ...        ...   \n280927    716     Zimbabwe    207  Lower 95 PI  2080     2080.5  10576.533   \n280928    716     Zimbabwe    207  Lower 95 PI  2085     2085.5  10293.349   \n280929    716     Zimbabwe    207  Lower 95 PI  2090     2090.5   9920.336   \n280930    716     Zimbabwe    207  Lower 95 PI  2095     2095.5   9503.711   \n280931    716     Zimbabwe    207  Lower 95 PI  2100     2100.5   9090.075   \n\n        PopFemale   PopTotal  PopDensity  \n0        3652.874   7752.117      11.874  \n1        3705.395   7840.151      12.009  \n2        3761.546   7935.996      12.156  \n3        3821.348   8039.684      12.315  \n4        3884.832   8151.316      12.486  \n...           ...        ...         ...  \n280927  11255.983  21836.893      56.448  \n280928  11050.875  21355.988      55.205  \n280929  10767.709  20689.956      53.483  \n280930  10412.184  19892.080      51.421  \n280931   9996.105  19061.177      49.273  \n\n[280932 rows x 10 columns]",
      "text/html": "<div>\n<style scoped>\n    .dataframe tbody tr th:only-of-type {\n        vertical-align: middle;\n    }\n\n    .dataframe tbody tr th {\n        vertical-align: top;\n    }\n\n    .dataframe thead th {\n        text-align: right;\n    }\n</style>\n<table border=\"1\" class=\"dataframe\">\n  <thead>\n    <tr style=\"text-align: right;\">\n      <th></th>\n      <th>LocID</th>\n      <th>Location</th>\n      <th>VarID</th>\n      <th>Variant</th>\n      <th>Time</th>\n      <th>MidPeriod</th>\n      <th>PopMale</th>\n      <th>PopFemale</th>\n      <th>PopTotal</th>\n      <th>PopDensity</th>\n    </tr>\n  </thead>\n  <tbody>\n    <tr>\n      <th>0</th>\n      <td>4</td>\n      <td>Afghanistan</td>\n      <td>2</td>\n      <td>Medium</td>\n      <td>1950</td>\n      <td>1950.5</td>\n      <td>4099.243</td>\n      <td>3652.874</td>\n      <td>7752.117</td>\n      <td>11.874</td>\n    </tr>\n    <tr>\n      <th>1</th>\n      <td>4</td>\n      <td>Afghanistan</td>\n      <td>2</td>\n      <td>Medium</td>\n      <td>1951</td>\n      <td>1951.5</td>\n      <td>4134.756</td>\n      <td>3705.395</td>\n      <td>7840.151</td>\n      <td>12.009</td>\n    </tr>\n    <tr>\n      <th>2</th>\n      <td>4</td>\n      <td>Afghanistan</td>\n      <td>2</td>\n      <td>Medium</td>\n      <td>1952</td>\n      <td>1952.5</td>\n      <td>4174.450</td>\n      <td>3761.546</td>\n      <td>7935.996</td>\n      <td>12.156</td>\n    </tr>\n    <tr>\n      <th>3</th>\n      <td>4</td>\n      <td>Afghanistan</td>\n      <td>2</td>\n      <td>Medium</td>\n      <td>1953</td>\n      <td>1953.5</td>\n      <td>4218.336</td>\n      <td>3821.348</td>\n      <td>8039.684</td>\n      <td>12.315</td>\n    </tr>\n    <tr>\n      <th>4</th>\n      <td>4</td>\n      <td>Afghanistan</td>\n      <td>2</td>\n      <td>Medium</td>\n      <td>1954</td>\n      <td>1954.5</td>\n      <td>4266.484</td>\n      <td>3884.832</td>\n      <td>8151.316</td>\n      <td>12.486</td>\n    </tr>\n    <tr>\n      <th>...</th>\n      <td>...</td>\n      <td>...</td>\n      <td>...</td>\n      <td>...</td>\n      <td>...</td>\n      <td>...</td>\n      <td>...</td>\n      <td>...</td>\n      <td>...</td>\n      <td>...</td>\n    </tr>\n    <tr>\n      <th>280927</th>\n      <td>716</td>\n      <td>Zimbabwe</td>\n      <td>207</td>\n      <td>Lower 95 PI</td>\n      <td>2080</td>\n      <td>2080.5</td>\n      <td>10576.533</td>\n      <td>11255.983</td>\n      <td>21836.893</td>\n      <td>56.448</td>\n    </tr>\n    <tr>\n      <th>280928</th>\n      <td>716</td>\n      <td>Zimbabwe</td>\n      <td>207</td>\n      <td>Lower 95 PI</td>\n      <td>2085</td>\n      <td>2085.5</td>\n      <td>10293.349</td>\n      <td>11050.875</td>\n      <td>21355.988</td>\n      <td>55.205</td>\n    </tr>\n    <tr>\n      <th>280929</th>\n      <td>716</td>\n      <td>Zimbabwe</td>\n      <td>207</td>\n      <td>Lower 95 PI</td>\n      <td>2090</td>\n      <td>2090.5</td>\n      <td>9920.336</td>\n      <td>10767.709</td>\n      <td>20689.956</td>\n      <td>53.483</td>\n    </tr>\n    <tr>\n      <th>280930</th>\n      <td>716</td>\n      <td>Zimbabwe</td>\n      <td>207</td>\n      <td>Lower 95 PI</td>\n      <td>2095</td>\n      <td>2095.5</td>\n      <td>9503.711</td>\n      <td>10412.184</td>\n      <td>19892.080</td>\n      <td>51.421</td>\n    </tr>\n    <tr>\n      <th>280931</th>\n      <td>716</td>\n      <td>Zimbabwe</td>\n      <td>207</td>\n      <td>Lower 95 PI</td>\n      <td>2100</td>\n      <td>2100.5</td>\n      <td>9090.075</td>\n      <td>9996.105</td>\n      <td>19061.177</td>\n      <td>49.273</td>\n    </tr>\n  </tbody>\n</table>\n<p>280932 rows × 10 columns</p>\n</div>"
     },
     "execution_count": 13,
     "metadata": {},
     "output_type": "execute_result"
    }
   ],
   "source": [
    "population_path = DATA_PATH + \"annual_population_data.csv\"\n",
    "raw_population_df = pd.read_csv(population_path)\n",
    "raw_population_df"
   ]
  },
  {
   "cell_type": "markdown",
   "metadata": {},
   "source": [
    "Extracting world population in millions from 2008 to 2017"
   ]
  },
  {
   "cell_type": "code",
   "execution_count": 14,
   "metadata": {},
   "outputs": [
    {
     "data": {
      "text/plain": "   Year  World population millions\n0  2008                6789.088672\n1  2009                6872.766988\n2  2010                6956.823588\n3  2011                7041.194168\n4  2012                7125.827957\n5  2013                7210.582041\n6  2014                7295.290759\n7  2015                7379.796967\n8  2016                7464.021934\n9  2017                7547.858900",
      "text/html": "<div>\n<style scoped>\n    .dataframe tbody tr th:only-of-type {\n        vertical-align: middle;\n    }\n\n    .dataframe tbody tr th {\n        vertical-align: top;\n    }\n\n    .dataframe thead th {\n        text-align: right;\n    }\n</style>\n<table border=\"1\" class=\"dataframe\">\n  <thead>\n    <tr style=\"text-align: right;\">\n      <th></th>\n      <th>Year</th>\n      <th>World population millions</th>\n    </tr>\n  </thead>\n  <tbody>\n    <tr>\n      <th>0</th>\n      <td>2008</td>\n      <td>6789.088672</td>\n    </tr>\n    <tr>\n      <th>1</th>\n      <td>2009</td>\n      <td>6872.766988</td>\n    </tr>\n    <tr>\n      <th>2</th>\n      <td>2010</td>\n      <td>6956.823588</td>\n    </tr>\n    <tr>\n      <th>3</th>\n      <td>2011</td>\n      <td>7041.194168</td>\n    </tr>\n    <tr>\n      <th>4</th>\n      <td>2012</td>\n      <td>7125.827957</td>\n    </tr>\n    <tr>\n      <th>5</th>\n      <td>2013</td>\n      <td>7210.582041</td>\n    </tr>\n    <tr>\n      <th>6</th>\n      <td>2014</td>\n      <td>7295.290759</td>\n    </tr>\n    <tr>\n      <th>7</th>\n      <td>2015</td>\n      <td>7379.796967</td>\n    </tr>\n    <tr>\n      <th>8</th>\n      <td>2016</td>\n      <td>7464.021934</td>\n    </tr>\n    <tr>\n      <th>9</th>\n      <td>2017</td>\n      <td>7547.858900</td>\n    </tr>\n  </tbody>\n</table>\n</div>"
     },
     "execution_count": 14,
     "metadata": {},
     "output_type": "execute_result"
    }
   ],
   "source": [
    "population_df = raw_population_df[(raw_population_df[\"Location\"] == \"World\") & (raw_population_df[\"Time\"] > 2007) & (raw_population_df[\"Time\"] < 2018)]\n",
    "population_df = population_df[[\"Time\", \"PopTotal\"]].reset_index(drop=True)\n",
    "population_df[\"PopTotal\"] = population_df[\"PopTotal\"].apply(lambda x: x/1000)\n",
    "population_df = population_df.rename(columns = {\"Time\": \"Year\", \"PopTotal\": \"World population millions\"})\n",
    "population_df"
   ]
  },
  {
   "cell_type": "markdown",
   "metadata": {},
   "source": [
    "# Our World in Data preprocessing"
   ]
  },
  {
   "cell_type": "markdown",
   "metadata": {},
   "source": [
    "This part of the notebook is more exploratory. We wanted to preprocess and look at the two main datasets form Our World in Data to be sure that the project is possible to do. "
   ]
  },
  {
   "cell_type": "markdown",
   "metadata": {},
   "source": [
    "## Fetch and read data"
   ]
  },
  {
   "cell_type": "code",
   "execution_count": 15,
   "metadata": {},
   "outputs": [
    {
     "data": {
      "text/plain": "           Entity Code  Year Number of executions (Amnesty International)  \\\n0     Afghanistan  AFG  2007                                           15   \n1     Afghanistan  AFG  2008                                           17   \n2     Afghanistan  AFG  2009                                            0   \n3     Afghanistan  AFG  2011                                            2   \n4     Afghanistan  AFG  2012                                           14   \n...           ...  ...   ...                                          ...   \n6681     Zimbabwe  ZWE  2013                                          NaN   \n6682     Zimbabwe  ZWE  2014                                          NaN   \n6683     Zimbabwe  ZWE  2015                                          NaN   \n6684     Zimbabwe  ZWE  2016                                          NaN   \n6685     Zimbabwe  ZWE  2017                                          NaN   \n\n      Deaths - Meningitis - Sex: Both - Age: All Ages (Number)  \\\n0                                           9121.085992          \n1                                           8387.057275          \n2                                           7318.273004          \n3                                           6919.757958          \n4                                           6631.942601          \n...                                                 ...          \n6681                                        1820.090331          \n6682                                        1769.993458          \n6683                                        1728.691503          \n6684                                        1703.437894          \n6685                                        1677.007331          \n\n      Deaths - Lower respiratory infections - Sex: Both - Age: All Ages (Number)  \\\n0                                          29066.442137                            \n1                                          26623.480551                            \n2                                          24792.335792                            \n3                                          23115.144836                            \n4                                          22155.754481                            \n...                                                 ...                            \n6681                                       13108.151347                            \n6682                                       12841.510671                            \n6683                                       12637.728613                            \n6684                                       12495.147292                            \n6685                                       12369.654705                            \n\n      Deaths - Intestinal infectious diseases - Sex: Both - Age: All Ages (Number)  \\\n0                                            461.195202                              \n1                                            437.718960                              \n2                                            415.776634                              \n3                                            299.758258                              \n4                                            302.255411                              \n...                                                 ...                              \n6681                                          25.015658                              \n6682                                          25.623337                              \n6683                                          25.415872                              \n6684                                          25.752116                              \n6685                                                NaN                              \n\n      Deaths - Protein-energy malnutrition - Sex: Both - Age: All Ages (Number)  \\\n0                                           1846.996686                           \n1                                           1681.270324                           \n2                                           1568.095029                           \n3                                           1468.203744                           \n4                                           1406.214788                           \n...                                                 ...                           \n6681                                        3507.171892                           \n6682                                        3380.319464                           \n6683                                        3263.941226                           \n6684                                        3188.723249                           \n6685                                        3111.873502                           \n\n      Terrorism (deaths)  \\\n0                 1199.0   \n1                 1092.0   \n2                 1065.0   \n3                 1525.0   \n4                 3521.0   \n...                  ...   \n6681                 1.0   \n6682                 0.0   \n6683                 NaN   \n6684                 NaN   \n6685                 0.0   \n\n      Deaths - Cardiovascular diseases - Sex: Both - Age: All Ages (Number)  \\\n0                                          53532.680495                       \n1                                          53402.322328                       \n2                                          53024.450772                       \n3                                          52815.737495                       \n4                                          52961.704530                       \n...                                                 ...                       \n6681                                       16900.858090                       \n6682                                       16755.843066                       \n6683                                       16691.109079                       \n6684                                       16781.946571                       \n6685                                       16976.902369                       \n\n      ...  Deaths - Neonatal disorders - Sex: Both - Age: All Ages (Number)  \\\n0     ...                                       28477.081107                  \n1     ...                                       28234.015837                  \n2     ...                                       27897.481121                  \n3     ...                                       27198.628720                  \n4     ...                                       26830.686222                  \n...   ...                                                ...                  \n6681  ...                                        9439.290155                  \n6682  ...                                        9106.657298                  \n6683  ...                                        8887.033499                  \n6684  ...                                        8653.776455                  \n6685  ...                                        8411.915534                  \n\n      Deaths - Alcohol use disorders - Sex: Both - Age: All Ages (Number)  \\\n0                                             96.027592                     \n1                                             98.308461                     \n2                                            100.088778                     \n3                                            105.565020                     \n4                                            108.281688                     \n...                                                 ...                     \n6681                                          73.649954                     \n6682                                          73.460128                     \n6683                                          74.605887                     \n6684                                          75.907792                     \n6685                                          77.192339                     \n\n      Deaths - Exposure to forces of nature - Sex: Both - Age: All Ages (Number)  \\\n0                                            296.000026                            \n1                                              0.000000                            \n2                                            101.000000                            \n3                                             62.000000                            \n4                                            333.000006                            \n...                                                 ...                            \n6681                                         125.000002                            \n6682                                           8.500000                            \n6683                                          15.500000                            \n6684                                          31.000000                            \n6685                                           0.000000                            \n\n      Deaths - Diarrheal diseases - Sex: Both - Age: All Ages (Number)  \\\n0                                          10366.124292                  \n1                                           8994.815981                  \n2                                           7996.529795                  \n3                                           7053.113394                  \n4                                           6577.552474                  \n...                                                 ...                  \n6681                                        5129.483596                  \n6682                                        4946.075661                  \n6683                                        4737.642966                  \n6684                                        4602.100769                  \n6685                                        4602.593760                  \n\n      Deaths - Environmental heat and cold exposure - Sex: Both - Age: All Ages (Number)  \\\n0                                            160.930121                                    \n1                                            156.860722                                    \n2                                            152.144044                                    \n3                                            150.311602                                    \n4                                            193.388959                                    \n...                                                 ...                                    \n6681                                          44.403541                                    \n6682                                          43.073231                                    \n6683                                          42.139866                                    \n6684                                          41.675497                                    \n6685                                          41.433611                                    \n\n      Deaths - Nutritional deficiencies - Sex: Both - Age: All Ages (Number)  \\\n0                                           1941.282198                        \n1                                           1765.980756                        \n2                                           1647.863334                        \n3                                           1543.182842                        \n4                                           1478.263352                        \n...                                                 ...                        \n6681                                        3557.450127                        \n6682                                        3428.811706                        \n6683                                        3310.899062                        \n6684                                        3235.070735                        \n6685                                        3157.591804                        \n\n      Deaths - Self-harm - Sex: Both - Age: All Ages (Number)  \\\n0                                           1378.571549         \n1                                           1411.783229         \n2                                           1428.808015         \n3                                           1496.192418         \n4                                           1528.384710         \n...                                                 ...         \n6681                                        2561.496069         \n6682                                        2554.170577         \n6683                                        2583.031015         \n6684                                        2619.243794         \n6685                                        2647.468528         \n\n      Deaths - Conflict and terrorism - Sex: Both - Age: All Ages (Number)  \\\n0                                           8216.000975                      \n1                                           6748.999931                      \n2                                           7562.996178                      \n3                                           9061.000023                      \n4                                          11332.990002                      \n...                                                 ...                      \n6681                                           7.000000                      \n6682                                           3.000000                      \n6683                                          12.000000                      \n6684                                           6.000000                      \n6685                                           5.000000                      \n\n      Deaths - Diabetes mellitus - Sex: Both - Age: All Ages (Number)  \\\n0                                           4691.007199                 \n1                                           4750.240999                 \n2                                           4784.225283                 \n3                                           4954.293898                 \n4                                           5075.765738                 \n...                                                 ...                 \n6681                                        2599.112561                 \n6682                                        2625.681137                 \n6683                                        2657.480378                 \n6684                                        2712.995017                 \n6685                                        2746.739645                 \n\n      Deaths - Poisonings - Sex: Both - Age: All Ages (Number)  \n0                                            305.207239         \n1                                            300.246001         \n2                                            295.413907         \n3                                            311.997686         \n4                                            316.256517         \n...                                                 ...         \n6681                                         410.802638         \n6682                                         406.351616         \n6683                                         404.641729         \n6684                                         405.940831         \n6685                                         405.377266         \n\n[6686 rows x 37 columns]",
      "text/html": "<div>\n<style scoped>\n    .dataframe tbody tr th:only-of-type {\n        vertical-align: middle;\n    }\n\n    .dataframe tbody tr th {\n        vertical-align: top;\n    }\n\n    .dataframe thead th {\n        text-align: right;\n    }\n</style>\n<table border=\"1\" class=\"dataframe\">\n  <thead>\n    <tr style=\"text-align: right;\">\n      <th></th>\n      <th>Entity</th>\n      <th>Code</th>\n      <th>Year</th>\n      <th>Number of executions (Amnesty International)</th>\n      <th>Deaths - Meningitis - Sex: Both - Age: All Ages (Number)</th>\n      <th>Deaths - Lower respiratory infections - Sex: Both - Age: All Ages (Number)</th>\n      <th>Deaths - Intestinal infectious diseases - Sex: Both - Age: All Ages (Number)</th>\n      <th>Deaths - Protein-energy malnutrition - Sex: Both - Age: All Ages (Number)</th>\n      <th>Terrorism (deaths)</th>\n      <th>Deaths - Cardiovascular diseases - Sex: Both - Age: All Ages (Number)</th>\n      <th>...</th>\n      <th>Deaths - Neonatal disorders - Sex: Both - Age: All Ages (Number)</th>\n      <th>Deaths - Alcohol use disorders - Sex: Both - Age: All Ages (Number)</th>\n      <th>Deaths - Exposure to forces of nature - Sex: Both - Age: All Ages (Number)</th>\n      <th>Deaths - Diarrheal diseases - Sex: Both - Age: All Ages (Number)</th>\n      <th>Deaths - Environmental heat and cold exposure - Sex: Both - Age: All Ages (Number)</th>\n      <th>Deaths - Nutritional deficiencies - Sex: Both - Age: All Ages (Number)</th>\n      <th>Deaths - Self-harm - Sex: Both - Age: All Ages (Number)</th>\n      <th>Deaths - Conflict and terrorism - Sex: Both - Age: All Ages (Number)</th>\n      <th>Deaths - Diabetes mellitus - Sex: Both - Age: All Ages (Number)</th>\n      <th>Deaths - Poisonings - Sex: Both - Age: All Ages (Number)</th>\n    </tr>\n  </thead>\n  <tbody>\n    <tr>\n      <th>0</th>\n      <td>Afghanistan</td>\n      <td>AFG</td>\n      <td>2007</td>\n      <td>15</td>\n      <td>9121.085992</td>\n      <td>29066.442137</td>\n      <td>461.195202</td>\n      <td>1846.996686</td>\n      <td>1199.0</td>\n      <td>53532.680495</td>\n      <td>...</td>\n      <td>28477.081107</td>\n      <td>96.027592</td>\n      <td>296.000026</td>\n      <td>10366.124292</td>\n      <td>160.930121</td>\n      <td>1941.282198</td>\n      <td>1378.571549</td>\n      <td>8216.000975</td>\n      <td>4691.007199</td>\n      <td>305.207239</td>\n    </tr>\n    <tr>\n      <th>1</th>\n      <td>Afghanistan</td>\n      <td>AFG</td>\n      <td>2008</td>\n      <td>17</td>\n      <td>8387.057275</td>\n      <td>26623.480551</td>\n      <td>437.718960</td>\n      <td>1681.270324</td>\n      <td>1092.0</td>\n      <td>53402.322328</td>\n      <td>...</td>\n      <td>28234.015837</td>\n      <td>98.308461</td>\n      <td>0.000000</td>\n      <td>8994.815981</td>\n      <td>156.860722</td>\n      <td>1765.980756</td>\n      <td>1411.783229</td>\n      <td>6748.999931</td>\n      <td>4750.240999</td>\n      <td>300.246001</td>\n    </tr>\n    <tr>\n      <th>2</th>\n      <td>Afghanistan</td>\n      <td>AFG</td>\n      <td>2009</td>\n      <td>0</td>\n      <td>7318.273004</td>\n      <td>24792.335792</td>\n      <td>415.776634</td>\n      <td>1568.095029</td>\n      <td>1065.0</td>\n      <td>53024.450772</td>\n      <td>...</td>\n      <td>27897.481121</td>\n      <td>100.088778</td>\n      <td>101.000000</td>\n      <td>7996.529795</td>\n      <td>152.144044</td>\n      <td>1647.863334</td>\n      <td>1428.808015</td>\n      <td>7562.996178</td>\n      <td>4784.225283</td>\n      <td>295.413907</td>\n    </tr>\n    <tr>\n      <th>3</th>\n      <td>Afghanistan</td>\n      <td>AFG</td>\n      <td>2011</td>\n      <td>2</td>\n      <td>6919.757958</td>\n      <td>23115.144836</td>\n      <td>299.758258</td>\n      <td>1468.203744</td>\n      <td>1525.0</td>\n      <td>52815.737495</td>\n      <td>...</td>\n      <td>27198.628720</td>\n      <td>105.565020</td>\n      <td>62.000000</td>\n      <td>7053.113394</td>\n      <td>150.311602</td>\n      <td>1543.182842</td>\n      <td>1496.192418</td>\n      <td>9061.000023</td>\n      <td>4954.293898</td>\n      <td>311.997686</td>\n    </tr>\n    <tr>\n      <th>4</th>\n      <td>Afghanistan</td>\n      <td>AFG</td>\n      <td>2012</td>\n      <td>14</td>\n      <td>6631.942601</td>\n      <td>22155.754481</td>\n      <td>302.255411</td>\n      <td>1406.214788</td>\n      <td>3521.0</td>\n      <td>52961.704530</td>\n      <td>...</td>\n      <td>26830.686222</td>\n      <td>108.281688</td>\n      <td>333.000006</td>\n      <td>6577.552474</td>\n      <td>193.388959</td>\n      <td>1478.263352</td>\n      <td>1528.384710</td>\n      <td>11332.990002</td>\n      <td>5075.765738</td>\n      <td>316.256517</td>\n    </tr>\n    <tr>\n      <th>...</th>\n      <td>...</td>\n      <td>...</td>\n      <td>...</td>\n      <td>...</td>\n      <td>...</td>\n      <td>...</td>\n      <td>...</td>\n      <td>...</td>\n      <td>...</td>\n      <td>...</td>\n      <td>...</td>\n      <td>...</td>\n      <td>...</td>\n      <td>...</td>\n      <td>...</td>\n      <td>...</td>\n      <td>...</td>\n      <td>...</td>\n      <td>...</td>\n      <td>...</td>\n      <td>...</td>\n    </tr>\n    <tr>\n      <th>6681</th>\n      <td>Zimbabwe</td>\n      <td>ZWE</td>\n      <td>2013</td>\n      <td>NaN</td>\n      <td>1820.090331</td>\n      <td>13108.151347</td>\n      <td>25.015658</td>\n      <td>3507.171892</td>\n      <td>1.0</td>\n      <td>16900.858090</td>\n      <td>...</td>\n      <td>9439.290155</td>\n      <td>73.649954</td>\n      <td>125.000002</td>\n      <td>5129.483596</td>\n      <td>44.403541</td>\n      <td>3557.450127</td>\n      <td>2561.496069</td>\n      <td>7.000000</td>\n      <td>2599.112561</td>\n      <td>410.802638</td>\n    </tr>\n    <tr>\n      <th>6682</th>\n      <td>Zimbabwe</td>\n      <td>ZWE</td>\n      <td>2014</td>\n      <td>NaN</td>\n      <td>1769.993458</td>\n      <td>12841.510671</td>\n      <td>25.623337</td>\n      <td>3380.319464</td>\n      <td>0.0</td>\n      <td>16755.843066</td>\n      <td>...</td>\n      <td>9106.657298</td>\n      <td>73.460128</td>\n      <td>8.500000</td>\n      <td>4946.075661</td>\n      <td>43.073231</td>\n      <td>3428.811706</td>\n      <td>2554.170577</td>\n      <td>3.000000</td>\n      <td>2625.681137</td>\n      <td>406.351616</td>\n    </tr>\n    <tr>\n      <th>6683</th>\n      <td>Zimbabwe</td>\n      <td>ZWE</td>\n      <td>2015</td>\n      <td>NaN</td>\n      <td>1728.691503</td>\n      <td>12637.728613</td>\n      <td>25.415872</td>\n      <td>3263.941226</td>\n      <td>NaN</td>\n      <td>16691.109079</td>\n      <td>...</td>\n      <td>8887.033499</td>\n      <td>74.605887</td>\n      <td>15.500000</td>\n      <td>4737.642966</td>\n      <td>42.139866</td>\n      <td>3310.899062</td>\n      <td>2583.031015</td>\n      <td>12.000000</td>\n      <td>2657.480378</td>\n      <td>404.641729</td>\n    </tr>\n    <tr>\n      <th>6684</th>\n      <td>Zimbabwe</td>\n      <td>ZWE</td>\n      <td>2016</td>\n      <td>NaN</td>\n      <td>1703.437894</td>\n      <td>12495.147292</td>\n      <td>25.752116</td>\n      <td>3188.723249</td>\n      <td>NaN</td>\n      <td>16781.946571</td>\n      <td>...</td>\n      <td>8653.776455</td>\n      <td>75.907792</td>\n      <td>31.000000</td>\n      <td>4602.100769</td>\n      <td>41.675497</td>\n      <td>3235.070735</td>\n      <td>2619.243794</td>\n      <td>6.000000</td>\n      <td>2712.995017</td>\n      <td>405.940831</td>\n    </tr>\n    <tr>\n      <th>6685</th>\n      <td>Zimbabwe</td>\n      <td>ZWE</td>\n      <td>2017</td>\n      <td>NaN</td>\n      <td>1677.007331</td>\n      <td>12369.654705</td>\n      <td>NaN</td>\n      <td>3111.873502</td>\n      <td>0.0</td>\n      <td>16976.902369</td>\n      <td>...</td>\n      <td>8411.915534</td>\n      <td>77.192339</td>\n      <td>0.000000</td>\n      <td>4602.593760</td>\n      <td>41.433611</td>\n      <td>3157.591804</td>\n      <td>2647.468528</td>\n      <td>5.000000</td>\n      <td>2746.739645</td>\n      <td>405.377266</td>\n    </tr>\n  </tbody>\n</table>\n<p>6686 rows × 37 columns</p>\n</div>"
     },
     "execution_count": 15,
     "metadata": {},
     "output_type": "execute_result"
    }
   ],
   "source": [
    "death_by_cause_path = DATA_PATH + \"annual_number_of_deaths_by_cause.csv\"\n",
    "raw_death_by_cause_df = pd.read_csv(death_by_cause_path)\n",
    "raw_death_by_cause_df"
   ]
  },
  {
   "cell_type": "code",
   "execution_count": 16,
   "metadata": {},
   "outputs": [
    {
     "data": {
      "text/plain": "           Entity Code  Year  \\\n0     Afghanistan  AFG  1990   \n1     Afghanistan  AFG  1991   \n2     Afghanistan  AFG  1992   \n3     Afghanistan  AFG  1993   \n4     Afghanistan  AFG  1994   \n...           ...  ...   ...   \n6463     Zimbabwe  ZWE  2013   \n6464     Zimbabwe  ZWE  2014   \n6465     Zimbabwe  ZWE  2015   \n6466     Zimbabwe  ZWE  2016   \n6467     Zimbabwe  ZWE  2017   \n\n      Deaths - Non-communicable diseases - Sex: Both - Age: All Ages (Number)  \\\n0                                          84698.000146                         \n1                                          85229.762662                         \n2                                          88069.819403                         \n3                                          93620.091979                         \n4                                          97706.825332                         \n...                                                 ...                         \n6463                                       43813.657226                         \n6464                                       43708.402562                         \n6465                                       43853.733855                         \n6466                                       44364.468727                         \n6467                                       44899.862604                         \n\n      Deaths - Communicable, maternal, neonatal, and nutritional diseases - Sex: Both - Age: All Ages (Number)  \\\n0                                          96900.718949                                                          \n1                                          96602.102786                                                          \n2                                         101159.624044                                                          \n3                                         121749.085174                                                          \n4                                         134449.823769                                                          \n...                                                 ...                                                          \n6463                                       82444.005046                                                          \n6464                                       73746.515011                                                          \n6465                                       68742.793671                                                          \n6466                                       65173.657699                                                          \n6467                                       61968.409469                                                          \n\n      Deaths - Injuries - Sex: Both - Age: All Ages (Number)  \n0                                          14465.379030       \n1                                          18036.000741       \n2                                          19609.459028       \n3                                          21277.916078       \n4                                          28059.538434       \n...                                                 ...       \n6463                                       10900.259416       \n6464                                       10656.544622       \n6465                                       10680.832731       \n6466                                       10735.347076       \n6467                                       10759.260473       \n\n[6468 rows x 6 columns]",
      "text/html": "<div>\n<style scoped>\n    .dataframe tbody tr th:only-of-type {\n        vertical-align: middle;\n    }\n\n    .dataframe tbody tr th {\n        vertical-align: top;\n    }\n\n    .dataframe thead th {\n        text-align: right;\n    }\n</style>\n<table border=\"1\" class=\"dataframe\">\n  <thead>\n    <tr style=\"text-align: right;\">\n      <th></th>\n      <th>Entity</th>\n      <th>Code</th>\n      <th>Year</th>\n      <th>Deaths - Non-communicable diseases - Sex: Both - Age: All Ages (Number)</th>\n      <th>Deaths - Communicable, maternal, neonatal, and nutritional diseases - Sex: Both - Age: All Ages (Number)</th>\n      <th>Deaths - Injuries - Sex: Both - Age: All Ages (Number)</th>\n    </tr>\n  </thead>\n  <tbody>\n    <tr>\n      <th>0</th>\n      <td>Afghanistan</td>\n      <td>AFG</td>\n      <td>1990</td>\n      <td>84698.000146</td>\n      <td>96900.718949</td>\n      <td>14465.379030</td>\n    </tr>\n    <tr>\n      <th>1</th>\n      <td>Afghanistan</td>\n      <td>AFG</td>\n      <td>1991</td>\n      <td>85229.762662</td>\n      <td>96602.102786</td>\n      <td>18036.000741</td>\n    </tr>\n    <tr>\n      <th>2</th>\n      <td>Afghanistan</td>\n      <td>AFG</td>\n      <td>1992</td>\n      <td>88069.819403</td>\n      <td>101159.624044</td>\n      <td>19609.459028</td>\n    </tr>\n    <tr>\n      <th>3</th>\n      <td>Afghanistan</td>\n      <td>AFG</td>\n      <td>1993</td>\n      <td>93620.091979</td>\n      <td>121749.085174</td>\n      <td>21277.916078</td>\n    </tr>\n    <tr>\n      <th>4</th>\n      <td>Afghanistan</td>\n      <td>AFG</td>\n      <td>1994</td>\n      <td>97706.825332</td>\n      <td>134449.823769</td>\n      <td>28059.538434</td>\n    </tr>\n    <tr>\n      <th>...</th>\n      <td>...</td>\n      <td>...</td>\n      <td>...</td>\n      <td>...</td>\n      <td>...</td>\n      <td>...</td>\n    </tr>\n    <tr>\n      <th>6463</th>\n      <td>Zimbabwe</td>\n      <td>ZWE</td>\n      <td>2013</td>\n      <td>43813.657226</td>\n      <td>82444.005046</td>\n      <td>10900.259416</td>\n    </tr>\n    <tr>\n      <th>6464</th>\n      <td>Zimbabwe</td>\n      <td>ZWE</td>\n      <td>2014</td>\n      <td>43708.402562</td>\n      <td>73746.515011</td>\n      <td>10656.544622</td>\n    </tr>\n    <tr>\n      <th>6465</th>\n      <td>Zimbabwe</td>\n      <td>ZWE</td>\n      <td>2015</td>\n      <td>43853.733855</td>\n      <td>68742.793671</td>\n      <td>10680.832731</td>\n    </tr>\n    <tr>\n      <th>6466</th>\n      <td>Zimbabwe</td>\n      <td>ZWE</td>\n      <td>2016</td>\n      <td>44364.468727</td>\n      <td>65173.657699</td>\n      <td>10735.347076</td>\n    </tr>\n    <tr>\n      <th>6467</th>\n      <td>Zimbabwe</td>\n      <td>ZWE</td>\n      <td>2017</td>\n      <td>44899.862604</td>\n      <td>61968.409469</td>\n      <td>10759.260473</td>\n    </tr>\n  </tbody>\n</table>\n<p>6468 rows × 6 columns</p>\n</div>"
     },
     "execution_count": 16,
     "metadata": {},
     "output_type": "execute_result"
    }
   ],
   "source": [
    "death_by_category_path = DATA_PATH + \"categorized_annual_number_of_deaths.csv\"\n",
    "raw_death_by_category_df = pd.read_csv(death_by_category_path)\n",
    "raw_death_by_category_df"
   ]
  },
  {
   "cell_type": "markdown",
   "metadata": {},
   "source": [
    "## Preprocess data"
   ]
  },
  {
   "cell_type": "code",
   "execution_count": 17,
   "metadata": {},
   "outputs": [],
   "source": [
    "def modify_and_drop_cols(df, rename_cols, drop_cols):\n",
    "    \"\"\"\n",
    "    Renames and drops columns, and drops all rows with Year < 2007.\n",
    "    \"\"\"\n",
    "    df = df.copy()\n",
    "    df = df[df[\"Year\"] > 2007]\n",
    "    df = df.drop(drop_cols, axis=1)\n",
    "    cols = list(df.columns)\n",
    "    for i, col in enumerate(cols):\n",
    "        if len(col.split(\" - \")) > 1:\n",
    "            rename_cols[col] = col.split(\" - \")[1].strip()\n",
    "    df = df.rename(columns=rename_cols)\n",
    "    df = df.reset_index(drop=True)\n",
    "    return df"
   ]
  },
  {
   "cell_type": "code",
   "execution_count": 18,
   "metadata": {},
   "outputs": [],
   "source": [
    "def extract_world_data(df):\n",
    "    \"\"\"\n",
    "    Drop all rows where Entity != World.\n",
    "    \"\"\"\n",
    "    df = df.copy()\n",
    "    df = df[df[\"Entity\"] == \"World\"]\n",
    "    df = df.reset_index(drop=True)\n",
    "    return df"
   ]
  },
  {
   "cell_type": "code",
   "execution_count": 19,
   "metadata": {},
   "outputs": [],
   "source": [
    "def percentage_of_total_deaths(df, columns):\n",
    "    \"\"\"\n",
    "    Modifies death columns to percentages of total deaths\n",
    "    \"\"\"\n",
    "    df = df.copy()\n",
    "    df[\"Total deaths\"] = 0\n",
    "    for column in columns:\n",
    "        df[\"Total deaths\"] += df[column]\n",
    "    for column in columns:\n",
    "        df[column] = (df[column]/df[\"Total deaths\"])*100\n",
    "    df.drop(\"Total deaths\", axis=1)\n",
    "    return df"
   ]
  },
  {
   "cell_type": "markdown",
   "metadata": {},
   "source": [
    "All dataframes from Our World In Data have these info columns"
   ]
  },
  {
   "cell_type": "code",
   "execution_count": 20,
   "metadata": {},
   "outputs": [],
   "source": [
    "info_columns = [\"Entity\", \"Code\", \"Year\"]"
   ]
  },
  {
   "cell_type": "markdown",
   "metadata": {},
   "source": [
    "### Death by cause"
   ]
  },
  {
   "cell_type": "code",
   "execution_count": 21,
   "metadata": {},
   "outputs": [],
   "source": [
    "drop_cols = ['Number of executions (Amnesty International)']\n",
    "rename_cols = {'Terrorism (deaths)': 'Terrorism'}"
   ]
  },
  {
   "cell_type": "code",
   "execution_count": 22,
   "metadata": {},
   "outputs": [],
   "source": [
    "death_by_cause_df = modify_and_drop_cols(raw_death_by_cause_df, rename_cols, drop_cols)"
   ]
  },
  {
   "cell_type": "code",
   "execution_count": 23,
   "metadata": {},
   "outputs": [
    {
     "data": {
      "text/plain": "           Entity Code  Year   Meningitis  Lower respiratory infections  \\\n0     Afghanistan  AFG  2008  8387.057275                  26623.480551   \n1     Afghanistan  AFG  2009  7318.273004                  24792.335792   \n2     Afghanistan  AFG  2011  6919.757958                  23115.144836   \n3     Afghanistan  AFG  2012  6631.942601                  22155.754481   \n4     Afghanistan  AFG  2013  6774.892059                  22417.229523   \n...           ...  ...   ...          ...                           ...   \n2373     Zimbabwe  ZWE  2013  1820.090331                  13108.151347   \n2374     Zimbabwe  ZWE  2014  1769.993458                  12841.510671   \n2375     Zimbabwe  ZWE  2015  1728.691503                  12637.728613   \n2376     Zimbabwe  ZWE  2016  1703.437894                  12495.147292   \n2377     Zimbabwe  ZWE  2017  1677.007331                  12369.654705   \n\n      Intestinal infectious diseases  Protein-energy malnutrition  Terrorism  \\\n0                         437.718960                  1681.270324     1092.0   \n1                         415.776634                  1568.095029     1065.0   \n2                         299.758258                  1468.203744     1525.0   \n3                         302.255411                  1406.214788     3521.0   \n4                         402.174478                  1423.283631     3709.0   \n...                              ...                          ...        ...   \n2373                       25.015658                  3507.171892        1.0   \n2374                       25.623337                  3380.319464        0.0   \n2375                       25.415872                  3263.941226        NaN   \n2376                       25.752116                  3188.723249        NaN   \n2377                             NaN                  3111.873502        0.0   \n\n      Cardiovascular diseases  Alzheimer disease and other dementias  ...  \\\n0                53402.322328                            2496.968317  ...   \n1                53024.450772                            2537.090789  ...   \n2                52815.737495                            2615.883604  ...   \n3                52961.704530                            2657.841812  ...   \n4                53387.554213                            2701.404559  ...   \n...                       ...                                    ...  ...   \n2373             16900.858090                            1190.558139  ...   \n2374             16755.843066                            1191.914868  ...   \n2375             16691.109079                            1201.436860  ...   \n2376             16781.946571                            1223.666312  ...   \n2377             16976.902369                            1246.101126  ...   \n\n      Neonatal disorders  Alcohol use disorders  Exposure to forces of nature  \\\n0           28234.015837              98.308461                      0.000000   \n1           27897.481121             100.088778                    101.000000   \n2           27198.628720             105.565020                     62.000000   \n3           26830.686222             108.281688                    333.000006   \n4           26942.203452             111.728148                    154.999997   \n...                  ...                    ...                           ...   \n2373         9439.290155              73.649954                    125.000002   \n2374         9106.657298              73.460128                      8.500000   \n2375         8887.033499              74.605887                     15.500000   \n2376         8653.776455              75.907792                     31.000000   \n2377         8411.915534              77.192339                      0.000000   \n\n      Diarrheal diseases  Environmental heat and cold exposure  \\\n0            8994.815981                            156.860722   \n1            7996.529795                            152.144044   \n2            7053.113394                            150.311602   \n3            6577.552474                            193.388959   \n4            6624.194797                            150.711361   \n...                  ...                                   ...   \n2373         5129.483596                             44.403541   \n2374         4946.075661                             43.073231   \n2375         4737.642966                             42.139866   \n2376         4602.100769                             41.675497   \n2377         4602.593760                             41.433611   \n\n      Nutritional deficiencies    Self-harm  Conflict and terrorism  \\\n0                  1765.980756  1411.783229             6748.999931   \n1                  1647.863334  1428.808015             7562.996178   \n2                  1543.182842  1496.192418             9061.000023   \n3                  1478.263352  1528.384710            11332.990002   \n4                  1496.911285  1574.109821            11816.974732   \n...                        ...          ...                     ...   \n2373               3557.450127  2561.496069                7.000000   \n2374               3428.811706  2554.170577                3.000000   \n2375               3310.899062  2583.031015               12.000000   \n2376               3235.070735  2619.243794                6.000000   \n2377               3157.591804  2647.468528                5.000000   \n\n      Diabetes mellitus  Poisonings  \n0           4750.240999  300.246001  \n1           4784.225283  295.413907  \n2           4954.293898  311.997686  \n3           5075.765738  316.256517  \n4           5238.074827  333.591091  \n...                 ...         ...  \n2373        2599.112561  410.802638  \n2374        2625.681137  406.351616  \n2375        2657.480378  404.641729  \n2376        2712.995017  405.940831  \n2377        2746.739645  405.377266  \n\n[2378 rows x 36 columns]",
      "text/html": "<div>\n<style scoped>\n    .dataframe tbody tr th:only-of-type {\n        vertical-align: middle;\n    }\n\n    .dataframe tbody tr th {\n        vertical-align: top;\n    }\n\n    .dataframe thead th {\n        text-align: right;\n    }\n</style>\n<table border=\"1\" class=\"dataframe\">\n  <thead>\n    <tr style=\"text-align: right;\">\n      <th></th>\n      <th>Entity</th>\n      <th>Code</th>\n      <th>Year</th>\n      <th>Meningitis</th>\n      <th>Lower respiratory infections</th>\n      <th>Intestinal infectious diseases</th>\n      <th>Protein-energy malnutrition</th>\n      <th>Terrorism</th>\n      <th>Cardiovascular diseases</th>\n      <th>Alzheimer disease and other dementias</th>\n      <th>...</th>\n      <th>Neonatal disorders</th>\n      <th>Alcohol use disorders</th>\n      <th>Exposure to forces of nature</th>\n      <th>Diarrheal diseases</th>\n      <th>Environmental heat and cold exposure</th>\n      <th>Nutritional deficiencies</th>\n      <th>Self-harm</th>\n      <th>Conflict and terrorism</th>\n      <th>Diabetes mellitus</th>\n      <th>Poisonings</th>\n    </tr>\n  </thead>\n  <tbody>\n    <tr>\n      <th>0</th>\n      <td>Afghanistan</td>\n      <td>AFG</td>\n      <td>2008</td>\n      <td>8387.057275</td>\n      <td>26623.480551</td>\n      <td>437.718960</td>\n      <td>1681.270324</td>\n      <td>1092.0</td>\n      <td>53402.322328</td>\n      <td>2496.968317</td>\n      <td>...</td>\n      <td>28234.015837</td>\n      <td>98.308461</td>\n      <td>0.000000</td>\n      <td>8994.815981</td>\n      <td>156.860722</td>\n      <td>1765.980756</td>\n      <td>1411.783229</td>\n      <td>6748.999931</td>\n      <td>4750.240999</td>\n      <td>300.246001</td>\n    </tr>\n    <tr>\n      <th>1</th>\n      <td>Afghanistan</td>\n      <td>AFG</td>\n      <td>2009</td>\n      <td>7318.273004</td>\n      <td>24792.335792</td>\n      <td>415.776634</td>\n      <td>1568.095029</td>\n      <td>1065.0</td>\n      <td>53024.450772</td>\n      <td>2537.090789</td>\n      <td>...</td>\n      <td>27897.481121</td>\n      <td>100.088778</td>\n      <td>101.000000</td>\n      <td>7996.529795</td>\n      <td>152.144044</td>\n      <td>1647.863334</td>\n      <td>1428.808015</td>\n      <td>7562.996178</td>\n      <td>4784.225283</td>\n      <td>295.413907</td>\n    </tr>\n    <tr>\n      <th>2</th>\n      <td>Afghanistan</td>\n      <td>AFG</td>\n      <td>2011</td>\n      <td>6919.757958</td>\n      <td>23115.144836</td>\n      <td>299.758258</td>\n      <td>1468.203744</td>\n      <td>1525.0</td>\n      <td>52815.737495</td>\n      <td>2615.883604</td>\n      <td>...</td>\n      <td>27198.628720</td>\n      <td>105.565020</td>\n      <td>62.000000</td>\n      <td>7053.113394</td>\n      <td>150.311602</td>\n      <td>1543.182842</td>\n      <td>1496.192418</td>\n      <td>9061.000023</td>\n      <td>4954.293898</td>\n      <td>311.997686</td>\n    </tr>\n    <tr>\n      <th>3</th>\n      <td>Afghanistan</td>\n      <td>AFG</td>\n      <td>2012</td>\n      <td>6631.942601</td>\n      <td>22155.754481</td>\n      <td>302.255411</td>\n      <td>1406.214788</td>\n      <td>3521.0</td>\n      <td>52961.704530</td>\n      <td>2657.841812</td>\n      <td>...</td>\n      <td>26830.686222</td>\n      <td>108.281688</td>\n      <td>333.000006</td>\n      <td>6577.552474</td>\n      <td>193.388959</td>\n      <td>1478.263352</td>\n      <td>1528.384710</td>\n      <td>11332.990002</td>\n      <td>5075.765738</td>\n      <td>316.256517</td>\n    </tr>\n    <tr>\n      <th>4</th>\n      <td>Afghanistan</td>\n      <td>AFG</td>\n      <td>2013</td>\n      <td>6774.892059</td>\n      <td>22417.229523</td>\n      <td>402.174478</td>\n      <td>1423.283631</td>\n      <td>3709.0</td>\n      <td>53387.554213</td>\n      <td>2701.404559</td>\n      <td>...</td>\n      <td>26942.203452</td>\n      <td>111.728148</td>\n      <td>154.999997</td>\n      <td>6624.194797</td>\n      <td>150.711361</td>\n      <td>1496.911285</td>\n      <td>1574.109821</td>\n      <td>11816.974732</td>\n      <td>5238.074827</td>\n      <td>333.591091</td>\n    </tr>\n    <tr>\n      <th>...</th>\n      <td>...</td>\n      <td>...</td>\n      <td>...</td>\n      <td>...</td>\n      <td>...</td>\n      <td>...</td>\n      <td>...</td>\n      <td>...</td>\n      <td>...</td>\n      <td>...</td>\n      <td>...</td>\n      <td>...</td>\n      <td>...</td>\n      <td>...</td>\n      <td>...</td>\n      <td>...</td>\n      <td>...</td>\n      <td>...</td>\n      <td>...</td>\n      <td>...</td>\n      <td>...</td>\n    </tr>\n    <tr>\n      <th>2373</th>\n      <td>Zimbabwe</td>\n      <td>ZWE</td>\n      <td>2013</td>\n      <td>1820.090331</td>\n      <td>13108.151347</td>\n      <td>25.015658</td>\n      <td>3507.171892</td>\n      <td>1.0</td>\n      <td>16900.858090</td>\n      <td>1190.558139</td>\n      <td>...</td>\n      <td>9439.290155</td>\n      <td>73.649954</td>\n      <td>125.000002</td>\n      <td>5129.483596</td>\n      <td>44.403541</td>\n      <td>3557.450127</td>\n      <td>2561.496069</td>\n      <td>7.000000</td>\n      <td>2599.112561</td>\n      <td>410.802638</td>\n    </tr>\n    <tr>\n      <th>2374</th>\n      <td>Zimbabwe</td>\n      <td>ZWE</td>\n      <td>2014</td>\n      <td>1769.993458</td>\n      <td>12841.510671</td>\n      <td>25.623337</td>\n      <td>3380.319464</td>\n      <td>0.0</td>\n      <td>16755.843066</td>\n      <td>1191.914868</td>\n      <td>...</td>\n      <td>9106.657298</td>\n      <td>73.460128</td>\n      <td>8.500000</td>\n      <td>4946.075661</td>\n      <td>43.073231</td>\n      <td>3428.811706</td>\n      <td>2554.170577</td>\n      <td>3.000000</td>\n      <td>2625.681137</td>\n      <td>406.351616</td>\n    </tr>\n    <tr>\n      <th>2375</th>\n      <td>Zimbabwe</td>\n      <td>ZWE</td>\n      <td>2015</td>\n      <td>1728.691503</td>\n      <td>12637.728613</td>\n      <td>25.415872</td>\n      <td>3263.941226</td>\n      <td>NaN</td>\n      <td>16691.109079</td>\n      <td>1201.436860</td>\n      <td>...</td>\n      <td>8887.033499</td>\n      <td>74.605887</td>\n      <td>15.500000</td>\n      <td>4737.642966</td>\n      <td>42.139866</td>\n      <td>3310.899062</td>\n      <td>2583.031015</td>\n      <td>12.000000</td>\n      <td>2657.480378</td>\n      <td>404.641729</td>\n    </tr>\n    <tr>\n      <th>2376</th>\n      <td>Zimbabwe</td>\n      <td>ZWE</td>\n      <td>2016</td>\n      <td>1703.437894</td>\n      <td>12495.147292</td>\n      <td>25.752116</td>\n      <td>3188.723249</td>\n      <td>NaN</td>\n      <td>16781.946571</td>\n      <td>1223.666312</td>\n      <td>...</td>\n      <td>8653.776455</td>\n      <td>75.907792</td>\n      <td>31.000000</td>\n      <td>4602.100769</td>\n      <td>41.675497</td>\n      <td>3235.070735</td>\n      <td>2619.243794</td>\n      <td>6.000000</td>\n      <td>2712.995017</td>\n      <td>405.940831</td>\n    </tr>\n    <tr>\n      <th>2377</th>\n      <td>Zimbabwe</td>\n      <td>ZWE</td>\n      <td>2017</td>\n      <td>1677.007331</td>\n      <td>12369.654705</td>\n      <td>NaN</td>\n      <td>3111.873502</td>\n      <td>0.0</td>\n      <td>16976.902369</td>\n      <td>1246.101126</td>\n      <td>...</td>\n      <td>8411.915534</td>\n      <td>77.192339</td>\n      <td>0.000000</td>\n      <td>4602.593760</td>\n      <td>41.433611</td>\n      <td>3157.591804</td>\n      <td>2647.468528</td>\n      <td>5.000000</td>\n      <td>2746.739645</td>\n      <td>405.377266</td>\n    </tr>\n  </tbody>\n</table>\n<p>2378 rows × 36 columns</p>\n</div>"
     },
     "execution_count": 23,
     "metadata": {},
     "output_type": "execute_result"
    }
   ],
   "source": [
    "death_by_cause_df"
   ]
  },
  {
   "cell_type": "markdown",
   "metadata": {},
   "source": [
    "#### Extract world data"
   ]
  },
  {
   "cell_type": "code",
   "execution_count": 24,
   "metadata": {},
   "outputs": [
    {
     "data": {
      "text/plain": "  Entity      Code  Year     Meningitis  Lower respiratory infections  \\\n0  World  OWID_WRL  2008  348040.083847                  2.657275e+06   \n1  World  OWID_WRL  2009  340514.177436                  2.639562e+06   \n2  World  OWID_WRL  2010  331205.914662                  2.623649e+06   \n3  World  OWID_WRL  2011  325000.383494                  2.616651e+06   \n4  World  OWID_WRL  2012  316965.020009                  2.605154e+06   \n5  World  OWID_WRL  2013  312013.523643                  2.590482e+06   \n6  World  OWID_WRL  2014  306484.322622                  2.579538e+06   \n7  World  OWID_WRL  2015  298711.517721                  2.582199e+06   \n8  World  OWID_WRL  2016  295878.990018                  2.574625e+06   \n9  World  OWID_WRL  2017  288021.105387                  2.558606e+06   \n\n   Intestinal infectious diseases  Protein-energy malnutrition  Terrorism  \\\n0                   176583.045171                304321.884855     9157.0   \n1                   173745.686452                297263.561629     9273.0   \n2                   170071.404053                299956.052686     7827.0   \n3                   168716.792532                288907.141759     8246.0   \n4                   166735.397312                269574.084338    15497.0   \n5                   164572.376351                259203.023575    22273.0   \n6                   162420.462719                250311.830788    44490.0   \n7                   159257.591692                243750.598948    38853.0   \n8                   155448.606112                236429.610442    34871.0   \n9                             NaN                231770.992044    26445.0   \n\n   Cardiovascular diseases  Alzheimer disease and other dementias  ...  \\\n0             1.500828e+07                           1.790400e+06  ...   \n1             1.527431e+07                           1.863444e+06  ...   \n2             1.561962e+07                           1.943961e+06  ...   \n3             1.585974e+07                           2.025064e+06  ...   \n4             1.611549e+07                           2.098871e+06  ...   \n5             1.628402e+07                           2.168918e+06  ...   \n6             1.662836e+07                           2.253866e+06  ...   \n7             1.713999e+07                           2.353634e+06  ...   \n8             1.752437e+07                           2.440042e+06  ...   \n9             1.779095e+07                           2.514619e+06  ...   \n\n   Neonatal disorders  Alcohol use disorders  Exposure to forces of nature  \\\n0        2.304429e+06          179987.013172                 235496.829431   \n1        2.258315e+06          175052.864372                   9254.003678   \n2        2.211208e+06          174237.378348                 248454.699157   \n3        2.162070e+06          170736.669200                  31964.196615   \n4        2.110626e+06          169930.031855                   6625.594444   \n5        2.050610e+06          170965.247716                  19050.473289   \n6        1.989193e+06          173684.698467                   6503.060539   \n7        1.925458e+06          178372.485978                  14748.187609   \n8        1.852924e+06          181679.094522                   7261.252562   \n9        1.783770e+06          184934.241760                   9602.935057   \n\n   Diarrheal diseases  Environmental heat and cold exposure  \\\n0        1.867836e+06                          60384.613529   \n1        1.865671e+06                          59023.804629   \n2        1.857640e+06                         115382.599926   \n3        1.793641e+06                          57402.483668   \n4        1.725018e+06                          57658.367887   \n5        1.664193e+06                          55823.991356   \n6        1.619718e+06                          55072.834100   \n7        1.578439e+06                          57740.167042   \n8        1.550848e+06                          54183.052891   \n9        1.569556e+06                          53349.518780   \n\n   Nutritional deficiencies      Self-harm  Conflict and terrorism  \\\n0             345703.367968  789447.007136            58795.082371   \n1             338690.981517  791222.757559            67916.308722   \n2             341835.027741  796083.645174            50608.273695   \n3             329818.068512  793977.906088           100568.611560   \n4             309650.953725  786335.554940           111432.890101   \n5             298365.543019  779212.549795           115138.255671   \n6             289184.845108  781716.697241           182239.944451   \n7             282498.011863  782941.162890           137629.287532   \n8             274881.027448  788674.564776           158356.402289   \n9             269996.917689  793823.469135           129720.145674   \n\n   Diabetes mellitus    Poisonings  \n0       1.045381e+06  78008.099106  \n1       1.070186e+06  77339.491051  \n2       1.096402e+06  77298.902918  \n3       1.129959e+06  76227.682073  \n4       1.168569e+06  75414.520357  \n5       1.202743e+06  74906.641101  \n6       1.249135e+06  74439.682294  \n7       1.299556e+06  74394.517062  \n8       1.346428e+06  73643.079320  \n9       1.369849e+06  72370.531920  \n\n[10 rows x 36 columns]",
      "text/html": "<div>\n<style scoped>\n    .dataframe tbody tr th:only-of-type {\n        vertical-align: middle;\n    }\n\n    .dataframe tbody tr th {\n        vertical-align: top;\n    }\n\n    .dataframe thead th {\n        text-align: right;\n    }\n</style>\n<table border=\"1\" class=\"dataframe\">\n  <thead>\n    <tr style=\"text-align: right;\">\n      <th></th>\n      <th>Entity</th>\n      <th>Code</th>\n      <th>Year</th>\n      <th>Meningitis</th>\n      <th>Lower respiratory infections</th>\n      <th>Intestinal infectious diseases</th>\n      <th>Protein-energy malnutrition</th>\n      <th>Terrorism</th>\n      <th>Cardiovascular diseases</th>\n      <th>Alzheimer disease and other dementias</th>\n      <th>...</th>\n      <th>Neonatal disorders</th>\n      <th>Alcohol use disorders</th>\n      <th>Exposure to forces of nature</th>\n      <th>Diarrheal diseases</th>\n      <th>Environmental heat and cold exposure</th>\n      <th>Nutritional deficiencies</th>\n      <th>Self-harm</th>\n      <th>Conflict and terrorism</th>\n      <th>Diabetes mellitus</th>\n      <th>Poisonings</th>\n    </tr>\n  </thead>\n  <tbody>\n    <tr>\n      <th>0</th>\n      <td>World</td>\n      <td>OWID_WRL</td>\n      <td>2008</td>\n      <td>348040.083847</td>\n      <td>2.657275e+06</td>\n      <td>176583.045171</td>\n      <td>304321.884855</td>\n      <td>9157.0</td>\n      <td>1.500828e+07</td>\n      <td>1.790400e+06</td>\n      <td>...</td>\n      <td>2.304429e+06</td>\n      <td>179987.013172</td>\n      <td>235496.829431</td>\n      <td>1.867836e+06</td>\n      <td>60384.613529</td>\n      <td>345703.367968</td>\n      <td>789447.007136</td>\n      <td>58795.082371</td>\n      <td>1.045381e+06</td>\n      <td>78008.099106</td>\n    </tr>\n    <tr>\n      <th>1</th>\n      <td>World</td>\n      <td>OWID_WRL</td>\n      <td>2009</td>\n      <td>340514.177436</td>\n      <td>2.639562e+06</td>\n      <td>173745.686452</td>\n      <td>297263.561629</td>\n      <td>9273.0</td>\n      <td>1.527431e+07</td>\n      <td>1.863444e+06</td>\n      <td>...</td>\n      <td>2.258315e+06</td>\n      <td>175052.864372</td>\n      <td>9254.003678</td>\n      <td>1.865671e+06</td>\n      <td>59023.804629</td>\n      <td>338690.981517</td>\n      <td>791222.757559</td>\n      <td>67916.308722</td>\n      <td>1.070186e+06</td>\n      <td>77339.491051</td>\n    </tr>\n    <tr>\n      <th>2</th>\n      <td>World</td>\n      <td>OWID_WRL</td>\n      <td>2010</td>\n      <td>331205.914662</td>\n      <td>2.623649e+06</td>\n      <td>170071.404053</td>\n      <td>299956.052686</td>\n      <td>7827.0</td>\n      <td>1.561962e+07</td>\n      <td>1.943961e+06</td>\n      <td>...</td>\n      <td>2.211208e+06</td>\n      <td>174237.378348</td>\n      <td>248454.699157</td>\n      <td>1.857640e+06</td>\n      <td>115382.599926</td>\n      <td>341835.027741</td>\n      <td>796083.645174</td>\n      <td>50608.273695</td>\n      <td>1.096402e+06</td>\n      <td>77298.902918</td>\n    </tr>\n    <tr>\n      <th>3</th>\n      <td>World</td>\n      <td>OWID_WRL</td>\n      <td>2011</td>\n      <td>325000.383494</td>\n      <td>2.616651e+06</td>\n      <td>168716.792532</td>\n      <td>288907.141759</td>\n      <td>8246.0</td>\n      <td>1.585974e+07</td>\n      <td>2.025064e+06</td>\n      <td>...</td>\n      <td>2.162070e+06</td>\n      <td>170736.669200</td>\n      <td>31964.196615</td>\n      <td>1.793641e+06</td>\n      <td>57402.483668</td>\n      <td>329818.068512</td>\n      <td>793977.906088</td>\n      <td>100568.611560</td>\n      <td>1.129959e+06</td>\n      <td>76227.682073</td>\n    </tr>\n    <tr>\n      <th>4</th>\n      <td>World</td>\n      <td>OWID_WRL</td>\n      <td>2012</td>\n      <td>316965.020009</td>\n      <td>2.605154e+06</td>\n      <td>166735.397312</td>\n      <td>269574.084338</td>\n      <td>15497.0</td>\n      <td>1.611549e+07</td>\n      <td>2.098871e+06</td>\n      <td>...</td>\n      <td>2.110626e+06</td>\n      <td>169930.031855</td>\n      <td>6625.594444</td>\n      <td>1.725018e+06</td>\n      <td>57658.367887</td>\n      <td>309650.953725</td>\n      <td>786335.554940</td>\n      <td>111432.890101</td>\n      <td>1.168569e+06</td>\n      <td>75414.520357</td>\n    </tr>\n    <tr>\n      <th>5</th>\n      <td>World</td>\n      <td>OWID_WRL</td>\n      <td>2013</td>\n      <td>312013.523643</td>\n      <td>2.590482e+06</td>\n      <td>164572.376351</td>\n      <td>259203.023575</td>\n      <td>22273.0</td>\n      <td>1.628402e+07</td>\n      <td>2.168918e+06</td>\n      <td>...</td>\n      <td>2.050610e+06</td>\n      <td>170965.247716</td>\n      <td>19050.473289</td>\n      <td>1.664193e+06</td>\n      <td>55823.991356</td>\n      <td>298365.543019</td>\n      <td>779212.549795</td>\n      <td>115138.255671</td>\n      <td>1.202743e+06</td>\n      <td>74906.641101</td>\n    </tr>\n    <tr>\n      <th>6</th>\n      <td>World</td>\n      <td>OWID_WRL</td>\n      <td>2014</td>\n      <td>306484.322622</td>\n      <td>2.579538e+06</td>\n      <td>162420.462719</td>\n      <td>250311.830788</td>\n      <td>44490.0</td>\n      <td>1.662836e+07</td>\n      <td>2.253866e+06</td>\n      <td>...</td>\n      <td>1.989193e+06</td>\n      <td>173684.698467</td>\n      <td>6503.060539</td>\n      <td>1.619718e+06</td>\n      <td>55072.834100</td>\n      <td>289184.845108</td>\n      <td>781716.697241</td>\n      <td>182239.944451</td>\n      <td>1.249135e+06</td>\n      <td>74439.682294</td>\n    </tr>\n    <tr>\n      <th>7</th>\n      <td>World</td>\n      <td>OWID_WRL</td>\n      <td>2015</td>\n      <td>298711.517721</td>\n      <td>2.582199e+06</td>\n      <td>159257.591692</td>\n      <td>243750.598948</td>\n      <td>38853.0</td>\n      <td>1.713999e+07</td>\n      <td>2.353634e+06</td>\n      <td>...</td>\n      <td>1.925458e+06</td>\n      <td>178372.485978</td>\n      <td>14748.187609</td>\n      <td>1.578439e+06</td>\n      <td>57740.167042</td>\n      <td>282498.011863</td>\n      <td>782941.162890</td>\n      <td>137629.287532</td>\n      <td>1.299556e+06</td>\n      <td>74394.517062</td>\n    </tr>\n    <tr>\n      <th>8</th>\n      <td>World</td>\n      <td>OWID_WRL</td>\n      <td>2016</td>\n      <td>295878.990018</td>\n      <td>2.574625e+06</td>\n      <td>155448.606112</td>\n      <td>236429.610442</td>\n      <td>34871.0</td>\n      <td>1.752437e+07</td>\n      <td>2.440042e+06</td>\n      <td>...</td>\n      <td>1.852924e+06</td>\n      <td>181679.094522</td>\n      <td>7261.252562</td>\n      <td>1.550848e+06</td>\n      <td>54183.052891</td>\n      <td>274881.027448</td>\n      <td>788674.564776</td>\n      <td>158356.402289</td>\n      <td>1.346428e+06</td>\n      <td>73643.079320</td>\n    </tr>\n    <tr>\n      <th>9</th>\n      <td>World</td>\n      <td>OWID_WRL</td>\n      <td>2017</td>\n      <td>288021.105387</td>\n      <td>2.558606e+06</td>\n      <td>NaN</td>\n      <td>231770.992044</td>\n      <td>26445.0</td>\n      <td>1.779095e+07</td>\n      <td>2.514619e+06</td>\n      <td>...</td>\n      <td>1.783770e+06</td>\n      <td>184934.241760</td>\n      <td>9602.935057</td>\n      <td>1.569556e+06</td>\n      <td>53349.518780</td>\n      <td>269996.917689</td>\n      <td>793823.469135</td>\n      <td>129720.145674</td>\n      <td>1.369849e+06</td>\n      <td>72370.531920</td>\n    </tr>\n  </tbody>\n</table>\n<p>10 rows × 36 columns</p>\n</div>"
     },
     "execution_count": 24,
     "metadata": {},
     "output_type": "execute_result"
    }
   ],
   "source": [
    "world_death_by_cause_df = extract_world_data(death_by_cause_df)\n",
    "world_death_by_cause_df"
   ]
  },
  {
   "cell_type": "markdown",
   "metadata": {},
   "source": [
    "#### Predict Nan Value\n",
    "As you can see in the printed dataframe above, there is a NaN value for ID 9 in the Intestinal infectious diseases column. We use linear regression based on the values from the previous years to predict a value for this cell. \n",
    "\n",
    "This prediction method will be very useful when we use data for induvidual countries in Milestone 3, as there will be more NaN values."
   ]
  },
  {
   "cell_type": "code",
   "execution_count": 25,
   "metadata": {},
   "outputs": [],
   "source": [
    "intestine_col = \"Intestinal infectious diseases\"\n",
    "intestine_data = list(world_death_by_cause_df[intestine_col])[:-1]\n",
    "intestine_pred_data = [[i+2008, x] for i, x in enumerate(intestine_data)]\n",
    "\n",
    "X = np.array(intestine_pred_data)[:,0].reshape(-1,1)\n",
    "y = np.array(intestine_pred_data)[:,1].reshape(-1,1)\n",
    "\n",
    "to_predict_x= 2017\n",
    "to_predict_x= np.array(to_predict_x).reshape(-1,1)\n",
    "\n",
    "regsr = LinearRegression()\n",
    "regsr.fit(X,y)\n",
    "predicted_y = regsr.predict(to_predict_x)\n",
    "\n",
    "m = regsr.coef_\n",
    "c = regsr.intercept_"
   ]
  },
  {
   "cell_type": "markdown",
   "metadata": {},
   "source": [
    "Plotting the previous values (blue dots), the regression line and the predicted value for 2017 (green dot)."
   ]
  },
  {
   "cell_type": "code",
   "execution_count": 26,
   "metadata": {},
   "outputs": [
    {
     "data": {
      "text/plain": "<Figure size 432x288 with 1 Axes>",
      "image/png": "[encoded data removed]"
     },
     "metadata": {
      "needs_background": "light"
     },
     "output_type": "display_data"
    }
   ],
   "source": [
    "plt.title('Predict 2017 death toll for Intestinal infectious diseases')  \n",
    "plt.xlabel('Year')  \n",
    "plt.ylabel('Deaths') \n",
    "\n",
    "plt.scatter(X,y,color=\"blue\")\n",
    "\n",
    "new_y = [m*i+c for i in np.append(X, to_predict_x)]\n",
    "new_y = np.array(new_y).reshape(-1,1)\n",
    "\n",
    "plt.scatter(X,y,color=\"blue\")\n",
    "plt.scatter(to_predict_x, predicted_y, color=\"green\")\n",
    "plt.plot(np.append(X,to_predict_x),new_y,color=\"red\")\n",
    "\n",
    "plt.show()"
   ]
  },
  {
   "cell_type": "markdown",
   "metadata": {},
   "source": [
    "Update the NaN cell with the new predicted value"
   ]
  },
  {
   "cell_type": "code",
   "execution_count": 27,
   "metadata": {},
   "outputs": [
    {
     "data": {
      "text/plain": "  Entity      Code  Year     Meningitis  Lower respiratory infections  \\\n0  World  OWID_WRL  2008  348040.083847                  2.657275e+06   \n1  World  OWID_WRL  2009  340514.177436                  2.639562e+06   \n2  World  OWID_WRL  2010  331205.914662                  2.623649e+06   \n3  World  OWID_WRL  2011  325000.383494                  2.616651e+06   \n4  World  OWID_WRL  2012  316965.020009                  2.605154e+06   \n5  World  OWID_WRL  2013  312013.523643                  2.590482e+06   \n6  World  OWID_WRL  2014  306484.322622                  2.579538e+06   \n7  World  OWID_WRL  2015  298711.517721                  2.582199e+06   \n8  World  OWID_WRL  2016  295878.990018                  2.574625e+06   \n9  World  OWID_WRL  2017  288021.105387                  2.558606e+06   \n\n   Intestinal infectious diseases  Protein-energy malnutrition  Terrorism  \\\n0                   176583.045171                304321.884855     9157.0   \n1                   173745.686452                297263.561629     9273.0   \n2                   170071.404053                299956.052686     7827.0   \n3                   168716.792532                288907.141759     8246.0   \n4                   166735.397312                269574.084338    15497.0   \n5                   164572.376351                259203.023575    22273.0   \n6                   162420.462719                250311.830788    44490.0   \n7                   159257.591692                243750.598948    38853.0   \n8                   155448.606112                236429.610442    34871.0   \n9                   154107.234208                231770.992044    26445.0   \n\n   Cardiovascular diseases  Alzheimer disease and other dementias  ...  \\\n0             1.500828e+07                           1.790400e+06  ...   \n1             1.527431e+07                           1.863444e+06  ...   \n2             1.561962e+07                           1.943961e+06  ...   \n3             1.585974e+07                           2.025064e+06  ...   \n4             1.611549e+07                           2.098871e+06  ...   \n5             1.628402e+07                           2.168918e+06  ...   \n6             1.662836e+07                           2.253866e+06  ...   \n7             1.713999e+07                           2.353634e+06  ...   \n8             1.752437e+07                           2.440042e+06  ...   \n9             1.779095e+07                           2.514619e+06  ...   \n\n   Neonatal disorders  Alcohol use disorders  Exposure to forces of nature  \\\n0        2.304429e+06          179987.013172                 235496.829431   \n1        2.258315e+06          175052.864372                   9254.003678   \n2        2.211208e+06          174237.378348                 248454.699157   \n3        2.162070e+06          170736.669200                  31964.196615   \n4        2.110626e+06          169930.031855                   6625.594444   \n5        2.050610e+06          170965.247716                  19050.473289   \n6        1.989193e+06          173684.698467                   6503.060539   \n7        1.925458e+06          178372.485978                  14748.187609   \n8        1.852924e+06          181679.094522                   7261.252562   \n9        1.783770e+06          184934.241760                   9602.935057   \n\n   Diarrheal diseases  Environmental heat and cold exposure  \\\n0        1.867836e+06                          60384.613529   \n1        1.865671e+06                          59023.804629   \n2        1.857640e+06                         115382.599926   \n3        1.793641e+06                          57402.483668   \n4        1.725018e+06                          57658.367887   \n5        1.664193e+06                          55823.991356   \n6        1.619718e+06                          55072.834100   \n7        1.578439e+06                          57740.167042   \n8        1.550848e+06                          54183.052891   \n9        1.569556e+06                          53349.518780   \n\n   Nutritional deficiencies      Self-harm  Conflict and terrorism  \\\n0             345703.367968  789447.007136            58795.082371   \n1             338690.981517  791222.757559            67916.308722   \n2             341835.027741  796083.645174            50608.273695   \n3             329818.068512  793977.906088           100568.611560   \n4             309650.953725  786335.554940           111432.890101   \n5             298365.543019  779212.549795           115138.255671   \n6             289184.845108  781716.697241           182239.944451   \n7             282498.011863  782941.162890           137629.287532   \n8             274881.027448  788674.564776           158356.402289   \n9             269996.917689  793823.469135           129720.145674   \n\n   Diabetes mellitus    Poisonings  \n0       1.045381e+06  78008.099106  \n1       1.070186e+06  77339.491051  \n2       1.096402e+06  77298.902918  \n3       1.129959e+06  76227.682073  \n4       1.168569e+06  75414.520357  \n5       1.202743e+06  74906.641101  \n6       1.249135e+06  74439.682294  \n7       1.299556e+06  74394.517062  \n8       1.346428e+06  73643.079320  \n9       1.369849e+06  72370.531920  \n\n[10 rows x 36 columns]",
      "text/html": "<div>\n<style scoped>\n    .dataframe tbody tr th:only-of-type {\n        vertical-align: middle;\n    }\n\n    .dataframe tbody tr th {\n        vertical-align: top;\n    }\n\n    .dataframe thead th {\n        text-align: right;\n    }\n</style>\n<table border=\"1\" class=\"dataframe\">\n  <thead>\n    <tr style=\"text-align: right;\">\n      <th></th>\n      <th>Entity</th>\n      <th>Code</th>\n      <th>Year</th>\n      <th>Meningitis</th>\n      <th>Lower respiratory infections</th>\n      <th>Intestinal infectious diseases</th>\n      <th>Protein-energy malnutrition</th>\n      <th>Terrorism</th>\n      <th>Cardiovascular diseases</th>\n      <th>Alzheimer disease and other dementias</th>\n      <th>...</th>\n      <th>Neonatal disorders</th>\n      <th>Alcohol use disorders</th>\n      <th>Exposure to forces of nature</th>\n      <th>Diarrheal diseases</th>\n      <th>Environmental heat and cold exposure</th>\n      <th>Nutritional deficiencies</th>\n      <th>Self-harm</th>\n      <th>Conflict and terrorism</th>\n      <th>Diabetes mellitus</th>\n      <th>Poisonings</th>\n    </tr>\n  </thead>\n  <tbody>\n    <tr>\n      <th>0</th>\n      <td>World</td>\n      <td>OWID_WRL</td>\n      <td>2008</td>\n      <td>348040.083847</td>\n      <td>2.657275e+06</td>\n      <td>176583.045171</td>\n      <td>304321.884855</td>\n      <td>9157.0</td>\n      <td>1.500828e+07</td>\n      <td>1.790400e+06</td>\n      <td>...</td>\n      <td>2.304429e+06</td>\n      <td>179987.013172</td>\n      <td>235496.829431</td>\n      <td>1.867836e+06</td>\n      <td>60384.613529</td>\n      <td>345703.367968</td>\n      <td>789447.007136</td>\n      <td>58795.082371</td>\n      <td>1.045381e+06</td>\n      <td>78008.099106</td>\n    </tr>\n    <tr>\n      <th>1</th>\n      <td>World</td>\n      <td>OWID_WRL</td>\n      <td>2009</td>\n      <td>340514.177436</td>\n      <td>2.639562e+06</td>\n      <td>173745.686452</td>\n      <td>297263.561629</td>\n      <td>9273.0</td>\n      <td>1.527431e+07</td>\n      <td>1.863444e+06</td>\n      <td>...</td>\n      <td>2.258315e+06</td>\n      <td>175052.864372</td>\n      <td>9254.003678</td>\n      <td>1.865671e+06</td>\n      <td>59023.804629</td>\n      <td>338690.981517</td>\n      <td>791222.757559</td>\n      <td>67916.308722</td>\n      <td>1.070186e+06</td>\n      <td>77339.491051</td>\n    </tr>\n    <tr>\n      <th>2</th>\n      <td>World</td>\n      <td>OWID_WRL</td>\n      <td>2010</td>\n      <td>331205.914662</td>\n      <td>2.623649e+06</td>\n      <td>170071.404053</td>\n      <td>299956.052686</td>\n      <td>7827.0</td>\n      <td>1.561962e+07</td>\n      <td>1.943961e+06</td>\n      <td>...</td>\n      <td>2.211208e+06</td>\n      <td>174237.378348</td>\n      <td>248454.699157</td>\n      <td>1.857640e+06</td>\n      <td>115382.599926</td>\n      <td>341835.027741</td>\n      <td>796083.645174</td>\n      <td>50608.273695</td>\n      <td>1.096402e+06</td>\n      <td>77298.902918</td>\n    </tr>\n    <tr>\n      <th>3</th>\n      <td>World</td>\n      <td>OWID_WRL</td>\n      <td>2011</td>\n      <td>325000.383494</td>\n      <td>2.616651e+06</td>\n      <td>168716.792532</td>\n      <td>288907.141759</td>\n      <td>8246.0</td>\n      <td>1.585974e+07</td>\n      <td>2.025064e+06</td>\n      <td>...</td>\n      <td>2.162070e+06</td>\n      <td>170736.669200</td>\n      <td>31964.196615</td>\n      <td>1.793641e+06</td>\n      <td>57402.483668</td>\n      <td>329818.068512</td>\n      <td>793977.906088</td>\n      <td>100568.611560</td>\n      <td>1.129959e+06</td>\n      <td>76227.682073</td>\n    </tr>\n    <tr>\n      <th>4</th>\n      <td>World</td>\n      <td>OWID_WRL</td>\n      <td>2012</td>\n      <td>316965.020009</td>\n      <td>2.605154e+06</td>\n      <td>166735.397312</td>\n      <td>269574.084338</td>\n      <td>15497.0</td>\n      <td>1.611549e+07</td>\n      <td>2.098871e+06</td>\n      <td>...</td>\n      <td>2.110626e+06</td>\n      <td>169930.031855</td>\n      <td>6625.594444</td>\n      <td>1.725018e+06</td>\n      <td>57658.367887</td>\n      <td>309650.953725</td>\n      <td>786335.554940</td>\n      <td>111432.890101</td>\n      <td>1.168569e+06</td>\n      <td>75414.520357</td>\n    </tr>\n    <tr>\n      <th>5</th>\n      <td>World</td>\n      <td>OWID_WRL</td>\n      <td>2013</td>\n      <td>312013.523643</td>\n      <td>2.590482e+06</td>\n      <td>164572.376351</td>\n      <td>259203.023575</td>\n      <td>22273.0</td>\n      <td>1.628402e+07</td>\n      <td>2.168918e+06</td>\n      <td>...</td>\n      <td>2.050610e+06</td>\n      <td>170965.247716</td>\n      <td>19050.473289</td>\n      <td>1.664193e+06</td>\n      <td>55823.991356</td>\n      <td>298365.543019</td>\n      <td>779212.549795</td>\n      <td>115138.255671</td>\n      <td>1.202743e+06</td>\n      <td>74906.641101</td>\n    </tr>\n    <tr>\n      <th>6</th>\n      <td>World</td>\n      <td>OWID_WRL</td>\n      <td>2014</td>\n      <td>306484.322622</td>\n      <td>2.579538e+06</td>\n      <td>162420.462719</td>\n      <td>250311.830788</td>\n      <td>44490.0</td>\n      <td>1.662836e+07</td>\n      <td>2.253866e+06</td>\n      <td>...</td>\n      <td>1.989193e+06</td>\n      <td>173684.698467</td>\n      <td>6503.060539</td>\n      <td>1.619718e+06</td>\n      <td>55072.834100</td>\n      <td>289184.845108</td>\n      <td>781716.697241</td>\n      <td>182239.944451</td>\n      <td>1.249135e+06</td>\n      <td>74439.682294</td>\n    </tr>\n    <tr>\n      <th>7</th>\n      <td>World</td>\n      <td>OWID_WRL</td>\n      <td>2015</td>\n      <td>298711.517721</td>\n      <td>2.582199e+06</td>\n      <td>159257.591692</td>\n      <td>243750.598948</td>\n      <td>38853.0</td>\n      <td>1.713999e+07</td>\n      <td>2.353634e+06</td>\n      <td>...</td>\n      <td>1.925458e+06</td>\n      <td>178372.485978</td>\n      <td>14748.187609</td>\n      <td>1.578439e+06</td>\n      <td>57740.167042</td>\n      <td>282498.011863</td>\n      <td>782941.162890</td>\n      <td>137629.287532</td>\n      <td>1.299556e+06</td>\n      <td>74394.517062</td>\n    </tr>\n    <tr>\n      <th>8</th>\n      <td>World</td>\n      <td>OWID_WRL</td>\n      <td>2016</td>\n      <td>295878.990018</td>\n      <td>2.574625e+06</td>\n      <td>155448.606112</td>\n      <td>236429.610442</td>\n      <td>34871.0</td>\n      <td>1.752437e+07</td>\n      <td>2.440042e+06</td>\n      <td>...</td>\n      <td>1.852924e+06</td>\n      <td>181679.094522</td>\n      <td>7261.252562</td>\n      <td>1.550848e+06</td>\n      <td>54183.052891</td>\n      <td>274881.027448</td>\n      <td>788674.564776</td>\n      <td>158356.402289</td>\n      <td>1.346428e+06</td>\n      <td>73643.079320</td>\n    </tr>\n    <tr>\n      <th>9</th>\n      <td>World</td>\n      <td>OWID_WRL</td>\n      <td>2017</td>\n      <td>288021.105387</td>\n      <td>2.558606e+06</td>\n      <td>154107.234208</td>\n      <td>231770.992044</td>\n      <td>26445.0</td>\n      <td>1.779095e+07</td>\n      <td>2.514619e+06</td>\n      <td>...</td>\n      <td>1.783770e+06</td>\n      <td>184934.241760</td>\n      <td>9602.935057</td>\n      <td>1.569556e+06</td>\n      <td>53349.518780</td>\n      <td>269996.917689</td>\n      <td>793823.469135</td>\n      <td>129720.145674</td>\n      <td>1.369849e+06</td>\n      <td>72370.531920</td>\n    </tr>\n  </tbody>\n</table>\n<p>10 rows × 36 columns</p>\n</div>"
     },
     "execution_count": 27,
     "metadata": {},
     "output_type": "execute_result"
    }
   ],
   "source": [
    "world_death_by_cause_df.at[9, intestine_col] = predicted_y\n",
    "world_death_by_cause_df"
   ]
  },
  {
   "cell_type": "markdown",
   "metadata": {},
   "source": [
    "Extract all the cause columns, i.e., all columns except the info columns"
   ]
  },
  {
   "cell_type": "code",
   "execution_count": 28,
   "metadata": {},
   "outputs": [],
   "source": [
    "all_death_by_cause_columns = list(world_death_by_cause_df.columns)\n",
    "cause_columns = [e for e in all_death_by_cause_columns if e not in info_columns]"
   ]
  },
  {
   "cell_type": "code",
   "execution_count": 29,
   "metadata": {},
   "outputs": [
    {
     "data": {
      "text/plain": "  Entity      Code  Year  Meningitis  Lower respiratory infections  \\\n0  World  OWID_WRL  2008    0.700192                      5.345947   \n1  World  OWID_WRL  2009    0.682428                      5.289976   \n2  World  OWID_WRL  2010    0.653592                      5.177430   \n3  World  OWID_WRL  2011    0.640791                      5.159152   \n4  World  OWID_WRL  2012    0.622269                      5.114465   \n5  World  OWID_WRL  2013    0.610462                      5.068342   \n6  World  OWID_WRL  2014    0.591830                      4.981157   \n7  World  OWID_WRL  2015    0.567101                      4.902279   \n8  World  OWID_WRL  2016    0.554221                      4.822619   \n9  World  OWID_WRL  2017    0.534836                      4.751165   \n\n   Intestinal infectious diseases  Protein-energy malnutrition  Terrorism  \\\n0                        0.355253                     0.612240   0.018422   \n1                        0.348206                     0.595749   0.018584   \n2                        0.335614                     0.591924   0.015446   \n3                        0.332653                     0.569627   0.016258   \n4                        0.327337                     0.529231   0.030424   \n5                        0.321990                     0.507137   0.043578   \n6                        0.313638                     0.483359   0.085911   \n7                        0.302349                     0.462758   0.073762   \n8                        0.291176                     0.442864   0.065318   \n9                        0.286167                     0.430384   0.049107   \n\n   Cardiovascular diseases  Alzheimer disease and other dementias  ...  \\\n0                30.193900                               3.601955  ...   \n1                30.611429                               3.734549  ...   \n2                30.823280                               3.836153  ...   \n3                31.270041                               3.992743  ...   \n4                31.638096                               4.120525  ...   \n5                31.860088                               4.243542  ...   \n6                32.109811                               4.352276  ...   \n7                32.540099                               4.468350  ...   \n8                32.825503                               4.570527  ...   \n9                33.036636                               4.669484  ...   \n\n   Alcohol use disorders  Exposure to forces of nature  Diarrheal diseases  \\\n0               0.362101                      0.473776            3.757741   \n1               0.350825                      0.018546            3.739013   \n2               0.343835                      0.490293            3.665810   \n3               0.336635                      0.063023            3.536454   \n4               0.333608                      0.013007            3.386573   \n5               0.334498                      0.037273            3.256034   \n6               0.335390                      0.012558            3.127720   \n7               0.338638                      0.027999            2.996650   \n8               0.340309                      0.013601            2.904948   \n9               0.343411                      0.017832            2.914563   \n\n   Environmental heat and cold exposure  Nutritional deficiencies  Self-harm  \\\n0                              0.121483                  0.695491   1.588222   \n1                              0.118290                  0.678774   1.585699   \n2                              0.227693                  0.674567   1.570967   \n3                              0.113178                  0.650290   1.565456   \n4                              0.113196                  0.607910   1.543742   \n5                              0.109221                  0.583759   1.524548   \n6                              0.106347                  0.558424   1.509516   \n7                              0.109619                  0.536320   1.486406   \n8                              0.101492                  0.514889   1.477294   \n9                              0.099067                  0.501367   1.474079   \n\n   Conflict and terrorism  Diabetes mellitus  Poisonings  Total deaths  \n0                0.118285           2.103115    0.156938  4.970634e+07  \n1                0.136112           2.144772    0.154997  4.989742e+07  \n2                0.099869           2.163606    0.152539  5.067474e+07  \n3                0.198287           2.227897    0.150295  5.071863e+07  \n4                0.218766           2.294146    0.148055  5.093697e+07  \n5                0.225271           2.353196    0.146557  5.111104e+07  \n6                0.351910           2.412113    0.143745  5.178591e+07  \n7                0.261288           2.467194    0.141237  5.267344e+07  \n8                0.296623           2.522040    0.137943  5.338645e+07  \n9                0.240882           2.543720    0.134387  5.385218e+07  \n\n[10 rows x 37 columns]",
      "text/html": "<div>\n<style scoped>\n    .dataframe tbody tr th:only-of-type {\n        vertical-align: middle;\n    }\n\n    .dataframe tbody tr th {\n        vertical-align: top;\n    }\n\n    .dataframe thead th {\n        text-align: right;\n    }\n</style>\n<table border=\"1\" class=\"dataframe\">\n  <thead>\n    <tr style=\"text-align: right;\">\n      <th></th>\n      <th>Entity</th>\n      <th>Code</th>\n      <th>Year</th>\n      <th>Meningitis</th>\n      <th>Lower respiratory infections</th>\n      <th>Intestinal infectious diseases</th>\n      <th>Protein-energy malnutrition</th>\n      <th>Terrorism</th>\n      <th>Cardiovascular diseases</th>\n      <th>Alzheimer disease and other dementias</th>\n      <th>...</th>\n      <th>Alcohol use disorders</th>\n      <th>Exposure to forces of nature</th>\n      <th>Diarrheal diseases</th>\n      <th>Environmental heat and cold exposure</th>\n      <th>Nutritional deficiencies</th>\n      <th>Self-harm</th>\n      <th>Conflict and terrorism</th>\n      <th>Diabetes mellitus</th>\n      <th>Poisonings</th>\n      <th>Total deaths</th>\n    </tr>\n  </thead>\n  <tbody>\n    <tr>\n      <th>0</th>\n      <td>World</td>\n      <td>OWID_WRL</td>\n      <td>2008</td>\n      <td>0.700192</td>\n      <td>5.345947</td>\n      <td>0.355253</td>\n      <td>0.612240</td>\n      <td>0.018422</td>\n      <td>30.193900</td>\n      <td>3.601955</td>\n      <td>...</td>\n      <td>0.362101</td>\n      <td>0.473776</td>\n      <td>3.757741</td>\n      <td>0.121483</td>\n      <td>0.695491</td>\n      <td>1.588222</td>\n      <td>0.118285</td>\n      <td>2.103115</td>\n      <td>0.156938</td>\n      <td>4.970634e+07</td>\n    </tr>\n    <tr>\n      <th>1</th>\n      <td>World</td>\n      <td>OWID_WRL</td>\n      <td>2009</td>\n      <td>0.682428</td>\n      <td>5.289976</td>\n      <td>0.348206</td>\n      <td>0.595749</td>\n      <td>0.018584</td>\n      <td>30.611429</td>\n      <td>3.734549</td>\n      <td>...</td>\n      <td>0.350825</td>\n      <td>0.018546</td>\n      <td>3.739013</td>\n      <td>0.118290</td>\n      <td>0.678774</td>\n      <td>1.585699</td>\n      <td>0.136112</td>\n      <td>2.144772</td>\n      <td>0.154997</td>\n      <td>4.989742e+07</td>\n    </tr>\n    <tr>\n      <th>2</th>\n      <td>World</td>\n      <td>OWID_WRL</td>\n      <td>2010</td>\n      <td>0.653592</td>\n      <td>5.177430</td>\n      <td>0.335614</td>\n      <td>0.591924</td>\n      <td>0.015446</td>\n      <td>30.823280</td>\n      <td>3.836153</td>\n      <td>...</td>\n      <td>0.343835</td>\n      <td>0.490293</td>\n      <td>3.665810</td>\n      <td>0.227693</td>\n      <td>0.674567</td>\n      <td>1.570967</td>\n      <td>0.099869</td>\n      <td>2.163606</td>\n      <td>0.152539</td>\n      <td>5.067474e+07</td>\n    </tr>\n    <tr>\n      <th>3</th>\n      <td>World</td>\n      <td>OWID_WRL</td>\n      <td>2011</td>\n      <td>0.640791</td>\n      <td>5.159152</td>\n      <td>0.332653</td>\n      <td>0.569627</td>\n      <td>0.016258</td>\n      <td>31.270041</td>\n      <td>3.992743</td>\n      <td>...</td>\n      <td>0.336635</td>\n      <td>0.063023</td>\n      <td>3.536454</td>\n      <td>0.113178</td>\n      <td>0.650290</td>\n      <td>1.565456</td>\n      <td>0.198287</td>\n      <td>2.227897</td>\n      <td>0.150295</td>\n      <td>5.071863e+07</td>\n    </tr>\n    <tr>\n      <th>4</th>\n      <td>World</td>\n      <td>OWID_WRL</td>\n      <td>2012</td>\n      <td>0.622269</td>\n      <td>5.114465</td>\n      <td>0.327337</td>\n      <td>0.529231</td>\n      <td>0.030424</td>\n      <td>31.638096</td>\n      <td>4.120525</td>\n      <td>...</td>\n      <td>0.333608</td>\n      <td>0.013007</td>\n      <td>3.386573</td>\n      <td>0.113196</td>\n      <td>0.607910</td>\n      <td>1.543742</td>\n      <td>0.218766</td>\n      <td>2.294146</td>\n      <td>0.148055</td>\n      <td>5.093697e+07</td>\n    </tr>\n    <tr>\n      <th>5</th>\n      <td>World</td>\n      <td>OWID_WRL</td>\n      <td>2013</td>\n      <td>0.610462</td>\n      <td>5.068342</td>\n      <td>0.321990</td>\n      <td>0.507137</td>\n      <td>0.043578</td>\n      <td>31.860088</td>\n      <td>4.243542</td>\n      <td>...</td>\n      <td>0.334498</td>\n      <td>0.037273</td>\n      <td>3.256034</td>\n      <td>0.109221</td>\n      <td>0.583759</td>\n      <td>1.524548</td>\n      <td>0.225271</td>\n      <td>2.353196</td>\n      <td>0.146557</td>\n      <td>5.111104e+07</td>\n    </tr>\n    <tr>\n      <th>6</th>\n      <td>World</td>\n      <td>OWID_WRL</td>\n      <td>2014</td>\n      <td>0.591830</td>\n      <td>4.981157</td>\n      <td>0.313638</td>\n      <td>0.483359</td>\n      <td>0.085911</td>\n      <td>32.109811</td>\n      <td>4.352276</td>\n      <td>...</td>\n      <td>0.335390</td>\n      <td>0.012558</td>\n      <td>3.127720</td>\n      <td>0.106347</td>\n      <td>0.558424</td>\n      <td>1.509516</td>\n      <td>0.351910</td>\n      <td>2.412113</td>\n      <td>0.143745</td>\n      <td>5.178591e+07</td>\n    </tr>\n    <tr>\n      <th>7</th>\n      <td>World</td>\n      <td>OWID_WRL</td>\n      <td>2015</td>\n      <td>0.567101</td>\n      <td>4.902279</td>\n      <td>0.302349</td>\n      <td>0.462758</td>\n      <td>0.073762</td>\n      <td>32.540099</td>\n      <td>4.468350</td>\n      <td>...</td>\n      <td>0.338638</td>\n      <td>0.027999</td>\n      <td>2.996650</td>\n      <td>0.109619</td>\n      <td>0.536320</td>\n      <td>1.486406</td>\n      <td>0.261288</td>\n      <td>2.467194</td>\n      <td>0.141237</td>\n      <td>5.267344e+07</td>\n    </tr>\n    <tr>\n      <th>8</th>\n      <td>World</td>\n      <td>OWID_WRL</td>\n      <td>2016</td>\n      <td>0.554221</td>\n      <td>4.822619</td>\n      <td>0.291176</td>\n      <td>0.442864</td>\n      <td>0.065318</td>\n      <td>32.825503</td>\n      <td>4.570527</td>\n      <td>...</td>\n      <td>0.340309</td>\n      <td>0.013601</td>\n      <td>2.904948</td>\n      <td>0.101492</td>\n      <td>0.514889</td>\n      <td>1.477294</td>\n      <td>0.296623</td>\n      <td>2.522040</td>\n      <td>0.137943</td>\n      <td>5.338645e+07</td>\n    </tr>\n    <tr>\n      <th>9</th>\n      <td>World</td>\n      <td>OWID_WRL</td>\n      <td>2017</td>\n      <td>0.534836</td>\n      <td>4.751165</td>\n      <td>0.286167</td>\n      <td>0.430384</td>\n      <td>0.049107</td>\n      <td>33.036636</td>\n      <td>4.669484</td>\n      <td>...</td>\n      <td>0.343411</td>\n      <td>0.017832</td>\n      <td>2.914563</td>\n      <td>0.099067</td>\n      <td>0.501367</td>\n      <td>1.474079</td>\n      <td>0.240882</td>\n      <td>2.543720</td>\n      <td>0.134387</td>\n      <td>5.385218e+07</td>\n    </tr>\n  </tbody>\n</table>\n<p>10 rows × 37 columns</p>\n</div>"
     },
     "execution_count": 29,
     "metadata": {},
     "output_type": "execute_result"
    }
   ],
   "source": [
    "world_death_by_cause_relative_df = percentage_of_total_deaths(world_death_by_cause_df, cause_columns)\n",
    "world_death_by_cause_relative_df"
   ]
  },
  {
   "cell_type": "markdown",
   "metadata": {},
   "source": [
    "### Deaths by category"
   ]
  },
  {
   "cell_type": "code",
   "execution_count": 30,
   "metadata": {},
   "outputs": [
    {
     "data": {
      "text/plain": "           Entity Code  Year  Non-communicable diseases  \\\n0     Afghanistan  AFG  2008              107108.631648   \n1     Afghanistan  AFG  2009              106507.662016   \n2     Afghanistan  AFG  2010              106608.183852   \n3     Afghanistan  AFG  2011              107238.990094   \n4     Afghanistan  AFG  2012              107575.457736   \n...           ...  ...   ...                        ...   \n2305     Zimbabwe  ZWE  2013               43813.657226   \n2306     Zimbabwe  ZWE  2014               43708.402562   \n2307     Zimbabwe  ZWE  2015               43853.733855   \n2308     Zimbabwe  ZWE  2016               44364.468727   \n2309     Zimbabwe  ZWE  2017               44899.862604   \n\n      Communicable, maternal, neonatal, and nutritional diseases      Injuries  \n0                                         102268.763448           29830.866176  \n1                                          99423.405087           30147.362477  \n2                                          94345.202146           31447.703741  \n3                                          92104.020176           32062.256680  \n4                                          89889.581949           34518.747794  \n...                                                 ...                    ...  \n2305                                       82444.005046           10900.259416  \n2306                                       73746.515011           10656.544622  \n2307                                       68742.793671           10680.832731  \n2308                                       65173.657699           10735.347076  \n2309                                       61968.409469           10759.260473  \n\n[2310 rows x 6 columns]",
      "text/html": "<div>\n<style scoped>\n    .dataframe tbody tr th:only-of-type {\n        vertical-align: middle;\n    }\n\n    .dataframe tbody tr th {\n        vertical-align: top;\n    }\n\n    .dataframe thead th {\n        text-align: right;\n    }\n</style>\n<table border=\"1\" class=\"dataframe\">\n  <thead>\n    <tr style=\"text-align: right;\">\n      <th></th>\n      <th>Entity</th>\n      <th>Code</th>\n      <th>Year</th>\n      <th>Non-communicable diseases</th>\n      <th>Communicable, maternal, neonatal, and nutritional diseases</th>\n      <th>Injuries</th>\n    </tr>\n  </thead>\n  <tbody>\n    <tr>\n      <th>0</th>\n      <td>Afghanistan</td>\n      <td>AFG</td>\n      <td>2008</td>\n      <td>107108.631648</td>\n      <td>102268.763448</td>\n      <td>29830.866176</td>\n    </tr>\n    <tr>\n      <th>1</th>\n      <td>Afghanistan</td>\n      <td>AFG</td>\n      <td>2009</td>\n      <td>106507.662016</td>\n      <td>99423.405087</td>\n      <td>30147.362477</td>\n    </tr>\n    <tr>\n      <th>2</th>\n      <td>Afghanistan</td>\n      <td>AFG</td>\n      <td>2010</td>\n      <td>106608.183852</td>\n      <td>94345.202146</td>\n      <td>31447.703741</td>\n    </tr>\n    <tr>\n      <th>3</th>\n      <td>Afghanistan</td>\n      <td>AFG</td>\n      <td>2011</td>\n      <td>107238.990094</td>\n      <td>92104.020176</td>\n      <td>32062.256680</td>\n    </tr>\n    <tr>\n      <th>4</th>\n      <td>Afghanistan</td>\n      <td>AFG</td>\n      <td>2012</td>\n      <td>107575.457736</td>\n      <td>89889.581949</td>\n      <td>34518.747794</td>\n    </tr>\n    <tr>\n      <th>...</th>\n      <td>...</td>\n      <td>...</td>\n      <td>...</td>\n      <td>...</td>\n      <td>...</td>\n      <td>...</td>\n    </tr>\n    <tr>\n      <th>2305</th>\n      <td>Zimbabwe</td>\n      <td>ZWE</td>\n      <td>2013</td>\n      <td>43813.657226</td>\n      <td>82444.005046</td>\n      <td>10900.259416</td>\n    </tr>\n    <tr>\n      <th>2306</th>\n      <td>Zimbabwe</td>\n      <td>ZWE</td>\n      <td>2014</td>\n      <td>43708.402562</td>\n      <td>73746.515011</td>\n      <td>10656.544622</td>\n    </tr>\n    <tr>\n      <th>2307</th>\n      <td>Zimbabwe</td>\n      <td>ZWE</td>\n      <td>2015</td>\n      <td>43853.733855</td>\n      <td>68742.793671</td>\n      <td>10680.832731</td>\n    </tr>\n    <tr>\n      <th>2308</th>\n      <td>Zimbabwe</td>\n      <td>ZWE</td>\n      <td>2016</td>\n      <td>44364.468727</td>\n      <td>65173.657699</td>\n      <td>10735.347076</td>\n    </tr>\n    <tr>\n      <th>2309</th>\n      <td>Zimbabwe</td>\n      <td>ZWE</td>\n      <td>2017</td>\n      <td>44899.862604</td>\n      <td>61968.409469</td>\n      <td>10759.260473</td>\n    </tr>\n  </tbody>\n</table>\n<p>2310 rows × 6 columns</p>\n</div>"
     },
     "execution_count": 30,
     "metadata": {},
     "output_type": "execute_result"
    }
   ],
   "source": [
    "death_by_category_df = modify_and_drop_cols(raw_death_by_category_df, {}, [])\n",
    "death_by_category_df"
   ]
  },
  {
   "cell_type": "markdown",
   "metadata": {},
   "source": [
    "#### Extract world data"
   ]
  },
  {
   "cell_type": "code",
   "execution_count": 31,
   "metadata": {},
   "outputs": [
    {
     "data": {
      "text/plain": "  Entity      Code  Year  Non-communicable diseases  \\\n0  World  OWID_WRL  2008               3.418150e+07   \n1  World  OWID_WRL  2009               3.483548e+07   \n2  World  OWID_WRL  2010               3.559222e+07   \n3  World  OWID_WRL  2011               3.621622e+07   \n4  World  OWID_WRL  2012               3.683037e+07   \n5  World  OWID_WRL  2013               3.735997e+07   \n6  World  OWID_WRL  2014               3.825766e+07   \n7  World  OWID_WRL  2015               3.945300e+07   \n8  World  OWID_WRL  2016               4.040355e+07   \n9  World  OWID_WRL  2017               4.107113e+07   \n\n   Communicable, maternal, neonatal, and nutritional diseases      Injuries  \n0                                       1.308734e+07           4.634715e+06  \n1                                       1.281121e+07           4.425399e+06  \n2                                       1.252802e+07           4.718076e+06  \n3                                       1.219007e+07           4.487698e+06  \n4                                       1.180971e+07           4.462361e+06  \n5                                       1.146154e+07           4.452354e+06  \n6                                       1.117078e+07           4.507679e+06  \n7                                       1.088245e+07           4.486745e+06  \n8                                       1.060071e+07           4.505297e+06  \n9                                       1.038987e+07           4.484722e+06  ",
      "text/html": "<div>\n<style scoped>\n    .dataframe tbody tr th:only-of-type {\n        vertical-align: middle;\n    }\n\n    .dataframe tbody tr th {\n        vertical-align: top;\n    }\n\n    .dataframe thead th {\n        text-align: right;\n    }\n</style>\n<table border=\"1\" class=\"dataframe\">\n  <thead>\n    <tr style=\"text-align: right;\">\n      <th></th>\n      <th>Entity</th>\n      <th>Code</th>\n      <th>Year</th>\n      <th>Non-communicable diseases</th>\n      <th>Communicable, maternal, neonatal, and nutritional diseases</th>\n      <th>Injuries</th>\n    </tr>\n  </thead>\n  <tbody>\n    <tr>\n      <th>0</th>\n      <td>World</td>\n      <td>OWID_WRL</td>\n      <td>2008</td>\n      <td>3.418150e+07</td>\n      <td>1.308734e+07</td>\n      <td>4.634715e+06</td>\n    </tr>\n    <tr>\n      <th>1</th>\n      <td>World</td>\n      <td>OWID_WRL</td>\n      <td>2009</td>\n      <td>3.483548e+07</td>\n      <td>1.281121e+07</td>\n      <td>4.425399e+06</td>\n    </tr>\n    <tr>\n      <th>2</th>\n      <td>World</td>\n      <td>OWID_WRL</td>\n      <td>2010</td>\n      <td>3.559222e+07</td>\n      <td>1.252802e+07</td>\n      <td>4.718076e+06</td>\n    </tr>\n    <tr>\n      <th>3</th>\n      <td>World</td>\n      <td>OWID_WRL</td>\n      <td>2011</td>\n      <td>3.621622e+07</td>\n      <td>1.219007e+07</td>\n      <td>4.487698e+06</td>\n    </tr>\n    <tr>\n      <th>4</th>\n      <td>World</td>\n      <td>OWID_WRL</td>\n      <td>2012</td>\n      <td>3.683037e+07</td>\n      <td>1.180971e+07</td>\n      <td>4.462361e+06</td>\n    </tr>\n    <tr>\n      <th>5</th>\n      <td>World</td>\n      <td>OWID_WRL</td>\n      <td>2013</td>\n      <td>3.735997e+07</td>\n      <td>1.146154e+07</td>\n      <td>4.452354e+06</td>\n    </tr>\n    <tr>\n      <th>6</th>\n      <td>World</td>\n      <td>OWID_WRL</td>\n      <td>2014</td>\n      <td>3.825766e+07</td>\n      <td>1.117078e+07</td>\n      <td>4.507679e+06</td>\n    </tr>\n    <tr>\n      <th>7</th>\n      <td>World</td>\n      <td>OWID_WRL</td>\n      <td>2015</td>\n      <td>3.945300e+07</td>\n      <td>1.088245e+07</td>\n      <td>4.486745e+06</td>\n    </tr>\n    <tr>\n      <th>8</th>\n      <td>World</td>\n      <td>OWID_WRL</td>\n      <td>2016</td>\n      <td>4.040355e+07</td>\n      <td>1.060071e+07</td>\n      <td>4.505297e+06</td>\n    </tr>\n    <tr>\n      <th>9</th>\n      <td>World</td>\n      <td>OWID_WRL</td>\n      <td>2017</td>\n      <td>4.107113e+07</td>\n      <td>1.038987e+07</td>\n      <td>4.484722e+06</td>\n    </tr>\n  </tbody>\n</table>\n</div>"
     },
     "execution_count": 31,
     "metadata": {},
     "output_type": "execute_result"
    }
   ],
   "source": [
    "world_death_by_category_df = extract_world_data(death_by_category_df)\n",
    "world_death_by_category_df"
   ]
  },
  {
   "cell_type": "code",
   "execution_count": 32,
   "metadata": {},
   "outputs": [],
   "source": [
    "all_death_by_category_columns = list(world_death_by_category_df.columns)\n",
    "category_columns = [e for e in all_death_by_category_columns if e not in info_columns]"
   ]
  },
  {
   "cell_type": "code",
   "execution_count": 33,
   "metadata": {},
   "outputs": [
    {
     "data": {
      "text/plain": "  Entity      Code  Year  Non-communicable diseases  \\\n0  World  OWID_WRL  2008                  65.855794   \n1  World  OWID_WRL  2009                  66.898568   \n2  World  OWID_WRL  2010                  67.360623   \n3  World  OWID_WRL  2011                  68.469444   \n4  World  OWID_WRL  2012                  69.357208   \n5  World  OWID_WRL  2013                  70.128132   \n6  World  OWID_WRL  2014                  70.931427   \n7  World  OWID_WRL  2015                  71.965378   \n8  World  OWID_WRL  2016                  72.786653   \n9  World  OWID_WRL  2017                  73.412455   \n\n   Communicable, maternal, neonatal, and nutritional diseases  Injuries  \\\n0                                          25.214733           8.929473   \n1                                          24.602832           8.498600   \n2                                          23.710107           8.929270   \n3                                          23.046231           8.484325   \n4                                          22.239485           8.403306   \n5                                          21.514385           8.357483   \n6                                          20.711133           8.357440   \n7                                          19.850444           8.184177   \n8                                          19.097091           8.116256   \n9                                          18.571344           8.016201   \n\n   Total deaths  \n0  5.190356e+07  \n1  5.207209e+07  \n2  5.283831e+07  \n3  5.289400e+07  \n4  5.310245e+07  \n5  5.327386e+07  \n6  5.393612e+07  \n7  5.482219e+07  \n8  5.550955e+07  \n9  5.594573e+07  ",
      "text/html": "<div>\n<style scoped>\n    .dataframe tbody tr th:only-of-type {\n        vertical-align: middle;\n    }\n\n    .dataframe tbody tr th {\n        vertical-align: top;\n    }\n\n    .dataframe thead th {\n        text-align: right;\n    }\n</style>\n<table border=\"1\" class=\"dataframe\">\n  <thead>\n    <tr style=\"text-align: right;\">\n      <th></th>\n      <th>Entity</th>\n      <th>Code</th>\n      <th>Year</th>\n      <th>Non-communicable diseases</th>\n      <th>Communicable, maternal, neonatal, and nutritional diseases</th>\n      <th>Injuries</th>\n      <th>Total deaths</th>\n    </tr>\n  </thead>\n  <tbody>\n    <tr>\n      <th>0</th>\n      <td>World</td>\n      <td>OWID_WRL</td>\n      <td>2008</td>\n      <td>65.855794</td>\n      <td>25.214733</td>\n      <td>8.929473</td>\n      <td>5.190356e+07</td>\n    </tr>\n    <tr>\n      <th>1</th>\n      <td>World</td>\n      <td>OWID_WRL</td>\n      <td>2009</td>\n      <td>66.898568</td>\n      <td>24.602832</td>\n      <td>8.498600</td>\n      <td>5.207209e+07</td>\n    </tr>\n    <tr>\n      <th>2</th>\n      <td>World</td>\n      <td>OWID_WRL</td>\n      <td>2010</td>\n      <td>67.360623</td>\n      <td>23.710107</td>\n      <td>8.929270</td>\n      <td>5.283831e+07</td>\n    </tr>\n    <tr>\n      <th>3</th>\n      <td>World</td>\n      <td>OWID_WRL</td>\n      <td>2011</td>\n      <td>68.469444</td>\n      <td>23.046231</td>\n      <td>8.484325</td>\n      <td>5.289400e+07</td>\n    </tr>\n    <tr>\n      <th>4</th>\n      <td>World</td>\n      <td>OWID_WRL</td>\n      <td>2012</td>\n      <td>69.357208</td>\n      <td>22.239485</td>\n      <td>8.403306</td>\n      <td>5.310245e+07</td>\n    </tr>\n    <tr>\n      <th>5</th>\n      <td>World</td>\n      <td>OWID_WRL</td>\n      <td>2013</td>\n      <td>70.128132</td>\n      <td>21.514385</td>\n      <td>8.357483</td>\n      <td>5.327386e+07</td>\n    </tr>\n    <tr>\n      <th>6</th>\n      <td>World</td>\n      <td>OWID_WRL</td>\n      <td>2014</td>\n      <td>70.931427</td>\n      <td>20.711133</td>\n      <td>8.357440</td>\n      <td>5.393612e+07</td>\n    </tr>\n    <tr>\n      <th>7</th>\n      <td>World</td>\n      <td>OWID_WRL</td>\n      <td>2015</td>\n      <td>71.965378</td>\n      <td>19.850444</td>\n      <td>8.184177</td>\n      <td>5.482219e+07</td>\n    </tr>\n    <tr>\n      <th>8</th>\n      <td>World</td>\n      <td>OWID_WRL</td>\n      <td>2016</td>\n      <td>72.786653</td>\n      <td>19.097091</td>\n      <td>8.116256</td>\n      <td>5.550955e+07</td>\n    </tr>\n    <tr>\n      <th>9</th>\n      <td>World</td>\n      <td>OWID_WRL</td>\n      <td>2017</td>\n      <td>73.412455</td>\n      <td>18.571344</td>\n      <td>8.016201</td>\n      <td>5.594573e+07</td>\n    </tr>\n  </tbody>\n</table>\n</div>"
     },
     "execution_count": 33,
     "metadata": {},
     "output_type": "execute_result"
    }
   ],
   "source": [
    "world_death_by_category_relative_df = percentage_of_total_deaths(world_death_by_category_df, category_columns)\n",
    "world_death_by_category_relative_df"
   ]
  },
  {
   "cell_type": "markdown",
   "metadata": {},
   "source": [
    "## Plotting"
   ]
  },
  {
   "cell_type": "code",
   "execution_count": 34,
   "metadata": {},
   "outputs": [],
   "source": [
    "def plot_line_chart(df, x_axis, y_axis, y_label, title, log_y = True, y_start_0 = False,):\n",
    "    \"\"\"\n",
    "    Plots line chart with logarithmic y-axis as standard. \n",
    "    Will extract 7 random elements from y_axis if len(y_axis) > 7.\n",
    "    \"\"\"\n",
    "    ax = plt.gca()\n",
    "    if len(y_axis) > 7:\n",
    "        y_axis = random.sample(y_axis, 7)\n",
    "    \n",
    "    for i, col in enumerate(y_axis):\n",
    "        df.plot(kind='line', x=x_axis, y=col, ax=ax, color=COLORS[i%len(COLORS)], logy=log_y, title=title, xlabel=x_axis, ylabel=y_label)\n",
    "    \n",
    "    if y_start_0:\n",
    "        if log_y:\n",
    "            ax.set_ylim(ymin=1)\n",
    "            print(\"eih\")\n",
    "        else:\n",
    "            ax.set_ylim(ymin=0) \n",
    "        \n",
    "    ax.legend(loc='center left', bbox_to_anchor=(1, 0.5))\n",
    "    plt.xlabel = x_axis\n",
    "    plt.ylabel = y_label\n",
    "    plt.title = title\n",
    "    plt.show()"
   ]
  },
  {
   "cell_type": "code",
   "execution_count": 35,
   "metadata": {},
   "outputs": [],
   "source": [
    "def plot_stacked_area_chart(df, x_axis, y_axis, y_label, title):\n",
    "    \"\"\"\n",
    "    Plots stacked area chart.\n",
    "    \"\"\"\n",
    "    df = df[y_axis +[x_axis]]\n",
    "    \n",
    "    ax = df.plot.area(x=x_axis, title=title, xlabel=x_axis, ylabel=y_label)\n",
    "    ax.legend(loc='center left', bbox_to_anchor=(1, 0.5))\n",
    "    \n",
    "    plt.xlabel = x_axis\n",
    "    plt.ylabel = y_label\n",
    "    plt.title = title\n",
    "    plt.show()"
   ]
  },
  {
   "cell_type": "markdown",
   "metadata": {},
   "source": [
    "### Deaths by cause"
   ]
  },
  {
   "cell_type": "code",
   "execution_count": 36,
   "metadata": {},
   "outputs": [],
   "source": [
    "example_cause_columns = random.sample(cause_columns, 7)"
   ]
  },
  {
   "cell_type": "code",
   "execution_count": 37,
   "metadata": {},
   "outputs": [
    {
     "data": {
      "text/plain": "<Figure size 432x288 with 1 Axes>",
      "image/png": "[encoded data removed]"
     },
     "metadata": {
      "needs_background": "light"
     },
     "output_type": "display_data"
    }
   ],
   "source": [
    "plot_line_chart(world_death_by_cause_relative_df, \"Year\", example_cause_columns, \"Percentage deaths\", \"Percentage of deaths by cause\", log_y = False)"
   ]
  },
  {
   "cell_type": "markdown",
   "metadata": {},
   "source": [
    "### Deaths by category"
   ]
  },
  {
   "cell_type": "code",
   "execution_count": 38,
   "metadata": {
    "pycharm": {
     "name": "#%%\n"
    }
   },
   "outputs": [
    {
     "data": {
      "text/plain": "<Figure size 432x288 with 1 Axes>",
      "image/png": "[encoded data removed]"
     },
     "metadata": {
      "needs_background": "light"
     },
     "output_type": "display_data"
    }
   ],
   "source": [
    "plot_stacked_area_chart(world_death_by_category_relative_df, \"Year\", category_columns, \"Percentage deaths\", \"Percentage of deaths by category\")"
   ]
  }
 ],
 "metadata": {
  "kernelspec": {
   "display_name": "Python 3",
   "language": "python",
   "name": "python3"
  },
  "language_info": {
   "codemirror_mode": {
    "name": "ipython",
    "version": 3
   },
   "file_extension": ".py",
   "mimetype": "text/x-python",
   "name": "python",
   "nbconvert_exporter": "python",
   "pygments_lexer": "ipython3",
   "version": "3.8.7"
  }
 },
 "nbformat": 4,
 "nbformat_minor": 1
}