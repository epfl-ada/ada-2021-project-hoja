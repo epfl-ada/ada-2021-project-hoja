{
 "cells": [
  {
   "cell_type": "markdown",
   "metadata": {},
   "source": [
    "# Milestone 2"
   ]
  },
  {
   "cell_type": "markdown",
   "metadata": {},
   "source": [
    "## Imports"
   ]
  },
  {
   "cell_type": "markdown",
   "metadata": {},
   "source": [
    "# Quotebank preprocessing"
   ]
  },
  {
   "cell_type": "markdown",
   "metadata": {},
   "source": [
    "Most of the code used for the quotebank preprocessing can be found in the classes QuotebankData and Keyword, in addition to in files for helper functions. "
   ]
  },
  {
   "cell_type": "code",
   "execution_count": 1,
   "metadata": {
    "pycharm": {
     "name": "#%%\n"
    }
   },
   "outputs": [
    {
     "name": "stderr",
     "output_type": "stream",
     "text": [
      "[nltk_data] Downloading package wordnet to\n",
      "[nltk_data]     /Users/andreaperozziello/nltk_data...\n",
      "[nltk_data]   Package wordnet is already up-to-date!\n"
     ]
    }
   ],
   "source": [
    "import pandas as pd\n",
    "import numpy as np\n",
    "import matplotlib.pyplot as plt\n",
    "from src.QuoteBankData import QuoteBankData\n",
    "from src.Deaths import Deaths\n",
    "import src.utilities.quotebank_preprocessing_utils as utils\n",
    "from src.CONSTS import DATA_PATH, CATEGORIES, BEGIN_YEAR, END_YEAR, CATEGORY_MAPPING, COLOR_MAP \n",
    "from src.utilities.synonym_utils import add_new_synonyms\n",
    "from src.utilities.utils import *\n",
    "from src.utilities.plotting import save_plt"
   ]
  },
  {
   "cell_type": "markdown",
   "metadata": {
    "pycharm": {
     "name": "#%% md\n"
    }
   },
   "source": [
    "Initialize quotebank\n",
    "- read keyword and synonyms for death causes\n",
    "- create folders and file names for quotes that matches keywords or synonyms\n",
    "- match keywords and synonyms with quotes"
   ]
  },
  {
   "cell_type": "markdown",
   "metadata": {},
   "source": [
    "load database of speakers\n"
   ]
  },
  {
   "cell_type": "code",
   "execution_count": 2,
   "metadata": {},
   "outputs": [],
   "source": [
    "quotebank = QuoteBankData(\"Asymmetry of News\", [])\n",
    "quotebank.read_keywords_from_file()\n",
    "utils.create_directories_for_every_year()\n",
    "quotebank.create_json_dumps_filenames_for_each_keyword()"
   ]
  },
  {
   "cell_type": "code",
   "execution_count": 3,
   "metadata": {},
   "outputs": [],
   "source": [
    "import warnings\n",
    "import collections\n",
    "\n",
    "warnings.filterwarnings(\"ignore\")\n",
    "\n",
    "def save_meta_data_quotes():\n",
    "    quotebank.quotes_occurrences_df = pd.DataFrame()\n",
    "    for year in range(BEGIN_YEAR, END_YEAR + 1):\n",
    "        dict_df_row = {\"Year\": year}\n",
    "        for key in quotebank.keywords:\n",
    "            file = key.output_filenames[year-BEGIN_YEAR]\n",
    "            with open(file, 'rU') as f:\n",
    "                quotes = pd.read_json(file, lines=True)\n",
    "            if len(quotes) > 0:\n",
    "                # Save total number of quotes per year per topic in df\n",
    "                num_of_quotes = quotes[\"n_appearances\"].sum()\n",
    "                \n",
    "\n",
    "                for _, line_quotes in quotes.iterrows():\n",
    "                    # Safe number of quotes per topic per year per country of url\n",
    "                    country_urls = line_quotes['country_urls']\n",
    "                    for country in country_urls:\n",
    "                        if country in key.country_url_occurences:\n",
    "                            key.country_url_occurences[country] += 1\n",
    "                        else:\n",
    "                            key.country_url_occurences[country] = 1\n",
    "\n",
    "                    # Safe number of quotes per topic per year per country of speaker\n",
    "                    country_speaker = line_quotes['country_speaker']\n",
    "                    if country_speaker:\n",
    "                        if isinstance(country_speaker, list):        # if multiple countries, take most occuring\n",
    "                            country_speaker = collections.Counter(country_speaker).most_common(1)[0][0]\n",
    "\n",
    "                        if country_speaker in key.country_speaker_occurences:\n",
    "                            key.country_speaker_occurences[country_speaker] +=1\n",
    "                        else:\n",
    "                            key.country_speaker_occurences[country_speaker] = 1 \n",
    "            else:\n",
    "                num_of_quotes = 0\n",
    "            dict_df_row[key.name] = num_of_quotes\n",
    "            \n",
    "        quotebank.quotes_occurrences_df = quotebank.quotes_occurrences_df.append(dict_df_row, ignore_index = True)\n",
    "        cols = quotebank.quotes_occurrences_df.columns\n",
    "        quotebank.quotes_occurrences_df[cols] = quotebank.quotes_occurrences_df[cols].astype(int)"
   ]
  },
  {
   "cell_type": "code",
   "execution_count": 4,
   "metadata": {},
   "outputs": [
    {
     "ename": "FileNotFoundError",
     "evalue": "[Errno 2] No such file or directory: './generated/2014/Meningitis-2014.json.bz2'",
     "output_type": "error",
     "traceback": [
      "\u001B[0;31m---------------------------------------------------------------------------\u001B[0m",
      "\u001B[0;31mFileNotFoundError\u001B[0m                         Traceback (most recent call last)",
      "\u001B[0;32m<ipython-input-4-59c991bec0ff>\u001B[0m in \u001B[0;36m<module>\u001B[0;34m\u001B[0m\n\u001B[0;32m----> 1\u001B[0;31m \u001B[0msave_meta_data_quotes\u001B[0m\u001B[0;34m(\u001B[0m\u001B[0;34m)\u001B[0m\u001B[0;34m\u001B[0m\u001B[0;34m\u001B[0m\u001B[0m\n\u001B[0m",
      "\u001B[0;32m<ipython-input-3-4170dd63b788>\u001B[0m in \u001B[0;36msave_meta_data_quotes\u001B[0;34m()\u001B[0m\n\u001B[1;32m     10\u001B[0m         \u001B[0;32mfor\u001B[0m \u001B[0mkey\u001B[0m \u001B[0;32min\u001B[0m \u001B[0mquotebank\u001B[0m\u001B[0;34m.\u001B[0m\u001B[0mkeywords\u001B[0m\u001B[0;34m:\u001B[0m\u001B[0;34m\u001B[0m\u001B[0;34m\u001B[0m\u001B[0m\n\u001B[1;32m     11\u001B[0m             \u001B[0mfile\u001B[0m \u001B[0;34m=\u001B[0m \u001B[0mkey\u001B[0m\u001B[0;34m.\u001B[0m\u001B[0moutput_filenames\u001B[0m\u001B[0;34m[\u001B[0m\u001B[0myear\u001B[0m\u001B[0;34m-\u001B[0m\u001B[0mBEGIN_YEAR\u001B[0m\u001B[0;34m]\u001B[0m\u001B[0;34m\u001B[0m\u001B[0;34m\u001B[0m\u001B[0m\n\u001B[0;32m---> 12\u001B[0;31m             \u001B[0;32mwith\u001B[0m \u001B[0mopen\u001B[0m\u001B[0;34m(\u001B[0m\u001B[0mfile\u001B[0m\u001B[0;34m,\u001B[0m \u001B[0;34m'rU'\u001B[0m\u001B[0;34m)\u001B[0m \u001B[0;32mas\u001B[0m \u001B[0mf\u001B[0m\u001B[0;34m:\u001B[0m\u001B[0;34m\u001B[0m\u001B[0;34m\u001B[0m\u001B[0m\n\u001B[0m\u001B[1;32m     13\u001B[0m                 \u001B[0mquotes\u001B[0m \u001B[0;34m=\u001B[0m \u001B[0mpd\u001B[0m\u001B[0;34m.\u001B[0m\u001B[0mread_json\u001B[0m\u001B[0;34m(\u001B[0m\u001B[0mfile\u001B[0m\u001B[0;34m,\u001B[0m \u001B[0mlines\u001B[0m\u001B[0;34m=\u001B[0m\u001B[0;32mTrue\u001B[0m\u001B[0;34m)\u001B[0m\u001B[0;34m\u001B[0m\u001B[0;34m\u001B[0m\u001B[0m\n\u001B[1;32m     14\u001B[0m             \u001B[0;32mif\u001B[0m \u001B[0mlen\u001B[0m\u001B[0;34m(\u001B[0m\u001B[0mquotes\u001B[0m\u001B[0;34m)\u001B[0m \u001B[0;34m>\u001B[0m \u001B[0;36m0\u001B[0m\u001B[0;34m:\u001B[0m\u001B[0;34m\u001B[0m\u001B[0;34m\u001B[0m\u001B[0m\n",
      "\u001B[0;31mFileNotFoundError\u001B[0m: [Errno 2] No such file or directory: './generated/2014/Meningitis-2014.json.bz2'"
     ]
    }
   ],
   "source": [
    "save_meta_data_quotes()"
   ]
  },
  {
   "cell_type": "code",
   "execution_count": null,
   "metadata": {},
   "outputs": [],
   "source": [
    "quotebank.quotes_occurrences_df"
   ]
  },
  {
   "cell_type": "code",
   "execution_count": null,
   "metadata": {},
   "outputs": [],
   "source": [
    "quotebank.quotes_percentage_df = percentage_of_total_count(quotebank.quotes_occurrences_df, quotebank.get_all_keyword_names())"
   ]
  },
  {
   "cell_type": "code",
   "execution_count": null,
   "metadata": {},
   "outputs": [],
   "source": [
    "quotebank.quotes_percentage_df"
   ]
  },
  {
   "cell_type": "code",
   "execution_count": null,
   "metadata": {},
   "outputs": [],
   "source": [
    "quotebank.map_df_causes_to_categories()"
   ]
  },
  {
   "cell_type": "code",
   "execution_count": null,
   "metadata": {},
   "outputs": [],
   "source": [
    "quotebank.cat_quotes_occurrences_df"
   ]
  },
  {
   "cell_type": "code",
   "execution_count": null,
   "metadata": {},
   "outputs": [],
   "source": [
    "quotebank.cat_quotes_percentages_df = percentage_of_total_count(quotebank.cat_quotes_occurrences_df, CATEGORIES)"
   ]
  },
  {
   "cell_type": "code",
   "execution_count": null,
   "metadata": {},
   "outputs": [],
   "source": [
    "quotebank.cat_quotes_percentages_df"
   ]
  },
  {
   "cell_type": "markdown",
   "metadata": {},
   "source": [
    "# Our World in Data preprocessing"
   ]
  },
  {
   "cell_type": "markdown",
   "metadata": {},
   "source": [
    "This part of the notebook is more exploratory. We wanted to preprocess and look at the two main datasets form Our World in Data to be sure that the project is possible to do. "
   ]
  },
  {
   "cell_type": "markdown",
   "metadata": {},
   "source": [
    "## Preprocess death data"
   ]
  },
  {
   "cell_type": "markdown",
   "metadata": {},
   "source": [
    "### Deaths by cause"
   ]
  },
  {
   "cell_type": "code",
   "execution_count": null,
   "metadata": {},
   "outputs": [],
   "source": [
    "death_by_cause_path = DATA_PATH + \"annual_number_of_deaths_by_cause.csv\"\n",
    "deaths_by_cause = Deaths(\"deaths_by_cause\", \"World\", death_by_cause_path, rename_cols = {'Terrorism (deaths)': 'Terrorism', 'Deaths - Self-harm - Sex: Both - Age: All Ages (Number)': 'Suicide'}, drop_cols = ['Number of executions (Amnesty International)'])\n",
    "deaths_by_cause.df"
   ]
  },
  {
   "cell_type": "code",
   "execution_count": null,
   "metadata": {},
   "outputs": [],
   "source": [
    "deaths_by_cause.df.columns"
   ]
  },
  {
   "cell_type": "code",
   "execution_count": null,
   "metadata": {},
   "outputs": [],
   "source": [
    "deaths_by_cause.percentage_df"
   ]
  },
  {
   "cell_type": "markdown",
   "metadata": {},
   "source": [
    "### Deaths by category"
   ]
  },
  {
   "cell_type": "code",
   "execution_count": null,
   "metadata": {},
   "outputs": [],
   "source": [
    "death_by_category_path = DATA_PATH + \"categorized_annual_number_of_deaths.csv\"\n",
    "deaths_by_category = Deaths(\"deaths_by_category\",'World', death_by_category_path, rename_cols = {\"Deaths - Communicable, maternal, neonatal, and nutritional diseases - Sex: Both - Age: All Ages (Number)\": \"Communicable diseases\"})\n",
    "deaths_by_category.df"
   ]
  },
  {
   "cell_type": "code",
   "execution_count": null,
   "metadata": {},
   "outputs": [],
   "source": [
    "deaths_by_category.quant_columns"
   ]
  },
  {
   "cell_type": "code",
   "execution_count": null,
   "metadata": {},
   "outputs": [],
   "source": [
    "deaths_by_category.percentage_df"
   ]
  },
  {
   "cell_type": "markdown",
   "metadata": {},
   "source": [
    "## Plotting"
   ]
  },
  {
   "cell_type": "markdown",
   "metadata": {},
   "source": [
    "### Deaths by cause"
   ]
  },
  {
   "cell_type": "code",
   "execution_count": null,
   "metadata": {
    "scrolled": true
   },
   "outputs": [],
   "source": [
    "deaths_by_cause.plot_stacked_areas(\"\", \"Percentage of deaths by cause\")"
   ]
  },
  {
   "cell_type": "code",
   "execution_count": null,
   "metadata": {},
   "outputs": [],
   "source": [
    "def pie_chart_plot(df, year, threshold):\n",
    "    \n",
    "    pc_df = df.iloc[: , 3:]\n",
    "    pc_df = pc_df.iloc[[year - 2008]]\n",
    "    \n",
    "    other = 0\n",
    "    sorted_pd = pd.DataFrame(np.sort(pc_df.values))\n",
    "    \n",
    "    for column in pc_df:\n",
    "        if ((pc_df[column].values)) < sorted_pd.iloc[: ,-threshold].values:\n",
    "            other += pc_df[column].values\n",
    "            pc_df.drop([column], axis=1, inplace=True)\n",
    "            \n",
    "    pc_df = pc_df.assign(Other=other)\n",
    "    title = \"Deaths in \" + str(year)\n",
    "    pc_df.T.plot.pie(colormap=COLOR_MAP, subplots=True, figsize=(20, 6), legend=None, ylabel = '', startangle=270, autopct='%1.1f%%', pctdistance=0.7)\n",
    "    save_plt(title)"
   ]
  },
  {
   "cell_type": "code",
   "execution_count": null,
   "metadata": {},
   "outputs": [],
   "source": [
    "for y in range(2008, 2018):\n",
    "    pie_chart_plot(deaths_by_cause.percentage_df, y, 7)"
   ]
  },
  {
   "cell_type": "markdown",
   "metadata": {},
   "source": [
    "### Deaths by category"
   ]
  },
  {
   "cell_type": "code",
   "execution_count": null,
   "metadata": {
    "pycharm": {
     "name": "#%%\n"
    }
   },
   "outputs": [],
   "source": [
    "deaths_by_category.plot_stacked_areas(\"Percentage deaths\", \"Percentage of deaths by category\")"
   ]
  },
  {
   "cell_type": "markdown",
   "metadata": {},
   "source": [
    "# RQ1"
   ]
  },
  {
   "cell_type": "code",
   "execution_count": null,
   "metadata": {},
   "outputs": [],
   "source": [
    "def plot_RQ1():\n",
    "    "
   ]
  },
  {
   "cell_type": "code",
   "execution_count": null,
   "metadata": {},
   "outputs": [],
   "source": [
    "quotebank.quotes_percentage_df.columns"
   ]
  },
  {
   "cell_type": "code",
   "execution_count": null,
   "metadata": {},
   "outputs": [],
   "source": [
    "plot_RQ1()"
   ]
  },
  {
   "cell_type": "markdown",
   "metadata": {},
   "source": [
    "# RQ5"
   ]
  },
  {
   "cell_type": "code",
   "execution_count": null,
   "metadata": {},
   "outputs": [],
   "source": [
    "def group_quotebank_cols():\n",
    "    print(\":)\")"
   ]
  },
  {
   "cell_type": "code",
   "execution_count": null,
   "metadata": {},
   "outputs": [],
   "source": [
    "def plot_RQ5():\n",
    "    bar_labels = [\"quotes\", \"deaths\"]\n",
    "    width = 0.35 \n",
    "    for year in range(BEGIN_YEAR, END_YEAR + 1):\n",
    "        prev_values = [0, 0]\n",
    "        print(\"Year:\",  year)\n",
    "        fig, ax = plt.subplots()\n",
    "\n",
    "        for column in deaths_by_cause.quant_columns:\n",
    "            values = [quotebank.quotes_percentage_df.loc[quotebank.quotes_percentage_df[\"Year\"] == year, column].item(), \n",
    "                      deaths_by_cause.percentage_df.loc[deaths_by_cause.percentage_df[\"Year\"] == year, column].item()]\n",
    "\n",
    "            ax.bar(bar_labels, values, width, bottom = prev_values, label=column)\n",
    "            prev_values[0] += values[0]\n",
    "            prev_values[1] += values[1]\n",
    "\n",
    "        ax.set_ylabel('Percentage')\n",
    "        ax.set_title('Percentages of quotes and deaths')\n",
    "        ax.legend()\n",
    "\n",
    "        plt.show()"
   ]
  },
  {
   "cell_type": "code",
   "execution_count": null,
   "metadata": {},
   "outputs": [],
   "source": [
    "deaths_by_cause.quant_columns"
   ]
  },
  {
   "cell_type": "code",
   "execution_count": null,
   "metadata": {},
   "outputs": [],
   "source": [
    "plot_RQ5()"
   ]
  },
  {
   "cell_type": "code",
   "execution_count": null,
   "metadata": {},
   "outputs": [],
   "source": []
  },
  {
   "cell_type": "code",
   "execution_count": null,
   "metadata": {},
   "outputs": [],
   "source": []
  },
  {
   "cell_type": "code",
   "execution_count": null,
   "metadata": {},
   "outputs": [],
   "source": []
  }
 ],
 "metadata": {
  "kernelspec": {
   "display_name": "Python 3",
   "language": "python",
   "name": "python3"
  },
  "language_info": {
   "codemirror_mode": {
    "name": "ipython",
    "version": 3
   },
   "file_extension": ".py",
   "mimetype": "text/x-python",
   "name": "python",
   "nbconvert_exporter": "python",
   "pygments_lexer": "ipython3",
   "version": "3.8.7"
  }
 },
 "nbformat": 4,
 "nbformat_minor": 1
}