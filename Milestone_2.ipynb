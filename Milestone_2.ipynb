{
 "cells": [
  {
   "cell_type": "markdown",
   "metadata": {},
   "source": [
    "# Milestone 3"
   ]
  },
  {
   "cell_type": "markdown",
   "metadata": {},
   "source": [
    "## Imports"
   ]
  },
  {
   "cell_type": "code",
   "execution_count": 2,
   "metadata": {
    "pycharm": {
     "name": "#%%\n"
    }
   },
   "outputs": [
    {
     "name": "stderr",
     "output_type": "stream",
     "text": [
      "[nltk_data] Downloading package wordnet to\n",
      "[nltk_data]     C:\\Users\\jurri\\AppData\\Roaming\\nltk_data...\n",
      "[nltk_data]   Package wordnet is already up-to-date!\n"
     ]
    }
   ],
   "source": [
    "import pandas as pd\n",
    "import numpy as np\n",
    "import matplotlib.pyplot as plt\n",
    "from src.QuoteBankData import QuoteBankData\n",
    "from src.Deaths import Deaths\n",
    "import src.utilities.quotebank_preprocessing_utils as utils\n",
    "from src.CONSTS import *\n",
    "from src.utilities.synonym_utils import add_new_synonyms\n",
    "from src.utilities.utils import *\n",
    "from src.utilities.plotting import *\n",
    "from src.utilities.countries_utils import *\n",
    "import math\n",
    "import pygal\n",
    "from pygal.style import Style\n",
    "from pycountry_convert import country_alpha2_to_continent_code, country_name_to_country_alpha2"
   ]
  },
  {
   "cell_type": "markdown",
   "metadata": {},
   "source": [
    "# Quotebank preprocessing"
   ]
  },
  {
   "cell_type": "markdown",
   "metadata": {},
   "source": [
    "Most of the code used for the quotebank preprocessing can be found in the classes QuotebankData and Keyword, in addition to in files for helper functions. "
   ]
  },
  {
   "cell_type": "markdown",
   "metadata": {
    "pycharm": {
     "name": "#%% md\n"
    }
   },
   "source": [
    "Initialize quotebank\n",
    "- read keyword and synonyms for death causes\n",
    "- create folders and file names for quotes that matches keywords or synonyms\n",
    "- match keywords and synonyms with quotes\n",
    "\n",
    "Since the last step takes a lot of time, we performed it separately in the file run_quotebank_search.py. In this notebook, we will load the results we got from there, to analyze those further.\n",
    "run_quoteban_search.py matches quotes with certain topics with the help of synonyms, created with src/utilities/synonyms_utils.py. After keyword matching, seven topics are further filtered with clustering, which is performed with the help of src/utilities/clustering.py. The topics for clustering were determined based on random samples we took from found quotes."
   ]
  },
  {
   "cell_type": "markdown",
   "metadata": {},
   "source": [
    "load database of speakers\n"
   ]
  },
  {
   "cell_type": "code",
   "execution_count": 3,
   "metadata": {},
   "outputs": [],
   "source": [
    "quotebank = QuoteBankData(\"Asymmetry of News\", [])\n",
    "quotebank.read_keywords_from_file()\n",
    "utils.create_directories_for_every_year()\n",
    "quotebank.create_json_dumps_filenames_for_each_keyword()"
   ]
  },
  {
   "cell_type": "code",
   "execution_count": 4,
   "metadata": {},
   "outputs": [],
   "source": [
    "import warnings\n",
    "import collections\n",
    "\n",
    "warnings.filterwarnings(\"ignore\")\n",
    "\n",
    "def save_meta_data_quotes():\n",
    "    \n",
    "    quotebank.quotes_occurrences_df = pd.DataFrame()\n",
    "    for year in range(BEGIN_YEAR, END_YEAR + 1):\n",
    "        print(\"Creating meta data for year:\", year, \"...\")\n",
    "        dict_df_row = {\"Year\": year}\n",
    "        \n",
    "        for key in quotebank.keywords:\n",
    "            file = key.output_filenames[year-BEGIN_YEAR]\n",
    "            with open(file, 'rU') as f:\n",
    "                quotes = pd.read_json(file, lines=True)\n",
    "                \n",
    "            dict_df_row[key.name] = 0\n",
    "            if len(quotes) <= 0: continue\n",
    "                \n",
    "            # Save total number of quotes per year per topic in df\n",
    "            num_of_quotes = quotes[\"n_appearances\"].sum()\n",
    "            dict_df_row[key.name] = num_of_quotes\n",
    "\n",
    "            for _, line_quotes in quotes.iterrows():\n",
    "                # Safe number of quotes per topic per year per country of url\n",
    "                country_urls = line_quotes['country_urls']\n",
    "                for country in country_urls:\n",
    "                    if country == \"Great Britain\":\n",
    "                        country = \"United Kingdom\"\n",
    "                    if (country, year) in key.country_url_occurences:\n",
    "                        key.country_url_occurences[(country, year)] += 1\n",
    "                    else:\n",
    "                        key.country_url_occurences[(country, year)] = 1\n",
    "\n",
    "                # Safe number of quotes per topic per year per country of speaker\n",
    "                country_speaker = line_quotes['country_speaker']\n",
    "                if country_speaker:\n",
    "                    if isinstance(country_speaker, list):        # if multiple countries, take most occuring\n",
    "                        country_speaker = collections.Counter(country_speaker).most_common(1)[0][0]\n",
    "\n",
    "                    if (country_speaker,year) in key.country_speaker_occurences:\n",
    "                        key.country_speaker_occurences[(country_speaker,year)] +=1\n",
    "                    else:\n",
    "                        key.country_speaker_occurences[(country_speaker,year)] = 1 \n",
    "            \n",
    "        quotebank.quotes_occurrences_df = quotebank.quotes_occurrences_df.append(dict_df_row, ignore_index = True)\n",
    "        cols = quotebank.quotes_occurrences_df.columns\n",
    "        quotebank.quotes_occurrences_df[cols] = quotebank.quotes_occurrences_df[cols].astype(int)"
   ]
  },
  {
   "cell_type": "markdown",
   "metadata": {},
   "source": [
    "### Load the results of the quote finding"
   ]
  },
  {
   "cell_type": "code",
   "execution_count": null,
   "metadata": {
    "scrolled": true
   },
   "outputs": [
    {
     "name": "stdout",
     "output_type": "stream",
     "text": [
      "Creating meta data for year: 2008 ...\n",
      "Creating meta data for year: 2009 ...\n",
      "Creating meta data for year: 2010 ...\n",
      "Creating meta data for year: 2011 ...\n",
      "Creating meta data for year: 2012 ...\n",
      "Creating meta data for year: 2013 ...\n",
      "Creating meta data for year: 2014 ...\n"
     ]
    }
   ],
   "source": [
    "save_meta_data_quotes()"
   ]
  },
  {
   "cell_type": "code",
   "execution_count": null,
   "metadata": {},
   "outputs": [],
   "source": [
    "quotebank.quotes_occurrences_df"
   ]
  },
  {
   "cell_type": "code",
   "execution_count": null,
   "metadata": {},
   "outputs": [],
   "source": [
    "quotebank.quotes_percentage_df = percentage_of_total_count(quotebank.quotes_occurrences_df, TOPICS)"
   ]
  },
  {
   "cell_type": "code",
   "execution_count": null,
   "metadata": {},
   "outputs": [],
   "source": [
    "quotebank.quotes_percentage_df"
   ]
  },
  {
   "cell_type": "code",
   "execution_count": null,
   "metadata": {},
   "outputs": [],
   "source": [
    "for y in range(BEGIN_YEAR, END_YEAR + 1):\n",
    "    cause_pie_chart_plot(quotebank.quotes_percentage_df, y, 7, \"_quotes_\")"
   ]
  },
  {
   "cell_type": "code",
   "execution_count": null,
   "metadata": {},
   "outputs": [],
   "source": [
    "quotebank.map_df_causes_to_categories()"
   ]
  },
  {
   "cell_type": "code",
   "execution_count": null,
   "metadata": {},
   "outputs": [],
   "source": [
    "quotebank.cat_quotes_occurrences_df"
   ]
  },
  {
   "cell_type": "code",
   "execution_count": null,
   "metadata": {},
   "outputs": [],
   "source": [
    "quotebank.cat_quotes_percentage_df = percentage_of_total_count(quotebank.cat_quotes_occurrences_df, CATEGORIES)"
   ]
  },
  {
   "cell_type": "code",
   "execution_count": null,
   "metadata": {},
   "outputs": [],
   "source": [
    "quotebank.cat_quotes_percentage_df"
   ]
  },
  {
   "cell_type": "markdown",
   "metadata": {},
   "source": [
    "# Country preprocessing"
   ]
  },
  {
   "cell_type": "markdown",
   "metadata": {},
   "source": [
    "#### first find for how many quotes we actually found the country (w.r.t. url and speaker)"
   ]
  },
  {
   "cell_type": "code",
   "execution_count": null,
   "metadata": {},
   "outputs": [],
   "source": [
    "num_url_country = 0\n",
    "num_speaker_country = 0\n",
    "for i in range(len(quotebank.keywords)):   \n",
    "    for key in quotebank.keywords[i].country_url_occurences:\n",
    "        num_url_country += quotebank.keywords[i].country_url_occurences[key]\n",
    "    for key in quotebank.keywords[i].country_speaker_occurences:\n",
    "        num_speaker_country += quotebank.keywords[i].country_speaker_occurences[key]\n",
    "        \n",
    "total_quotes = quotebank.quotes_occurrences_df.sum().sum()\n",
    "print(\"Percentage of country of url found: {:.4f}\".format(num_url_country/total_quotes))\n",
    "print(\"Percentage of country of speaker found: {:.4f}\".format(num_speaker_country/total_quotes))"
   ]
  },
  {
   "cell_type": "markdown",
   "metadata": {},
   "source": [
    "#### Create maps to show where the most quotes are from."
   ]
  },
  {
   "cell_type": "code",
   "execution_count": null,
   "metadata": {},
   "outputs": [],
   "source": [
    "# Create Maps for all years for speaker and url and safes them in data/images/year_(url/speaker)_country_occurences.svg\n",
    "url_speaker = [\"url\",\"speaker\"]\n",
    "for target in url_speaker:\n",
    "    for year in range(2008,2017):\n",
    "        totals_per_country = quotebank.get_quote_occurences_per_country_year(target)\n",
    "        mapping = map_countries_according_to_mag_order(totals_per_country, year)\n",
    "        create_world_map(mapping, str(year) + \"_\" + target + \"_country_occurences\", year)"
   ]
  },
  {
   "cell_type": "markdown",
   "metadata": {},
   "source": [
    "#### Show the distribution of topics for the quotes in certain countries where enough quotes were found\n",
    "\n"
   ]
  },
  {
   "cell_type": "markdown",
   "metadata": {},
   "source": [
    "First for url"
   ]
  },
  {
   "cell_type": "code",
   "execution_count": null,
   "metadata": {},
   "outputs": [],
   "source": [
    "\n",
    "countries = ['United Kingdom', 'United States of America','Canada', 'Australia', 'India', 'Pakistan', 'France','South Africa']\n",
    "for year in range(2008,2017):\n",
    "    if year == 2008:\n",
    "        totals_per_country = quotebank.get_country_per_year_count('url', countries, year)\n",
    "    else:\n",
    "        totals_per_country = totals_per_country + quotebank.get_country_per_year_count('url', countries, year)\n",
    "        \n",
    "df_reduce = reduce_df(totals_per_country, 5, return_percentage = True)\n",
    "countries.append('Rest of the World')\n",
    "stacked_barplot(df_reduce, x_labels=countries, y_label= \"Percentage\", title=None,\n",
    "                width = 0.35, safe_name='country_specific_quote_url_percentage', log_y=False)"
   ]
  },
  {
   "cell_type": "code",
   "execution_count": null,
   "metadata": {},
   "outputs": [],
   "source": [
    "df_reduce = reduce_df(totals_per_country, 5, return_percentage = False)\n",
    "countries.append('Rest of the World')\n",
    "stacked_barplot(df_reduce, x_labels=countries, y_label= \"Occurences (log)\", title=None,\n",
    "                width = 0.35, safe_name='country_specific_quote_url_log', log_y=True)"
   ]
  },
  {
   "cell_type": "markdown",
   "metadata": {},
   "source": [
    "Now for the speaker"
   ]
  },
  {
   "cell_type": "code",
   "execution_count": null,
   "metadata": {},
   "outputs": [],
   "source": [
    "countries = ['United Kingdom', 'United States of America','Canada', 'Australia', 'India', 'Pakistan', 'France','South Africa']\n",
    "for year in range(2008,2017):\n",
    "    if year == 2008:\n",
    "        totals_per_country = get_country_per_year_count('speaker', countries, year)\n",
    "    else:\n",
    "        totals_per_country = totals_per_country + get_country_per_year_count('speaker', countries, year)\n",
    "        \n",
    "df_reduce = reduce_df(totals_per_country, 5, return_percentage = True)\n",
    "countries.append('Rest of the World')\n",
    "stacked_barplot(df_reduce, x_labels=countries, y_label= \"Percentage\", title=None,\n",
    "                width = 0.35, safe_name='country_specific_quote_speaker_percentage', log_y=False)"
   ]
  },
  {
   "cell_type": "code",
   "execution_count": null,
   "metadata": {},
   "outputs": [],
   "source": [
    "df_reduce = reduce_df(totals_per_country, 5, return_percentage = False)\n",
    "countries.append('Rest of the World')\n",
    "stacked_barplot(df_reduce, x_labels=countries, y_label= \"Occurences (log)\", title=None,\n",
    "                width = 0.35, safe_name='country_specific_quote_speaker_log', log_y=True)"
   ]
  },
  {
   "cell_type": "markdown",
   "metadata": {},
   "source": [
    "## Show real death causes for regions in the world"
   ]
  },
  {
   "cell_type": "code",
   "execution_count": null,
   "metadata": {},
   "outputs": [],
   "source": [
    "# Will print Nan if values are missing. If possible, the values will be replaced by learning them with linear regression\n",
    "deaths = dict()\n",
    "for region in REGIONS:\n",
    "    df = Deaths(\"deaths_by_cause\", region, DEATH_BY_CAUSE_PATH, rename_cols = RENAME_CAUSE_COLS, drop_cols = DROP_CAUSE_COLS).df\n",
    "    for main_region in MAIN_REGIONS:\n",
    "        if region in MAIN_REGIONS[main_region]:\n",
    "            if main_region in deaths:\n",
    "                deaths[main_region] += df.fillna(0)\n",
    "                deaths[main_region][\"Year\"] = deaths[main_region][\"Year\"]/2\n",
    "            else:\n",
    "                deaths[main_region] = df.fillna(0)"
   ]
  },
  {
   "cell_type": "code",
   "execution_count": null,
   "metadata": {},
   "outputs": [],
   "source": [
    "# Sum causes for all years together\n",
    "for year in range(2008,2016):\n",
    "    deaths_year, _, labels = get_data_for_one_year(deaths, year)\n",
    "    if year == 2008:\n",
    "        all_deaths = deaths_year\n",
    "    else:\n",
    "        all_deaths = all_deaths + deaths_year\n",
    "# plot relative number of deaths\n",
    "all_deaths_reduced = reduce_df(all_deaths, percentage_treshold = 5, return_percentage = True)\n",
    "stacked_barplot(all_deaths_reduced, x_labels = labels,\n",
    "                y_label= \"Percentage\", safe_name=\"deaths_world_regions\", log_y=False)\n",
    "\n",
    "# plot absolute number of deaths\n",
    "all_deaths_reduced = reduce_df(all_deaths, percentage_treshold = 5, return_percentage = False)\n",
    "stacked_barplot(all_deaths_reduced, x_labels = labels,\n",
    "                y_label=\"Percentage\", safe_name=\"absolute_deaths_world_regions\", log_y=True)"
   ]
  },
  {
   "cell_type": "markdown",
   "metadata": {},
   "source": [
    "# Our World in Data preprocessing"
   ]
  },
  {
   "cell_type": "markdown",
   "metadata": {},
   "source": [
    "### Deaths by cause"
   ]
  },
  {
   "cell_type": "code",
   "execution_count": null,
   "metadata": {},
   "outputs": [],
   "source": [
    "death_by_cause_path = DATA_PATH + \"annual_number_of_deaths_by_cause.csv\"\n",
    "deaths_by_cause = Deaths(\"deaths_by_cause\", \"World\", death_by_cause_path, rename_cols = RENAME_CAUSE_COLS, drop_cols = DROP_CAUSE_COLS)\n",
    "deaths_by_cause.df"
   ]
  },
  {
   "cell_type": "code",
   "execution_count": null,
   "metadata": {},
   "outputs": [],
   "source": [
    "deaths_by_cause.percentage_df"
   ]
  },
  {
   "cell_type": "markdown",
   "metadata": {},
   "source": [
    "### Deaths by category"
   ]
  },
  {
   "cell_type": "code",
   "execution_count": null,
   "metadata": {},
   "outputs": [],
   "source": [
    "death_by_category_path = DATA_PATH + \"categorized_annual_number_of_deaths.csv\"\n",
    "deaths_by_category = Deaths(\"deaths_by_category\",'World', death_by_category_path, rename_cols = RENAME_CAT_COLS)\n",
    "deaths_by_category.df"
   ]
  },
  {
   "cell_type": "code",
   "execution_count": null,
   "metadata": {},
   "outputs": [],
   "source": [
    "deaths_by_category.percentage_df"
   ]
  },
  {
   "cell_type": "markdown",
   "metadata": {},
   "source": [
    "## Plotting"
   ]
  },
  {
   "cell_type": "markdown",
   "metadata": {},
   "source": [
    "### Deaths by cause"
   ]
  },
  {
   "cell_type": "code",
   "execution_count": null,
   "metadata": {
    "scrolled": true
   },
   "outputs": [],
   "source": [
    "deaths_by_cause.plot_stacked_areas()"
   ]
  },
  {
   "cell_type": "code",
   "execution_count": null,
   "metadata": {},
   "outputs": [],
   "source": [
    "for y in range(2008, 2017):\n",
    "    cause_pie_chart_plot(deaths_by_cause.percentage_df, y, 7, \"_death_\")"
   ]
  },
  {
   "cell_type": "markdown",
   "metadata": {},
   "source": [
    "### Deaths by category"
   ]
  },
  {
   "cell_type": "code",
   "execution_count": null,
   "metadata": {
    "pycharm": {
     "name": "#%%\n"
    }
   },
   "outputs": [],
   "source": [
    "deaths_by_category.plot_stacked_areas()"
   ]
  },
  {
   "cell_type": "markdown",
   "metadata": {},
   "source": [
    "# RQ1"
   ]
  },
  {
   "cell_type": "code",
   "execution_count": null,
   "metadata": {},
   "outputs": [],
   "source": [
    "def get_summed_values(df, cols):\n",
    "    values = []\n",
    "    for col in cols:\n",
    "        values.append(df[col].sum())\n",
    "    return np.array(values)\n",
    "\n",
    "\n",
    "def create_RQ1_df():\n",
    "    causes = deaths_by_cause.quant_columns\n",
    "    \n",
    "    summed_death_values = get_summed_values(deaths_by_cause.df, causes)\n",
    "    summed_quote_values = get_summed_values(quotebank.quotes_occurrences_df, causes)\n",
    "    \n",
    "    quotes_per_death = np.divide(summed_quote_values, summed_death_values/1000000)\n",
    "    \n",
    "    df = pd.DataFrame(columns=causes)\n",
    "\n",
    "    for i, cause in enumerate(causes):\n",
    "        df.at[0, cause] = quotes_per_death[i]\n",
    "    \n",
    "    return df\n",
    "\n",
    "\n",
    "def plot_RQ1(log = True):\n",
    "    \n",
    "    df = create_RQ1_df()\n",
    "\n",
    "    df = df.T\n",
    "    value_col = list(df.columns)[0]\n",
    "    df = df.sort_values([value_col], ascending=False)\n",
    "    \n",
    "    ax = plt.gca()\n",
    "    df.plot.barh(figsize=(12,12), log=log, title=None, ax=ax, xlabel=None, ylabel=None, color=\"#006198\", legend=None, xlim = (10**2,10**6))\n",
    "    \n",
    "    # Remove border top and right\n",
    "    for line in ['top', 'right']:\n",
    "        ax.spines[line].set_visible(False)\n",
    "    \n",
    "    # Remove y Ticks\n",
    "    ax.yaxis.set_ticks_position('none')\n",
    "\n",
    "    # Add padding between axes and labels\n",
    "    ax.xaxis.set_tick_params(pad = 5)\n",
    "    ax.yaxis.set_tick_params(pad = 10)\n",
    "\n",
    "    \n",
    "    # Add x, y gridlines\n",
    "    ax.grid(b = True, color ='grey',\n",
    "            linestyle ='-.', linewidth = 0.6,\n",
    "            alpha = 0.2)\n",
    "        \n",
    "    # Show top values\n",
    "    ax.invert_yaxis()\n",
    "\n",
    "    # Add annotation to bars\n",
    "    for i in ax.patches:\n",
    "        plt.text(i.get_width()+0.2, i.get_y()+0.4,\n",
    "                 ' ' + pretty_num_string(int(i.get_width())),\n",
    "                 fontsize = 10, fontweight ='bold',\n",
    "                 color =\"#777777\")\n",
    "        \n",
    "    save_plt(\"quotes_per_million_deaths\")\n",
    "    plt.show()    "
   ]
  },
  {
   "cell_type": "code",
   "execution_count": null,
   "metadata": {},
   "outputs": [],
   "source": [
    "plot_RQ1()"
   ]
  },
  {
   "cell_type": "markdown",
   "metadata": {},
   "source": [
    "# RQ2"
   ]
  },
  {
   "cell_type": "code",
   "execution_count": null,
   "metadata": {},
   "outputs": [],
   "source": [
    "from mpl_toolkits.axes_grid1 import host_subplot\n",
    "COLORS = [\"003F5C\", \"2F4B7C\", \"665191\", \"A05195\", \"D45087\", \"F95D6A\", \"FF7C43\", \"FF600\"]\n",
    "COLOR_MAP = plt.get_cmap('tab20c')\n",
    "\n",
    "def plot_actual_vs_quote_per_year(d_c_actual, df_a, df_q, x_label, y_label_1, y_label_2, year_list = list(range(BEGIN_YEAR, END_YEAR +1))):\n",
    "    \n",
    "    quote_occurences = list()\n",
    "    actual_occurences = list()\n",
    "    \n",
    "    for year in year_list:\n",
    "        quote_occurences.append(df_q.loc[df_q['Year'] == year][d_c_actual].values)\n",
    "        actual_occurences.append(df_a.loc[df_a['Year'] == year][d_c_actual].values)\n",
    "        \n",
    "    host = host_subplot(111)\n",
    "    par = host.twinx()\n",
    "\n",
    "    host.set_xlabel(x_label)\n",
    "    host.set_ylabel(y_label_1)\n",
    "    par.set_ylabel(y_label_2)\n",
    "\n",
    "    p1, = host.plot(year_list, quote_occurences, label=y_label_1)\n",
    "    p2, = par.plot(year_list, actual_occurences, label=y_label_2)\n",
    "\n",
    "    leg = plt.legend()\n",
    "\n",
    "    host.yaxis.get_label().set_color(p1.get_color())\n",
    "    leg.texts[0].set_color(p1.get_color())\n",
    "\n",
    "    par.yaxis.get_label().set_color(p2.get_color())\n",
    "    leg.texts[1].set_color(p2.get_color())\n",
    "    \n",
    "    plt.xticks(year_list)\n",
    "    plt.savefig('./generated/images/double_line_' + d_c_actual.replace(\"/\", \"_\") + '.png') \n",
    "    plt.show()\n"
   ]
  },
  {
   "cell_type": "code",
   "execution_count": null,
   "metadata": {},
   "outputs": [],
   "source": [
    "for cause in TOPICS:\n",
    "    print(cause)\n",
    "    plot_actual_vs_quote_per_year(cause, deaths_by_cause.percentage_df, quotebank.quotes_percentage_df,\n",
    "    \"Year\", \"Quotebank\", \"Actual deaths\")"
   ]
  },
  {
   "cell_type": "code",
   "execution_count": null,
   "metadata": {},
   "outputs": [],
   "source": [
    "for category in CATEGORIES:\n",
    "    plot_actual_vs_quote_per_year(category, deaths_by_category.percentage_df, quotebank.cat_quotes_percentage_df,\n",
    "        \"Year\", \"Quotebank\", \"Actual deaths\")"
   ]
  },
  {
   "cell_type": "markdown",
   "metadata": {},
   "source": [
    "# RQ5"
   ]
  },
  {
   "cell_type": "code",
   "execution_count": null,
   "metadata": {},
   "outputs": [],
   "source": [
    "def plot_RQ5():\n",
    "    index = [\"Quotes\", \"Deaths\"]\n",
    "    width = 0.4\n",
    "    \n",
    "    value_dict = {}\n",
    "\n",
    "    for column in deaths_by_category.quant_columns:\n",
    "        value_dict[column] = [quotebank.cat_quotes_percentage_df[column].sum(), \n",
    "                  deaths_by_category.percentage_df[column].sum()]\n",
    "\n",
    "\n",
    "    df = pd.DataFrame({INJURIES: value_dict[INJURIES], \n",
    "                       NON_COMMUNICABLE_DISEASES: value_dict[NON_COMMUNICABLE_DISEASES], \n",
    "                       COMMUNICABLE_DISEASES: value_dict[COMMUNICABLE_DISEASES]}, \n",
    "                       index=index)\n",
    "    df = percentage_of_total_count(df, CATEGORIES)\n",
    "\n",
    "    ax = df.plot.bar(stacked=True, colormap=COLOR_MAP)\n",
    "    \n",
    "    handles, labels = ax.get_legend_handles_labels()\n",
    "    ax.legend(handles[::-1], labels[::-1], loc='center left', bbox_to_anchor=(1, 0.5))\n",
    "    \n",
    "    ax.set_ylabel('')\n",
    "    \n",
    "    save_plt(\"RQ5\")\n",
    "\n",
    "    plt.show()"
   ]
  },
  {
   "cell_type": "code",
   "execution_count": null,
   "metadata": {},
   "outputs": [],
   "source": [
    "plot_RQ5()"
   ]
  },
  {
   "cell_type": "code",
   "execution_count": null,
   "metadata": {},
   "outputs": [],
   "source": []
  },
  {
   "cell_type": "code",
   "execution_count": null,
   "metadata": {},
   "outputs": [],
   "source": []
  },
  {
   "cell_type": "code",
   "execution_count": null,
   "metadata": {},
   "outputs": [],
   "source": []
  }
 ],
 "metadata": {
  "kernelspec": {
   "display_name": "Python 3",
   "language": "python",
   "name": "python3"
  },
  "language_info": {
   "codemirror_mode": {
    "name": "ipython",
    "version": 3
   },
   "file_extension": ".py",
   "mimetype": "text/x-python",
   "name": "python",
   "nbconvert_exporter": "python",
   "pygments_lexer": "ipython3",
   "version": "3.7.6"
  }
 },
 "nbformat": 4,
 "nbformat_minor": 1
}
