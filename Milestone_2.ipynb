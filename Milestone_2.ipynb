{
 "cells": [
  {
   "cell_type": "markdown",
   "metadata": {},
   "source": [
    "# Milestone 2"
   ]
  },
  {
   "cell_type": "markdown",
   "metadata": {},
   "source": [
    "## Imports"
   ]
  },
  {
   "cell_type": "code",
   "execution_count": 1,
   "metadata": {
    "pycharm": {
     "name": "#%%\n"
    }
   },
   "outputs": [],
   "source": [
    "import pandas as pd\n",
    "import numpy as np\n",
    "import matplotlib.pyplot as plt\n",
    "from sklearn.linear_model import LinearRegression\n",
    "import random\n",
    "import os\n",
    "import bz2\n",
    "from src.QuoteBankData import QuoteBankData\n",
    "from src.Deaths import Deaths\n",
    "import src.utilities.quotebank_preprocessing_utils as utils\n",
    "from src.CONSTS import DATA_PATH, COLORS\n",
    "from tqdm import tqdm"
   ]
  },
  {
   "cell_type": "markdown",
   "metadata": {},
   "source": [
    "# Quotebank preprocessing"
   ]
  },
  {
   "cell_type": "markdown",
   "metadata": {},
   "source": [
    "Most of the code used for the quotebank preprocessing can be found in the classes QuotebankData and Keyword, in addition to in files for helper functions. "
   ]
  },
  {
   "cell_type": "code",
   "execution_count": null,
   "metadata": {
    "pycharm": {
     "name": "#%%\n"
    }
   },
   "outputs": [],
   "source": [
    "def quotation_classification():\n",
    "    \"\"\"\n",
    "    Iterate through all quotebank files, stored locally. For each quote inside the file, check which keywords match.\n",
    "    Store the results in the respective output\n",
    "    \"\"\"\n",
    "    quotes_filenames_list = utils.compose_quotebank_filenames()\n",
    "\n",
    "    for index, filename in enumerate(quotes_filenames_list):\n",
    "        print(\"Elaborating file: \" + filename.split(\"/\").pop())\n",
    "        quotation_classification_for_file(filename)\n",
    "        quotebank.write_matching_quotes_to_file_for_year(index)\n",
    "        quotebank.delete_json_lines_for_all_keywords()"
   ]
  },
  {
   "cell_type": "code",
   "execution_count": null,
   "metadata": {
    "pycharm": {
     "name": "#%%\n"
    }
   },
   "outputs": [],
   "source": [
    "def quotation_classification_for_file(filename):\n",
    "    \"\"\"\n",
    "    For every line of the input file (json file), extract the quotation.\n",
    "    If any of the keyword is found inside the quotation, the corresponding (json) line gets saved inside json_lines attribute of the corresponding\n",
    "    keyword object.\n",
    "    :param filename: str \n",
    "    \"\"\"\n",
    "    if not os.path.isfile(filename):\n",
    "        print(filename + \" doesn't exist\")\n",
    "        return\n",
    "\n",
    "    with bz2.open(filename, \"rb\") as file:\n",
    "        for i, line in tqdm(enumerate(file)):\n",
    "            if i == 100000: break\n",
    "            quotation = utils.extract_quotation(line)\n",
    "            found_keywords = quotebank.match_quotation_with_any_keyword(quotation)\n",
    "            if len(found_keywords) > 0:\n",
    "                for found_keyword in found_keywords:\n",
    "                    found_keyword.json_lines.append(line)"
   ]
  },
  {
   "cell_type": "markdown",
   "metadata": {
    "pycharm": {
     "name": "#%% md\n"
    }
   },
   "source": [
    "Initialize quotebank\n",
    "- read keyword and synonyms for death causes\n",
    "- create folders and file names for quotes that matches keywords or synonyms\n",
    "- match keywords and synonyms with quotes"
   ]
  },
  {
   "cell_type": "code",
   "execution_count": null,
   "metadata": {
    "pycharm": {
     "name": "#%%\n"
    }
   },
   "outputs": [],
   "source": [
    "quotebank = QuoteBankData(\"Asymmetry of News\", [])\n",
    "quotebank.read_keywords_from_file()\n",
    "utils.create_directories_for_every_year()\n",
    "quotebank.create_json_dumps_filenames_for_each_keyword()\n",
    "quotation_classification()"
   ]
  },
  {
   "cell_type": "markdown",
   "metadata": {
    "pycharm": {
     "name": "#%% md\n"
    }
   },
   "source": [
    "To illustrate the results, we plot the number of quotes found for each issue in 2016"
   ]
  },
  {
   "cell_type": "code",
   "execution_count": null,
   "metadata": {},
   "outputs": [],
   "source": [
    "occurences = list()\n",
    "x_labels=list()\n",
    "x_number = list()\n",
    "count = 0\n",
    "for keys in quotebank.keywords:\n",
    "    with open(keys.output_filenames[8], 'rU') as f:\n",
    "        keys.quotes = pd.read_json(keys.output_filenames[8], lines=True)\n",
    "    occurences.append(len(keys.quotes))\n",
    "    x_labels.append(keys.name)\n",
    "    x_number.append(count)\n",
    "    count += 1"
   ]
  },
  {
   "cell_type": "code",
   "execution_count": null,
   "metadata": {
    "pycharm": {
     "name": "#%%\n"
    }
   },
   "outputs": [],
   "source": [
    "plt.bar(x_number, occurences, log = True)\n",
    "plt.xticks(x_number, x_labels)\n",
    "plt.xticks(rotation=90)\n",
    "plt.title(\"Number of occurences per topic in 2016\")\n",
    "plt.xlabel(\"Topics\")\n",
    "plt.ylabel(\"Number of occurences\")\n",
    "plt.show()"
   ]
  },
  {
   "cell_type": "code",
   "execution_count": null,
   "metadata": {},
   "outputs": [],
   "source": [
    "def freq_per_month(df):\n",
    "    freqs = np.zeros(12)\n",
    "    for i in range(12):\n",
    "        freqs[i] = np.sum(df[\"date\"].dt.month == i+1)\n",
    "    return freqs"
   ]
  },
  {
   "cell_type": "code",
   "execution_count": null,
   "metadata": {},
   "outputs": [],
   "source": [
    "all_freq = list()\n",
    "for keys in quotebank.keywords:\n",
    "    if not keys.quotes.empty:\n",
    "        all_freq.append(freq_per_month(keys.quotes))\n",
    "    else:\n",
    "        all_freq.append(np.zeros(12))\n",
    "df = pd.DataFrame(all_freq)\n",
    "\n",
    "plt.plot(np.sum(df))\n",
    "plt.title(\"Number of topic quotes found throughout the year 2016\")\n",
    "plt.show()"
   ]
  },
  {
   "cell_type": "markdown",
   "metadata": {},
   "source": [
    "# Population data preprocessing\n",
    "This is population data from the UN, which we might use in combination with the Our World in Data datasets to get a more realistic understanding of the relative deaths each year."
   ]
  },
  {
   "cell_type": "code",
   "execution_count": null,
   "metadata": {},
   "outputs": [],
   "source": [
    "population_path = DATA_PATH + \"annual_population_data.csv\"\n",
    "raw_population_df = pd.read_csv(population_path)\n",
    "raw_population_df"
   ]
  },
  {
   "cell_type": "markdown",
   "metadata": {},
   "source": [
    "Extracting world population in millions from 2008 to 2017"
   ]
  },
  {
   "cell_type": "code",
   "execution_count": null,
   "metadata": {},
   "outputs": [],
   "source": [
    "population_df = raw_population_df[(raw_population_df[\"Location\"] == \"World\") & (raw_population_df[\"Time\"] > 2007) & (raw_population_df[\"Time\"] < 2018)]\n",
    "population_df = population_df[[\"Time\", \"PopTotal\"]].reset_index(drop=True)\n",
    "population_df[\"PopTotal\"] = population_df[\"PopTotal\"].apply(lambda x: x/1000)\n",
    "population_df = population_df.rename(columns = {\"Time\": \"Year\", \"PopTotal\": \"World population millions\"})\n",
    "population_df"
   ]
  },
  {
   "cell_type": "markdown",
   "metadata": {},
   "source": [
    "# Our World in Data preprocessing"
   ]
  },
  {
   "cell_type": "markdown",
   "metadata": {},
   "source": [
    "This part of the notebook is more exploratory. We wanted to preprocess and look at the two main datasets form Our World in Data to be sure that the project is possible to do. "
   ]
  },
  {
   "cell_type": "markdown",
   "metadata": {},
   "source": [
    "## Preprocess death data"
   ]
  },
  {
   "cell_type": "markdown",
   "metadata": {},
   "source": [
    "### Deaths by cause"
   ]
  },
  {
   "cell_type": "code",
   "execution_count": 2,
   "metadata": {},
   "outputs": [
    {
     "name": "stdout",
     "output_type": "stream",
     "text": [
      "  Entity      Code  Year     Meningitis  Lower respiratory infections  \\\n",
      "0  World  OWID_WRL  2008  348040.083847                  2.657275e+06   \n",
      "1  World  OWID_WRL  2009  340514.177436                  2.639562e+06   \n",
      "2  World  OWID_WRL  2010  331205.914662                  2.623649e+06   \n",
      "3  World  OWID_WRL  2011  325000.383494                  2.616651e+06   \n",
      "4  World  OWID_WRL  2012  316965.020009                  2.605154e+06   \n",
      "5  World  OWID_WRL  2013  312013.523643                  2.590482e+06   \n",
      "6  World  OWID_WRL  2014  306484.322622                  2.579538e+06   \n",
      "7  World  OWID_WRL  2015  298711.517721                  2.582199e+06   \n",
      "8  World  OWID_WRL  2016  295878.990018                  2.574625e+06   \n",
      "9  World  OWID_WRL  2017  288021.105387                  2.558606e+06   \n",
      "\n",
      "   Intestinal infectious diseases  Protein-energy malnutrition  Terrorism  \\\n",
      "0                   176583.045171                304321.884855     9157.0   \n",
      "1                   173745.686452                297263.561629     9273.0   \n",
      "2                   170071.404053                299956.052686     7827.0   \n",
      "3                   168716.792532                288907.141759     8246.0   \n",
      "4                   166735.397312                269574.084338    15497.0   \n",
      "5                   164572.376351                259203.023575    22273.0   \n",
      "6                   162420.462719                250311.830788    44490.0   \n",
      "7                   159257.591692                243750.598948    38853.0   \n",
      "8                   155448.606112                236429.610442    34871.0   \n",
      "9                             NaN                231770.992044    26445.0   \n",
      "\n",
      "   Cardiovascular diseases  Alzheimer disease and other dementias  ...  \\\n",
      "0             1.500828e+07                           1.790400e+06  ...   \n",
      "1             1.527431e+07                           1.863444e+06  ...   \n",
      "2             1.561962e+07                           1.943961e+06  ...   \n",
      "3             1.585974e+07                           2.025064e+06  ...   \n",
      "4             1.611549e+07                           2.098871e+06  ...   \n",
      "5             1.628402e+07                           2.168918e+06  ...   \n",
      "6             1.662836e+07                           2.253866e+06  ...   \n",
      "7             1.713999e+07                           2.353634e+06  ...   \n",
      "8             1.752437e+07                           2.440042e+06  ...   \n",
      "9             1.779095e+07                           2.514619e+06  ...   \n",
      "\n",
      "   Neonatal disorders  Alcohol use disorders  Exposure to forces of nature  \\\n",
      "0        2.304429e+06          179987.013172                 235496.829431   \n",
      "1        2.258315e+06          175052.864372                   9254.003678   \n",
      "2        2.211208e+06          174237.378348                 248454.699157   \n",
      "3        2.162070e+06          170736.669200                  31964.196615   \n",
      "4        2.110626e+06          169930.031855                   6625.594444   \n",
      "5        2.050610e+06          170965.247716                  19050.473289   \n",
      "6        1.989193e+06          173684.698467                   6503.060539   \n",
      "7        1.925458e+06          178372.485978                  14748.187609   \n",
      "8        1.852924e+06          181679.094522                   7261.252562   \n",
      "9        1.783770e+06          184934.241760                   9602.935057   \n",
      "\n",
      "   Diarrheal diseases  Environmental heat and cold exposure  \\\n",
      "0        1.867836e+06                          60384.613529   \n",
      "1        1.865671e+06                          59023.804629   \n",
      "2        1.857640e+06                         115382.599926   \n",
      "3        1.793641e+06                          57402.483668   \n",
      "4        1.725018e+06                          57658.367887   \n",
      "5        1.664193e+06                          55823.991356   \n",
      "6        1.619718e+06                          55072.834100   \n",
      "7        1.578439e+06                          57740.167042   \n",
      "8        1.550848e+06                          54183.052891   \n",
      "9        1.569556e+06                          53349.518780   \n",
      "\n",
      "   Nutritional deficiencies      Self-harm  Conflict and terrorism  \\\n",
      "0             345703.367968  789447.007136            58795.082371   \n",
      "1             338690.981517  791222.757559            67916.308722   \n",
      "2             341835.027741  796083.645174            50608.273695   \n",
      "3             329818.068512  793977.906088           100568.611560   \n",
      "4             309650.953725  786335.554940           111432.890101   \n",
      "5             298365.543019  779212.549795           115138.255671   \n",
      "6             289184.845108  781716.697241           182239.944451   \n",
      "7             282498.011863  782941.162890           137629.287532   \n",
      "8             274881.027448  788674.564776           158356.402289   \n",
      "9             269996.917689  793823.469135           129720.145674   \n",
      "\n",
      "   Diabetes mellitus    Poisonings  \n",
      "0       1.045381e+06  78008.099106  \n",
      "1       1.070186e+06  77339.491051  \n",
      "2       1.096402e+06  77298.902918  \n",
      "3       1.129959e+06  76227.682073  \n",
      "4       1.168569e+06  75414.520357  \n",
      "5       1.202743e+06  74906.641101  \n",
      "6       1.249135e+06  74439.682294  \n",
      "7       1.299556e+06  74394.517062  \n",
      "8       1.346428e+06  73643.079320  \n",
      "9       1.369849e+06  72370.531920  \n",
      "\n",
      "[10 rows x 36 columns]\n"
     ]
    },
    {
     "data": {
      "image/png": "[encoded data removed]",
      "text/plain": [
       "<Figure size 432x288 with 1 Axes>"
      ]
     },
     "metadata": {
      "needs_background": "light"
     },
     "output_type": "display_data"
    },
    {
     "ename": "AttributeError",
     "evalue": "'NoneType' object has no attribute 'loc'",
     "output_type": "error",
     "traceback": [
      "\u001b[1;31m---------------------------------------------------------------------------\u001b[0m",
      "\u001b[1;31mAttributeError\u001b[0m                            Traceback (most recent call last)",
      "\u001b[1;32m<ipython-input-2-44e8b10c3be5>\u001b[0m in \u001b[0;36m<module>\u001b[1;34m\u001b[0m\n\u001b[0;32m      1\u001b[0m \u001b[0mdeath_by_cause_path\u001b[0m \u001b[1;33m=\u001b[0m \u001b[0mDATA_PATH\u001b[0m \u001b[1;33m+\u001b[0m \u001b[1;34m\"annual_number_of_deaths_by_cause.csv\"\u001b[0m\u001b[1;33m\u001b[0m\u001b[1;33m\u001b[0m\u001b[0m\n\u001b[1;32m----> 2\u001b[1;33m \u001b[0mdeaths_by_cause\u001b[0m \u001b[1;33m=\u001b[0m \u001b[0mDeaths\u001b[0m\u001b[1;33m(\u001b[0m\u001b[1;34m\"deaths_by_cause\"\u001b[0m\u001b[1;33m,\u001b[0m \u001b[0mdeath_by_cause_path\u001b[0m\u001b[1;33m,\u001b[0m \u001b[0mrename_cols\u001b[0m \u001b[1;33m=\u001b[0m \u001b[1;33m{\u001b[0m\u001b[1;34m'Terrorism (deaths)'\u001b[0m\u001b[1;33m:\u001b[0m \u001b[1;34m'Terrorism'\u001b[0m\u001b[1;33m}\u001b[0m\u001b[1;33m,\u001b[0m \u001b[0mdrop_cols\u001b[0m \u001b[1;33m=\u001b[0m \u001b[1;33m[\u001b[0m\u001b[1;34m'Number of executions (Amnesty International)'\u001b[0m\u001b[1;33m]\u001b[0m\u001b[1;33m)\u001b[0m\u001b[1;33m\u001b[0m\u001b[1;33m\u001b[0m\u001b[0m\n\u001b[0m\u001b[0;32m      3\u001b[0m \u001b[0mdeaths_by_cause\u001b[0m\u001b[1;33m.\u001b[0m\u001b[0mdf\u001b[0m\u001b[1;33m\u001b[0m\u001b[1;33m\u001b[0m\u001b[0m\n",
      "\u001b[1;32mC:\\epfl\\CS-401\\ada-2021-project-hoja\\src\\Deaths.py\u001b[0m in \u001b[0;36m__init__\u001b[1;34m(self, name, path, rename_cols, drop_cols)\u001b[0m\n\u001b[0;32m     20\u001b[0m         \u001b[0mself\u001b[0m\u001b[1;33m.\u001b[0m\u001b[0mcolumns\u001b[0m \u001b[1;33m=\u001b[0m \u001b[1;33m[\u001b[0m\u001b[1;33m]\u001b[0m\u001b[1;33m\u001b[0m\u001b[1;33m\u001b[0m\u001b[0m\n\u001b[0;32m     21\u001b[0m         \u001b[0mself\u001b[0m\u001b[1;33m.\u001b[0m\u001b[0mquant_columns\u001b[0m \u001b[1;33m=\u001b[0m \u001b[1;33m[\u001b[0m\u001b[1;33m]\u001b[0m\u001b[1;33m\u001b[0m\u001b[1;33m\u001b[0m\u001b[0m\n\u001b[1;32m---> 22\u001b[1;33m         \u001b[0mself\u001b[0m\u001b[1;33m.\u001b[0m\u001b[0mdf\u001b[0m \u001b[1;33m=\u001b[0m \u001b[0mself\u001b[0m\u001b[1;33m.\u001b[0m\u001b[0mmodify_df\u001b[0m\u001b[1;33m(\u001b[0m\u001b[0mpd\u001b[0m\u001b[1;33m.\u001b[0m\u001b[0mread_csv\u001b[0m\u001b[1;33m(\u001b[0m\u001b[0mpath\u001b[0m\u001b[1;33m)\u001b[0m\u001b[1;33m,\u001b[0m \u001b[0mrename_cols\u001b[0m\u001b[1;33m,\u001b[0m \u001b[0mdrop_cols\u001b[0m\u001b[1;33m)\u001b[0m\u001b[1;33m\u001b[0m\u001b[1;33m\u001b[0m\u001b[0m\n\u001b[0m\u001b[0;32m     23\u001b[0m         \u001b[0mself\u001b[0m\u001b[1;33m.\u001b[0m\u001b[0mpercentage_df\u001b[0m \u001b[1;33m=\u001b[0m \u001b[0mpercentage_of_total_deaths\u001b[0m\u001b[1;33m(\u001b[0m\u001b[0mself\u001b[0m\u001b[1;33m.\u001b[0m\u001b[0mdf\u001b[0m\u001b[1;33m,\u001b[0m \u001b[0mself\u001b[0m\u001b[1;33m.\u001b[0m\u001b[0mquant_columns\u001b[0m\u001b[1;33m)\u001b[0m\u001b[1;33m\u001b[0m\u001b[1;33m\u001b[0m\u001b[0m\n\u001b[0;32m     24\u001b[0m \u001b[1;33m\u001b[0m\u001b[0m\n",
      "\u001b[1;32mC:\\epfl\\CS-401\\ada-2021-project-hoja\\src\\Deaths.py\u001b[0m in \u001b[0;36mmodify_df\u001b[1;34m(self, df, rename_cols, drop_cols)\u001b[0m\n\u001b[0;32m     30\u001b[0m         \u001b[0mdf\u001b[0m \u001b[1;33m=\u001b[0m \u001b[0mextract_world_data\u001b[0m\u001b[1;33m(\u001b[0m\u001b[0mdf\u001b[0m\u001b[1;33m)\u001b[0m\u001b[1;33m\u001b[0m\u001b[1;33m\u001b[0m\u001b[0m\n\u001b[0;32m     31\u001b[0m \u001b[1;33m\u001b[0m\u001b[0m\n\u001b[1;32m---> 32\u001b[1;33m         \u001b[0mdf\u001b[0m \u001b[1;33m=\u001b[0m \u001b[0mupdate_nan_values\u001b[0m\u001b[1;33m(\u001b[0m\u001b[0mdf\u001b[0m\u001b[1;33m,\u001b[0m \u001b[0mself\u001b[0m\u001b[1;33m.\u001b[0m\u001b[0mquant_columns\u001b[0m\u001b[1;33m)\u001b[0m\u001b[1;33m\u001b[0m\u001b[1;33m\u001b[0m\u001b[0m\n\u001b[0m\u001b[0;32m     33\u001b[0m \u001b[1;33m\u001b[0m\u001b[0m\n\u001b[0;32m     34\u001b[0m         \u001b[1;32mreturn\u001b[0m \u001b[0mdf\u001b[0m\u001b[1;33m\u001b[0m\u001b[1;33m\u001b[0m\u001b[0m\n",
      "\u001b[1;32mC:\\epfl\\CS-401\\ada-2021-project-hoja\\src\\utilities\\death_df_utils.py\u001b[0m in \u001b[0;36mupdate_nan_values\u001b[1;34m(df, quant_columns)\u001b[0m\n\u001b[0;32m     61\u001b[0m         \u001b[0mpred_years\u001b[0m \u001b[1;33m=\u001b[0m \u001b[1;33m[\u001b[0m\u001b[1;33m]\u001b[0m\u001b[1;33m\u001b[0m\u001b[1;33m\u001b[0m\u001b[0m\n\u001b[0;32m     62\u001b[0m         \u001b[1;32mfor\u001b[0m \u001b[0myear\u001b[0m \u001b[1;32min\u001b[0m \u001b[0mrange\u001b[0m\u001b[1;33m(\u001b[0m\u001b[0mBEGIN_YEAR\u001b[0m\u001b[1;33m,\u001b[0m \u001b[0mEND_YEAR\u001b[0m \u001b[1;33m+\u001b[0m \u001b[1;36m1\u001b[0m\u001b[1;33m)\u001b[0m\u001b[1;33m:\u001b[0m\u001b[1;33m\u001b[0m\u001b[1;33m\u001b[0m\u001b[0m\n\u001b[1;32m---> 63\u001b[1;33m             \u001b[0mval\u001b[0m \u001b[1;33m=\u001b[0m \u001b[0mdf\u001b[0m\u001b[1;33m.\u001b[0m\u001b[0mloc\u001b[0m\u001b[1;33m[\u001b[0m\u001b[0mdf\u001b[0m\u001b[1;33m[\u001b[0m\u001b[1;34m'Year'\u001b[0m\u001b[1;33m]\u001b[0m \u001b[1;33m==\u001b[0m \u001b[0myear\u001b[0m\u001b[1;33m,\u001b[0m \u001b[0mcol\u001b[0m\u001b[1;33m]\u001b[0m\u001b[1;33m.\u001b[0m\u001b[0miloc\u001b[0m\u001b[1;33m[\u001b[0m\u001b[1;36m0\u001b[0m\u001b[1;33m]\u001b[0m\u001b[1;33m\u001b[0m\u001b[1;33m\u001b[0m\u001b[0m\n\u001b[0m\u001b[0;32m     64\u001b[0m             \u001b[1;32mif\u001b[0m \u001b[0mmath\u001b[0m\u001b[1;33m.\u001b[0m\u001b[0misnan\u001b[0m\u001b[1;33m(\u001b[0m\u001b[0mval\u001b[0m\u001b[1;33m)\u001b[0m\u001b[1;33m:\u001b[0m\u001b[1;33m\u001b[0m\u001b[1;33m\u001b[0m\u001b[0m\n\u001b[0;32m     65\u001b[0m                 \u001b[0mpred_years\u001b[0m\u001b[1;33m.\u001b[0m\u001b[0mappend\u001b[0m\u001b[1;33m(\u001b[0m\u001b[0myear\u001b[0m\u001b[1;33m)\u001b[0m\u001b[1;33m\u001b[0m\u001b[1;33m\u001b[0m\u001b[0m\n",
      "\u001b[1;31mAttributeError\u001b[0m: 'NoneType' object has no attribute 'loc'"
     ]
    }
   ],
   "source": [
    "death_by_cause_path = DATA_PATH + \"annual_number_of_deaths_by_cause.csv\"\n",
    "deaths_by_cause = Deaths(\"deaths_by_cause\", death_by_cause_path, rename_cols = {'Terrorism (deaths)': 'Terrorism'}, drop_cols = ['Number of executions (Amnesty International)'])\n",
    "deaths_by_cause.df"
   ]
  },
  {
   "cell_type": "code",
   "execution_count": null,
   "metadata": {},
   "outputs": [],
   "source": [
    "deaths_by_cause.percentage_df"
   ]
  },
  {
   "cell_type": "markdown",
   "metadata": {},
   "source": [
    "### Deaths by category"
   ]
  },
  {
   "cell_type": "code",
   "execution_count": null,
   "metadata": {},
   "outputs": [],
   "source": [
    "death_by_category_path = DATA_PATH + \"categorized_annual_number_of_deaths.csv\"\n",
    "deaths_by_category = Deaths(\"deaths_by_category\", death_by_category_path)\n",
    "deaths_by_category.df"
   ]
  },
  {
   "cell_type": "code",
   "execution_count": null,
   "metadata": {},
   "outputs": [],
   "source": [
    "deaths_by_category.percentage_df"
   ]
  },
  {
   "cell_type": "markdown",
   "metadata": {},
   "source": [
    "## Plotting"
   ]
  },
  {
   "cell_type": "markdown",
   "metadata": {},
   "source": [
    "### Deaths by cause"
   ]
  },
  {
   "cell_type": "code",
   "execution_count": null,
   "metadata": {},
   "outputs": [],
   "source": [
    "deaths_by_cause.plot_lines(\"Percentage deaths\", \"Percentage of deaths by cause\")"
   ]
  },
  {
   "cell_type": "markdown",
   "metadata": {},
   "source": [
    "### Deaths by category"
   ]
  },
  {
   "cell_type": "code",
   "execution_count": null,
   "metadata": {
    "pycharm": {
     "name": "#%%\n"
    }
   },
   "outputs": [],
   "source": [
    "deaths_by_category.plot_stacked_areas(\"Percentage deaths\", \"Percentage of deaths by category\")"
   ]
  },
  {
   "cell_type": "markdown",
   "metadata": {},
   "source": [
    "# RQ1"
   ]
  },
  {
   "cell_type": "code",
   "execution_count": null,
   "metadata": {},
   "outputs": [],
   "source": []
  }
 ],
 "metadata": {
  "kernelspec": {
   "display_name": "Python 3",
   "language": "python",
   "name": "python3"
  },
  "language_info": {
   "codemirror_mode": {
    "name": "ipython",
    "version": 3
   },
   "file_extension": ".py",
   "mimetype": "text/x-python",
   "name": "python",
   "nbconvert_exporter": "python",
   "pygments_lexer": "ipython3",
   "version": "3.8.7"
  }
 },
 "nbformat": 4,
 "nbformat_minor": 1
}
