{
 "cells": [
  {
   "cell_type": "markdown",
   "source": [
    "Imports"
   ],
   "metadata": {
    "collapsed": false
   }
  },
  {
   "cell_type": "code",
   "execution_count": 37,
   "outputs": [],
   "source": [
    "import sys\n",
    "import json\n",
    "import pandas as pd\n",
    "import time\n",
    "import bz2\n",
    "from thefuzz import fuzz\n",
    "from thefuzz import process\n",
    "\n",
    "import topic\n",
    "from topic import Topics"
   ],
   "metadata": {
    "collapsed": false,
    "pycharm": {
     "name": "#%%\n"
    }
   }
  },
  {
   "cell_type": "markdown",
   "source": [
    "Constants"
   ],
   "metadata": {
    "collapsed": false
   }
  },
  {
   "cell_type": "code",
   "execution_count": 38,
   "outputs": [],
   "source": [
    "DATA_PATH = './data/'\n",
    "PATH_TO_QUOTEBANK_2020 = DATA_PATH + \"quotes-2020.json.bz2\""
   ],
   "metadata": {
    "collapsed": false,
    "pycharm": {
     "name": "#%%\n"
    }
   }
  },
  {
   "cell_type": "markdown",
   "source": [
    "Code"
   ],
   "metadata": {
    "collapsed": false
   }
  },
  {
   "cell_type": "code",
   "execution_count": 39,
   "outputs": [],
   "source": [
    "topic = Topics(\"HenrikAsshole\", [])\n",
    "\n",
    "def start_quotation_classification():\n",
    " \n",
    "    t.read_keywords_from_file()\n",
    "\n",
    "    quotes_file_list = compose_file_names()\n",
    "\n",
    "    for filename in quotes_file_list:\n",
    "        print(filename)\n",
    "        elaborate_file(filename)\n",
    "        "
   ],
   "metadata": {
    "collapsed": false,
    "pycharm": {
     "name": "#%%\n"
    }
   }
  },
  {
   "cell_type": "code",
   "execution_count": null,
   "outputs": [],
   "source": [
    "def elaborate_file(filename):\n",
    "    try:\n",
    "        with bz2.open(filename, \"rb\") as file:\n",
    "            for i, line in enumerate(file):\n",
    "                if i == 2000: break\n",
    "                quotation = extract_quotation(line)\n",
    "                found_keyword = match_quotation_with_any_keyword(quotation)\n",
    "                \n",
    "                if found_keyword != None:\n",
    "                    topic.get_keyword_by_name(found_keyword.name).quotes.append(line)\n",
    "                \n",
    "                #assign_keyword(found_keyword)\n",
    "\n",
    "    except OSError:\n",
    "        print(\"Could not open/read file:\", filename)"
   ],
   "metadata": {
    "collapsed": false,
    "pycharm": {
     "name": "#%%\n"
    }
   }
  },
  {
   "cell_type": "code",
   "execution_count": 40,
   "outputs": [],
   "source": [
    "quotes_file_list = []\n",
    "\n",
    "def compose_file_names() -> list:\n",
    "    for i in range(8,18):\n",
    "        if i < 10:\n",
    "            tmp = \"0\" + str(i)\n",
    "        else:\n",
    "            tmp = str(i)\n",
    "\n",
    "        quotes_file_list.append(\"quotes-20\" + tmp + \".json.bz2\")\n",
    "    return quotes_file_list"
   ],
   "metadata": {
    "collapsed": false,
    "pycharm": {
     "name": "#%%\n"
    }
   }
  },
  {
   "cell_type": "code",
   "execution_count": null,
   "outputs": [],
   "source": [
    "def extract_quotation(line) -> str:\n",
    "    json_line = json.loads(line)\n",
    "    return json_line['quotation']\n",
    "    "
   ],
   "metadata": {
    "collapsed": false,
    "pycharm": {
     "name": "#%%\n"
    }
   }
  },
  {
   "cell_type": "code",
   "execution_count": 41,
   "outputs": [],
   "source": [
    "def match_quotation_with_any_keyword(line) -> Topics.Keyword:\n",
    "    # quotation = extract_quotation(line)\n",
    "    for k in topic.keywords:\n",
    "        for word in quotation:\n",
    "            if find_keyword_in_quotation(word, k):\n",
    "                print(\"WE FOUND A SINGLE WORD   Collect thin\")\n",
    "                return k\n",
    "        #return found_keyword\n",
    "    #else:\n",
    "     #   return \"Nothing\"\n",
    "    # parsed_quotation = parse_quotation(quotation)\n",
    "    # for word in parsed_quotation:\n",
    "        # if find_word_in_keywords(word):\n",
    "        #     print(\"WE FOUND A SINGLE WORD\")\n"
   ],
   "metadata": {
    "collapsed": false,
    "pycharm": {
     "name": "#%%\n"
    }
   }
  },
  {
   "cell_type": "code",
   "execution_count": 42,
   "outputs": [],
   "source": [
    "def parse_quotation(quotation):\n",
    "    parsed_string = quotation.split(\" \")\n",
    "    return parsed_string"
   ],
   "metadata": {
    "collapsed": false,
    "pycharm": {
     "name": "#%%\n"
    }
   }
  },
  {
   "cell_type": "code",
   "execution_count": 43,
   "outputs": [],
   "source": [
    "# TODO consider if we want to read a parsed word or entire quotation\n",
    "def find_keyword_in_quotation(keyword, word) -> bool:\n",
    "    #keywords = []\n",
    "    # for k in keywords:\n",
    "    if string_match(word, keyword.name):\n",
    "        print(\"word is equal to keyword\")\n",
    "        return True\n",
    "    else:\n",
    "        for syn in keyword.synonym:\n",
    "            if string_match(word, syn):\n",
    "                print(\"word is equal to synonym\")\n",
    "                return True\n",
    "    return False"
   ],
   "metadata": {
    "collapsed": false,
    "pycharm": {
     "name": "#%%\n"
    }
   }
  },
  {
   "cell_type": "code",
   "execution_count": 44,
   "outputs": [],
   "source": [
    "# TODO consider if we want to read a parsed word or entire quotation\n",
    "def string_match(quotation_word, keyword):\n",
    "    threshold = 100 - len(keyword)\n",
    "    if fuzz.ratio(quotation_word, keyword) > threshold:\n",
    "        return True\n",
    "    return False"
   ],
   "metadata": {
    "collapsed": false,
    "pycharm": {
     "name": "#%%\n"
    }
   }
  },
  {
   "cell_type": "code",
   "execution_count": 52,
   "outputs": [
    {
     "name": "stdout",
     "output_type": "stream",
     "text": [
      "85\n",
      "\n",
      "Printing keyword\n",
      "terrorist\n",
      "Printing synonyms\n",
      "\tisis\n",
      "\tterrorists\n",
      "\tAl qaeda\n",
      "\tbin laden\n",
      "\n",
      "Printing keyword\n",
      "malaria\n",
      "quotes-2008.json.bz2\n",
      "Could not open/read file: quotes-2008.json.bz2\n",
      "quotes-2009.json.bz2\n",
      "Could not open/read file: quotes-2009.json.bz2\n",
      "quotes-2010.json.bz2\n",
      "Could not open/read file: quotes-2010.json.bz2\n",
      "quotes-2011.json.bz2\n",
      "Could not open/read file: quotes-2011.json.bz2\n",
      "quotes-2012.json.bz2\n",
      "Could not open/read file: quotes-2012.json.bz2\n",
      "quotes-2013.json.bz2\n",
      "Could not open/read file: quotes-2013.json.bz2\n",
      "quotes-2014.json.bz2\n",
      "Could not open/read file: quotes-2014.json.bz2\n",
      "quotes-2015.json.bz2\n",
      "Could not open/read file: quotes-2015.json.bz2\n",
      "quotes-2016.json.bz2\n",
      "Could not open/read file: quotes-2016.json.bz2\n",
      "quotes-2017.json.bz2\n",
      "Could not open/read file: quotes-2017.json.bz2\n",
      "quotes-2008.json.bz2\n",
      "Could not open/read file: quotes-2008.json.bz2\n",
      "quotes-2009.json.bz2\n",
      "Could not open/read file: quotes-2009.json.bz2\n",
      "quotes-2010.json.bz2\n",
      "Could not open/read file: quotes-2010.json.bz2\n",
      "quotes-2011.json.bz2\n",
      "Could not open/read file: quotes-2011.json.bz2\n",
      "quotes-2012.json.bz2\n",
      "Could not open/read file: quotes-2012.json.bz2\n",
      "quotes-2013.json.bz2\n",
      "Could not open/read file: quotes-2013.json.bz2\n",
      "quotes-2014.json.bz2\n",
      "Could not open/read file: quotes-2014.json.bz2\n",
      "quotes-2015.json.bz2\n",
      "Could not open/read file: quotes-2015.json.bz2\n",
      "quotes-2016.json.bz2\n",
      "Could not open/read file: quotes-2016.json.bz2\n",
      "quotes-2017.json.bz2\n",
      "Could not open/read file: quotes-2017.json.bz2\n",
      "quotes-2008.json.bz2\n",
      "Could not open/read file: quotes-2008.json.bz2\n",
      "quotes-2009.json.bz2\n",
      "Could not open/read file: quotes-2009.json.bz2\n",
      "quotes-2010.json.bz2\n",
      "Could not open/read file: quotes-2010.json.bz2\n",
      "quotes-2011.json.bz2\n",
      "Could not open/read file: quotes-2011.json.bz2\n",
      "quotes-2012.json.bz2\n",
      "Could not open/read file: quotes-2012.json.bz2\n",
      "quotes-2013.json.bz2\n",
      "Could not open/read file: quotes-2013.json.bz2\n",
      "quotes-2014.json.bz2\n",
      "Could not open/read file: quotes-2014.json.bz2\n",
      "quotes-2015.json.bz2\n",
      "Could not open/read file: quotes-2015.json.bz2\n",
      "quotes-2016.json.bz2\n",
      "Could not open/read file: quotes-2016.json.bz2\n",
      "quotes-2017.json.bz2\n",
      "Could not open/read file: quotes-2017.json.bz2\n",
      "quotes-2008.json.bz2\n",
      "Could not open/read file: quotes-2008.json.bz2\n",
      "quotes-2009.json.bz2\n",
      "Could not open/read file: quotes-2009.json.bz2\n",
      "quotes-2010.json.bz2\n",
      "Could not open/read file: quotes-2010.json.bz2\n",
      "quotes-2011.json.bz2\n",
      "Could not open/read file: quotes-2011.json.bz2\n",
      "quotes-2012.json.bz2\n",
      "Could not open/read file: quotes-2012.json.bz2\n",
      "quotes-2013.json.bz2\n",
      "Could not open/read file: quotes-2013.json.bz2\n",
      "quotes-2014.json.bz2\n",
      "Could not open/read file: quotes-2014.json.bz2\n",
      "quotes-2015.json.bz2\n",
      "Could not open/read file: quotes-2015.json.bz2\n",
      "quotes-2016.json.bz2\n",
      "Could not open/read file: quotes-2016.json.bz2\n",
      "quotes-2017.json.bz2\n",
      "Could not open/read file: quotes-2017.json.bz2\n",
      "quotes-2008.json.bz2\n",
      "Could not open/read file: quotes-2008.json.bz2\n",
      "quotes-2009.json.bz2\n",
      "Could not open/read file: quotes-2009.json.bz2\n",
      "quotes-2010.json.bz2\n",
      "Could not open/read file: quotes-2010.json.bz2\n",
      "quotes-2011.json.bz2\n",
      "Could not open/read file: quotes-2011.json.bz2\n",
      "quotes-2012.json.bz2\n",
      "Could not open/read file: quotes-2012.json.bz2\n",
      "quotes-2013.json.bz2\n",
      "Could not open/read file: quotes-2013.json.bz2\n",
      "quotes-2014.json.bz2\n",
      "Could not open/read file: quotes-2014.json.bz2\n",
      "quotes-2015.json.bz2\n",
      "Could not open/read file: quotes-2015.json.bz2\n",
      "quotes-2016.json.bz2\n",
      "Could not open/read file: quotes-2016.json.bz2\n",
      "quotes-2017.json.bz2\n",
      "Could not open/read file: quotes-2017.json.bz2\n",
      "quotes-2008.json.bz2\n",
      "Could not open/read file: quotes-2008.json.bz2\n",
      "quotes-2009.json.bz2\n",
      "Could not open/read file: quotes-2009.json.bz2\n",
      "quotes-2010.json.bz2\n",
      "Could not open/read file: quotes-2010.json.bz2\n",
      "quotes-2011.json.bz2\n",
      "Could not open/read file: quotes-2011.json.bz2\n",
      "quotes-2012.json.bz2\n",
      "Could not open/read file: quotes-2012.json.bz2\n",
      "quotes-2013.json.bz2\n",
      "Could not open/read file: quotes-2013.json.bz2\n",
      "quotes-2014.json.bz2\n",
      "Could not open/read file: quotes-2014.json.bz2\n",
      "quotes-2015.json.bz2\n",
      "Could not open/read file: quotes-2015.json.bz2\n",
      "quotes-2016.json.bz2\n",
      "Could not open/read file: quotes-2016.json.bz2\n",
      "quotes-2017.json.bz2\n",
      "Could not open/read file: quotes-2017.json.bz2\n",
      "quotes-2008.json.bz2\n",
      "Could not open/read file: quotes-2008.json.bz2\n",
      "quotes-2009.json.bz2\n",
      "Could not open/read file: quotes-2009.json.bz2\n",
      "quotes-2010.json.bz2\n",
      "Could not open/read file: quotes-2010.json.bz2\n",
      "quotes-2011.json.bz2\n",
      "Could not open/read file: quotes-2011.json.bz2\n",
      "quotes-2012.json.bz2\n",
      "Could not open/read file: quotes-2012.json.bz2\n",
      "quotes-2013.json.bz2\n",
      "Could not open/read file: quotes-2013.json.bz2\n",
      "quotes-2014.json.bz2\n",
      "Could not open/read file: quotes-2014.json.bz2\n",
      "quotes-2015.json.bz2\n",
      "Could not open/read file: quotes-2015.json.bz2\n",
      "quotes-2016.json.bz2\n",
      "Could not open/read file: quotes-2016.json.bz2\n",
      "quotes-2017.json.bz2\n",
      "Could not open/read file: quotes-2017.json.bz2\n",
      "quotes-2008.json.bz2\n",
      "Could not open/read file: quotes-2008.json.bz2\n",
      "quotes-2009.json.bz2\n",
      "Could not open/read file: quotes-2009.json.bz2\n",
      "quotes-2010.json.bz2\n",
      "Could not open/read file: quotes-2010.json.bz2\n",
      "quotes-2011.json.bz2\n",
      "Could not open/read file: quotes-2011.json.bz2\n",
      "quotes-2012.json.bz2\n",
      "Could not open/read file: quotes-2012.json.bz2\n",
      "quotes-2013.json.bz2\n",
      "Could not open/read file: quotes-2013.json.bz2\n",
      "quotes-2014.json.bz2\n",
      "Could not open/read file: quotes-2014.json.bz2\n",
      "quotes-2015.json.bz2\n",
      "Could not open/read file: quotes-2015.json.bz2\n",
      "quotes-2016.json.bz2\n",
      "Could not open/read file: quotes-2016.json.bz2\n",
      "quotes-2017.json.bz2\n",
      "Could not open/read file: quotes-2017.json.bz2\n",
      "85\n",
      "90\n"
     ]
    }
   ],
   "source": [
    "print(fuzz.ratio(\"keywordKirien\", \"keywordJurien\"))\n",
    "elaborate_file()\n",
    "print(fuzz.partial_ratio(\"keywordKirien\", \"many people all over the world hav keywordJurien \"))\n",
    "print(fuzz.partial_ratio(\"1234567890\", \"123456789 many people all over the world have heart fisting\"))\n",
    "# print(fuzz.ratio(\"12\",\"22\"))"
   ],
   "metadata": {
    "collapsed": false,
    "pycharm": {
     "name": "#%%\n"
    }
   }
  },
  {
   "cell_type": "code",
   "execution_count": 45,
   "outputs": [],
   "source": [],
   "metadata": {
    "collapsed": false,
    "pycharm": {
     "name": "#%%\n"
    }
   }
  }
 ],
 "metadata": {
  "kernelspec": {
   "display_name": "Python 3",
   "language": "python",
   "name": "python3"
  },
  "language_info": {
   "codemirror_mode": {
    "name": "ipython",
    "version": 2
   },
   "file_extension": ".py",
   "mimetype": "text/x-python",
   "name": "python",
   "nbconvert_exporter": "python",
   "pygments_lexer": "ipython2",
   "version": "2.7.6"
  }
 },
 "nbformat": 4,
 "nbformat_minor": 0
}