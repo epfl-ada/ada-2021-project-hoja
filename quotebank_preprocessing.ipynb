{
 "cells": [
  {
   "cell_type": "markdown",
   "metadata": {},
   "source": [
    "Imports"
   ]
  },
  {
   "cell_type": "code",
   "execution_count": 21,
   "metadata": {
    "pycharm": {
     "name": "#%%\n"
    }
   },
   "outputs": [],
   "source": [
    "import sys\n",
    "import json\n",
    "import pandas as pd\n",
    "import time\n",
    "import bz2\n",
    "\n",
    "import topic\n",
    "from topic import Topics\n",
    "from topic import Keyword\n",
    "from tqdm import tqdm"
   ]
  },
  {
   "cell_type": "markdown",
   "metadata": {},
   "source": [
    "Constants"
   ]
  },
  {
   "cell_type": "code",
   "execution_count": 22,
   "metadata": {
    "pycharm": {
     "name": "#%%\n"
    }
   },
   "outputs": [],
   "source": [
    "DATA_PATH = './data/'\n",
    "PATH_TO_QUOTEBANK_2020 = DATA_PATH + \"quotes-2020.json.bz2\"\n",
    "quotebank = Topics(\"HenrikAsshole\", [])\n",
    "quotebank.read_keywords_from_file()"
   ]
  },
  {
   "cell_type": "markdown",
   "metadata": {},
   "source": [
    "Code"
   ]
  },
  {
   "cell_type": "code",
   "execution_count": 23,
   "metadata": {
    "pycharm": {
     "name": "#%%\n"
    }
   },
   "outputs": [],
   "source": [
    "def start_quotation_classification():\n",
    "    quotes_file_list = compose_file_names()\n",
    "\n",
    "    for index, filename in enumerate(quotes_file_list):\n",
    "        #print(\"Year is: \" + str(starting_year + index) + \"\\nReading: \" + filename)\n",
    "        elaborate_file_for_year(filename, index)"
   ]
  },
  {
   "cell_type": "code",
   "execution_count": 20,
   "metadata": {
    "pycharm": {
     "name": "#%%\n"
    }
   },
   "outputs": [
    {
     "ename": "IndentationError",
     "evalue": "unexpected indent (Temp/ipykernel_79252/3249679014.py, line 6)",
     "output_type": "error",
     "traceback": [
      "\u001b[1;36m  File \u001b[1;32m\"C:\\Users\\owode\\AppData\\Local\\Temp/ipykernel_79252/3249679014.py\"\u001b[1;36m, line \u001b[1;32m6\u001b[0m\n\u001b[1;33m    for i, line in tqdm(enumerate(file)):\u001b[0m\n\u001b[1;37m    ^\u001b[0m\n\u001b[1;31mIndentationError\u001b[0m\u001b[1;31m:\u001b[0m unexpected indent\n"
     ]
    }
   ],
   "source": [
    "def elaborate_file_for_year(filename, index):\n",
    "    try:\n",
    "        with bz2.open(filename, \"rb\") as file:\n",
    "\n",
    "            filenames = []\n",
    "            for k in quotebank.keywords:\n",
    "                k.output_filenames.map()\n",
    "            \n",
    "\n",
    "            with ExitStack() as stack:\n",
    "                files = [stack.enter_context(open(fname)) for fname in filenames]\n",
    "\n",
    "            for i, line in tqdm(enumerate(file)):\n",
    "                   # if i == 20: break\n",
    "                quotation = extract_quotation(line)\n",
    "                found_keyword = quotebank.match_quotation_with_any_keyword(quotation)\n",
    "                if found_keyword is not None: \n",
    "                   #quotebank.assign_quote_to_file(found_keyword.name, index, line)\n",
    "                   files[0]                               \n",
    "\n",
    "    except OSError:\n",
    "        print(\"Could not open/read file:\", filename)\n",
    "\n",
    "def create_json_dumps():\n",
    "    years_for_file = get_all_years()\n",
    "\n",
    "    for k in quotebank.keywords:\n",
    "        for year in years_for_file:\n",
    "            filename_for_year = k.name.replace(\" \", \"_\") + \"-20\" + year + \".json.bz2\"\n",
    "            k.output_filenames.append(filename_for_year)\n",
    "            \n",
    "\n",
    "def get_all_years() -> list:\n",
    "    years_for_file = []\n",
    "    for i in range(8,21):\n",
    "        if i < 10:\n",
    "            tmp = \"0\" + str(i)\n",
    "            years_for_file.append(tmp)\n",
    "        else:\n",
    "            tmp = str(i)\n",
    "            years_for_file.append(tmp)\n",
    "    return years_for_file\n"
   ]
  },
  {
   "cell_type": "code",
   "execution_count": 24,
   "metadata": {
    "pycharm": {
     "name": "#%%\n"
    }
   },
   "outputs": [],
   "source": [
    "def compose_file_names() -> list:\n",
    "    quotes_file_list = []\n",
    "    for i in range(8,21):\n",
    "        if i < 10:\n",
    "            tmp = \"0\" + str(i)\n",
    "        else:\n",
    "            tmp = str(i)\n",
    "\n",
    "        quotes_file_list.append(\"./data/quotes-20\" + tmp + \".json.bz2\")\n",
    "    return quotes_file_list"
   ]
  },
  {
   "cell_type": "code",
   "execution_count": 25,
   "metadata": {
    "pycharm": {
     "name": "#%%\n"
    }
   },
   "outputs": [],
   "source": [
    "def extract_quotation(line) -> str:\n",
    "    json_line = json.loads(line)\n",
    "    return json_line['quotation']"
   ]
  },
  {
   "cell_type": "code",
   "execution_count": 26,
   "metadata": {
    "pycharm": {
     "name": "#%%\n"
    }
   },
   "outputs": [
    {
     "name": "stderr",
     "output_type": "stream",
     "text": [
      "0it [00:00, ?it/s]\n"
     ]
    },
    {
     "ename": "KeyError",
     "evalue": "'quotation'",
     "output_type": "error",
     "traceback": [
      "\u001b[1;31m---------------------------------------------------------------------------\u001b[0m",
      "\u001b[1;31mKeyError\u001b[0m                                  Traceback (most recent call last)",
      "\u001b[1;32m~\\AppData\\Local\\Temp/ipykernel_79252/3908111547.py\u001b[0m in \u001b[0;36m<module>\u001b[1;34m\u001b[0m\n\u001b[1;32m----> 1\u001b[1;33m \u001b[0mstart_quotation_classification\u001b[0m\u001b[1;33m(\u001b[0m\u001b[1;33m)\u001b[0m\u001b[1;33m\u001b[0m\u001b[1;33m\u001b[0m\u001b[0m\n\u001b[0m",
      "\u001b[1;32m~\\AppData\\Local\\Temp/ipykernel_79252/1334950598.py\u001b[0m in \u001b[0;36mstart_quotation_classification\u001b[1;34m()\u001b[0m\n\u001b[0;32m      4\u001b[0m     \u001b[1;32mfor\u001b[0m \u001b[0mindex\u001b[0m\u001b[1;33m,\u001b[0m \u001b[0mfilename\u001b[0m \u001b[1;32min\u001b[0m \u001b[0menumerate\u001b[0m\u001b[1;33m(\u001b[0m\u001b[0mquotes_file_list\u001b[0m\u001b[1;33m)\u001b[0m\u001b[1;33m:\u001b[0m\u001b[1;33m\u001b[0m\u001b[1;33m\u001b[0m\u001b[0m\n\u001b[0;32m      5\u001b[0m         \u001b[1;31m#print(\"Year is: \" + str(starting_year + index) + \"\\nReading: \" + filename)\u001b[0m\u001b[1;33m\u001b[0m\u001b[1;33m\u001b[0m\u001b[1;33m\u001b[0m\u001b[0m\n\u001b[1;32m----> 6\u001b[1;33m         \u001b[0melaborate_file_for_year\u001b[0m\u001b[1;33m(\u001b[0m\u001b[0mfilename\u001b[0m\u001b[1;33m,\u001b[0m \u001b[0mindex\u001b[0m\u001b[1;33m)\u001b[0m\u001b[1;33m\u001b[0m\u001b[1;33m\u001b[0m\u001b[0m\n\u001b[0m",
      "\u001b[1;32m~\\AppData\\Local\\Temp/ipykernel_79252/3292456818.py\u001b[0m in \u001b[0;36melaborate_file_for_year\u001b[1;34m(filename, index)\u001b[0m\n\u001b[0;32m      6\u001b[0m             \u001b[1;32mfor\u001b[0m \u001b[0mi\u001b[0m\u001b[1;33m,\u001b[0m \u001b[0mline\u001b[0m \u001b[1;32min\u001b[0m \u001b[0mtqdm\u001b[0m\u001b[1;33m(\u001b[0m\u001b[0menumerate\u001b[0m\u001b[1;33m(\u001b[0m\u001b[0mfile\u001b[0m\u001b[1;33m)\u001b[0m\u001b[1;33m)\u001b[0m\u001b[1;33m:\u001b[0m\u001b[1;33m\u001b[0m\u001b[1;33m\u001b[0m\u001b[0m\n\u001b[0;32m      7\u001b[0m                \u001b[1;31m# if i == 20: break\u001b[0m\u001b[1;33m\u001b[0m\u001b[1;33m\u001b[0m\u001b[1;33m\u001b[0m\u001b[0m\n\u001b[1;32m----> 8\u001b[1;33m                 \u001b[0mquotation\u001b[0m \u001b[1;33m=\u001b[0m \u001b[0mextract_quotation\u001b[0m\u001b[1;33m(\u001b[0m\u001b[0mline\u001b[0m\u001b[1;33m)\u001b[0m\u001b[1;33m\u001b[0m\u001b[1;33m\u001b[0m\u001b[0m\n\u001b[0m\u001b[0;32m      9\u001b[0m                 \u001b[0mfound_keyword\u001b[0m \u001b[1;33m=\u001b[0m \u001b[0mquotebank\u001b[0m\u001b[1;33m.\u001b[0m\u001b[0mmatch_quotation_with_any_keyword\u001b[0m\u001b[1;33m(\u001b[0m\u001b[0mquotation\u001b[0m\u001b[1;33m)\u001b[0m\u001b[1;33m\u001b[0m\u001b[1;33m\u001b[0m\u001b[0m\n\u001b[0;32m     10\u001b[0m \u001b[1;33m\u001b[0m\u001b[0m\n",
      "\u001b[1;32m~\\AppData\\Local\\Temp/ipykernel_79252/1113649323.py\u001b[0m in \u001b[0;36mextract_quotation\u001b[1;34m(line)\u001b[0m\n\u001b[0;32m      1\u001b[0m \u001b[1;32mdef\u001b[0m \u001b[0mextract_quotation\u001b[0m\u001b[1;33m(\u001b[0m\u001b[0mline\u001b[0m\u001b[1;33m)\u001b[0m \u001b[1;33m->\u001b[0m \u001b[0mstr\u001b[0m\u001b[1;33m:\u001b[0m\u001b[1;33m\u001b[0m\u001b[1;33m\u001b[0m\u001b[0m\n\u001b[0;32m      2\u001b[0m     \u001b[0mjson_line\u001b[0m \u001b[1;33m=\u001b[0m \u001b[0mjson\u001b[0m\u001b[1;33m.\u001b[0m\u001b[0mloads\u001b[0m\u001b[1;33m(\u001b[0m\u001b[0mline\u001b[0m\u001b[1;33m)\u001b[0m\u001b[1;33m\u001b[0m\u001b[1;33m\u001b[0m\u001b[0m\n\u001b[1;32m----> 3\u001b[1;33m     \u001b[1;32mreturn\u001b[0m \u001b[0mjson_line\u001b[0m\u001b[1;33m[\u001b[0m\u001b[1;34m'quotation'\u001b[0m\u001b[1;33m]\u001b[0m\u001b[1;33m\u001b[0m\u001b[1;33m\u001b[0m\u001b[0m\n\u001b[0m",
      "\u001b[1;31mKeyError\u001b[0m: 'quotation'"
     ]
    }
   ],
   "source": [
    "create_json_dumps()\n",
    "start_quotation_classification()"
   ]
  },
  {
   "cell_type": "code",
   "execution_count": 9,
   "metadata": {
    "pycharm": {
     "name": "#%%\n"
    },
    "scrolled": true
   },
   "outputs": [
    {
     "name": "stdout",
     "output_type": "stream",
     "text": [
      "['meningitis-2008.json.bz2', 'meningitis-2009.json.bz2', 'meningitis-2010.json.bz2', 'meningitis-2011.json.bz2', 'meningitis-2012.json.bz2', 'meningitis-2013.json.bz2', 'meningitis-2014.json.bz2', 'meningitis-2015.json.bz2', 'meningitis-2016.json.bz2', 'meningitis-2017.json.bz2', 'meningitis-2018.json.bz2', 'meningitis-2019.json.bz2', 'meningitis-2020.json.bz2']\n"
     ]
    }
   ],
   "source": [
    "print(quotebank.keywords[0].output_filenames)"
   ]
  },
  {
   "cell_type": "code",
   "execution_count": 10,
   "metadata": {},
   "outputs": [
    {
     "data": {
      "text/plain": [
       "'meningitis-2008.json.bz2'"
      ]
     },
     "execution_count": 10,
     "metadata": {},
     "output_type": "execute_result"
    }
   ],
   "source": [
    "quotebank.get_keyword_by_name('meningitis').output_filenames[0]"
   ]
  }
 ],
 "metadata": {
  "kernelspec": {
   "display_name": "Python 3",
   "language": "python",
   "name": "python3"
  },
  "language_info": {
   "codemirror_mode": {
    "name": "ipython",
    "version": 3
   },
   "file_extension": ".py",
   "mimetype": "text/x-python",
   "name": "python",
   "nbconvert_exporter": "python",
   "pygments_lexer": "ipython3",
   "version": "3.7.4"
  }
 },
 "nbformat": 4,
 "nbformat_minor": 1
}
