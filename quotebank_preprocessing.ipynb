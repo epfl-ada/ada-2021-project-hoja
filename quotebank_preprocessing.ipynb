{
 "cells": [
  {
   "cell_type": "markdown",
   "metadata": {},
   "source": [
    "Imports"
   ]
  },
  {
   "cell_type": "code",
   "execution_count": 1,
   "metadata": {
    "pycharm": {
     "name": "#%%\n"
    }
   },
   "outputs": [
    {
     "name": "stderr",
     "output_type": "stream",
     "text": [
      "/Users/andreaperozziello/opt/anaconda3/lib/python3.8/site-packages/thefuzz/fuzz.py:11: UserWarning: Using slow pure-python SequenceMatcher. Install python-Levenshtein to remove this warning\n",
      "  warnings.warn('Using slow pure-python SequenceMatcher. Install python-Levenshtein to remove this warning')\n"
     ]
    }
   ],
   "source": [
    "import sys\n",
    "import json\n",
    "import pandas as pd\n",
    "import time\n",
    "import bz2\n",
    "\n",
    "import topic\n",
    "from topic import Topics\n",
    "from topic import Keyword\n",
    "from tqdm import tqdm\n",
    "from contextlib import contextmanager, ExitStack"
   ]
  },
  {
   "cell_type": "markdown",
   "metadata": {},
   "source": [
    "Constants"
   ]
  },
  {
   "cell_type": "code",
   "execution_count": 2,
   "metadata": {
    "pycharm": {
     "name": "#%%\n"
    }
   },
   "outputs": [],
   "source": [
    "DATA_PATH = './data/'\n",
    "PATH_TO_QUOTEBANK_2020 = DATA_PATH + \"quotes-2020.json.bz2\"\n",
    "quotebank = Topics(\"HenrikAsshole\", [])\n",
    "quotebank.read_keywords_from_file()"
   ]
  },
  {
   "cell_type": "markdown",
   "metadata": {},
   "source": [
    "Code"
   ]
  },
  {
   "cell_type": "code",
   "execution_count": 3,
   "metadata": {
    "pycharm": {
     "name": "#%%\n"
    }
   },
   "outputs": [],
   "source": [
    "def start_quotation_classification():\n",
    "    quotes_file_list = compose_file_names()\n",
    "\n",
    "    starting_year = 2008\n",
    "    for index, filename in enumerate(quotes_file_list):\n",
    "        # print(\"Year is: \" + str(starting_year + index) + \"\\nReading: \" + filename)\n",
    "        print(\"File is: \" + filename)\n",
    "        elaborate_file_for_year(filename, index)"
   ]
  },
  {
   "cell_type": "code",
   "execution_count": 4,
   "outputs": [],
   "source": [
    "def elaborate_file_for_year(filename, index):\n",
    "    try:\n",
    "        with bz2.open(filename, \"rb\") as file:\n",
    "            # filenames_for_specific_year = []\n",
    "            # for k in quotebank.keywords:\n",
    "            #     k_filename  = k.output_filenames[index]\n",
    "            #     filenames_for_specific_year.append(k_filename)\n",
    "            #     # print(k_filename)\n",
    "            #\n",
    "            #\n",
    "            # # with ExitStack() as stack:\n",
    "            # #     files = [stack.enter_context(open(fname)) for fname in filenames_for_specific_year]\n",
    "            # #     print(files)\n",
    "\n",
    "            for i, line in tqdm(enumerate(file)):\n",
    "                if i == 20000: break\n",
    "                quotation = extract_quotation(line)\n",
    "                found_keyword = quotebank.match_quotation_with_any_keyword(quotation)\n",
    "                if found_keyword is not None:\n",
    "                    found_keyword.json_quotes.append(line)\n",
    "                   #quotebank.assign_quote_to_file(found_keyword.name, index, line)\n",
    "    except OSError:\n",
    "        print(\"Could not open/read file:\", filename)"
   ],
   "metadata": {
    "collapsed": false,
    "pycharm": {
     "name": "#%%\n"
    }
   }
  },
  {
   "cell_type": "code",
   "execution_count": 5,
   "outputs": [],
   "source": [
    "def create_json_dumps():\n",
    "    years_for_file = get_all_years()\n",
    "\n",
    "    for k in quotebank.keywords:\n",
    "        for year in years_for_file:\n",
    "            filename_for_year = k.name.replace(\" \", \"_\") + \"-20\" + year + \".json.bz2\"\n",
    "            k.output_filenames.append(filename_for_year)\n",
    "\n",
    "def get_all_years() -> list:\n",
    "    years_for_file = []\n",
    "    for i in range(8,21):\n",
    "        if i < 10:\n",
    "            tmp = \"0\" + str(i)\n",
    "            years_for_file.append(tmp)\n",
    "        else:\n",
    "            tmp = str(i)\n",
    "            years_for_file.append(tmp)\n",
    "    return years_for_file\n"
   ],
   "metadata": {
    "collapsed": false,
    "pycharm": {
     "name": "#%%\n"
    }
   }
  },
  {
   "cell_type": "code",
   "execution_count": 6,
   "metadata": {
    "pycharm": {
     "name": "#%%\n"
    }
   },
   "outputs": [],
   "source": [
    "def compose_file_names() -> list:\n",
    "    quotes_file_list = []\n",
    "    for i in range(8,18):\n",
    "        if i < 10:\n",
    "            tmp = \"0\" + str(i)\n",
    "        else:\n",
    "            tmp = str(i)\n",
    "\n",
    "        quotes_file_list.append(\"./data/quotes-20\" + tmp + \".json.bz2\")\n",
    "    return quotes_file_list"
   ]
  },
  {
   "cell_type": "code",
   "execution_count": 7,
   "metadata": {
    "pycharm": {
     "name": "#%%\n"
    }
   },
   "outputs": [],
   "source": [
    "def extract_quotation(line) -> str:\n",
    "    json_line = json.loads(line)\n",
    "    return json_line['quotation']"
   ]
  },
  {
   "cell_type": "code",
   "execution_count": 8,
   "metadata": {
    "pycharm": {
     "name": "#%%\n"
    }
   },
   "outputs": [
    {
     "name": "stderr",
     "output_type": "stream",
     "text": [
      "636it [00:00, 6298.21it/s]"
     ]
    },
    {
     "name": "stdout",
     "output_type": "stream",
     "text": [
      "File is: ./data/quotes-2008.json.bz2\n",
      "Could not open/read file: ./data/quotes-2008.json.bz2\n",
      "File is: ./data/quotes-2009.json.bz2\n",
      "Could not open/read file: ./data/quotes-2009.json.bz2\n",
      "File is: ./data/quotes-2010.json.bz2\n",
      "Could not open/read file: ./data/quotes-2010.json.bz2\n",
      "File is: ./data/quotes-2011.json.bz2\n"
     ]
    },
    {
     "name": "stderr",
     "output_type": "stream",
     "text": [
      "20000it [00:07, 2694.70it/s]\n",
      "276it [00:00, 2752.76it/s]"
     ]
    },
    {
     "name": "stdout",
     "output_type": "stream",
     "text": [
      "File is: ./data/quotes-2012.json.bz2\n"
     ]
    },
    {
     "name": "stderr",
     "output_type": "stream",
     "text": [
      "20000it [00:07, 2618.36it/s]\n",
      "234it [00:00, 2336.65it/s]"
     ]
    },
    {
     "name": "stdout",
     "output_type": "stream",
     "text": [
      "File is: ./data/quotes-2013.json.bz2\n"
     ]
    },
    {
     "name": "stderr",
     "output_type": "stream",
     "text": [
      "20000it [00:06, 2993.10it/s]\n",
      "265it [00:00, 2645.29it/s]"
     ]
    },
    {
     "name": "stdout",
     "output_type": "stream",
     "text": [
      "File is: ./data/quotes-2014.json.bz2\n"
     ]
    },
    {
     "name": "stderr",
     "output_type": "stream",
     "text": [
      "20000it [00:06, 2858.28it/s]\n",
      "246it [00:00, 2442.78it/s]"
     ]
    },
    {
     "name": "stdout",
     "output_type": "stream",
     "text": [
      "File is: ./data/quotes-2015.json.bz2\n"
     ]
    },
    {
     "name": "stderr",
     "output_type": "stream",
     "text": [
      "20000it [00:07, 2807.00it/s]\n",
      "278it [00:00, 2770.52it/s]"
     ]
    },
    {
     "name": "stdout",
     "output_type": "stream",
     "text": [
      "File is: ./data/quotes-2016.json.bz2\n"
     ]
    },
    {
     "name": "stderr",
     "output_type": "stream",
     "text": [
      "20000it [00:07, 2762.34it/s]\n",
      "248it [00:00, 2463.15it/s]"
     ]
    },
    {
     "name": "stdout",
     "output_type": "stream",
     "text": [
      "File is: ./data/quotes-2017.json.bz2\n"
     ]
    },
    {
     "name": "stderr",
     "output_type": "stream",
     "text": [
      "20000it [00:07, 2678.59it/s]\n"
     ]
    }
   ],
   "source": [
    "create_json_dumps()\n",
    "start_quotation_classification()\n"
   ]
  },
  {
   "cell_type": "code",
   "execution_count": 9,
   "outputs": [
    {
     "name": "stdout",
     "output_type": "stream",
     "text": [
      "meningitis\n",
      "1\n",
      "lower respiratory infections\n",
      "6\n",
      "intestinal infectious diseases\n",
      "1\n",
      "protein-energy malnutrition\n",
      "0\n",
      "terrorism\n",
      "155\n",
      "cardiovascular diseases\n",
      "61\n",
      "alzheimer disease and other dementias\n",
      "12\n",
      "chronic kidney disease\n",
      "2\n",
      "chronic respiratory diseases\n",
      "15\n",
      "cirrhosis and other chronic liver diseases\n",
      "2\n",
      "digestive diseases\n",
      "1\n",
      "hepatitis\n",
      "0\n",
      "neoplasms\n",
      "0\n",
      "parkinson disease\n",
      "1\n",
      "fire, heat, and hot substances\n",
      "6\n",
      "malaria\n",
      "6\n",
      "drowning\n",
      "3\n",
      "interpersonal violence\n",
      "44\n",
      "hiv/aids\n",
      "44\n",
      "drug use disorders\n",
      "4\n",
      "tuberculosis\n",
      "0\n",
      "road injuries\n",
      "12\n",
      "maternal disorders\n",
      "18\n",
      "neonatal disorders\n",
      "0\n",
      "alcohol use disorders\n",
      "3\n",
      "exposure to forces of nature\n",
      "54\n",
      "diarrheal diseases\n",
      "1\n",
      "environmental heat and cold exposure\n",
      "11\n",
      "nutritional deficiencies\n",
      "3\n",
      "self-harm\n",
      "4\n",
      "conflict and terrorism\n",
      "515\n",
      "diabetes mellitus\n",
      "0\n",
      "poisonings\n",
      "10\n"
     ]
    }
   ],
   "source": [
    "for k in quotebank.keywords:\n",
    "    print(k.name)\n",
    "    print(len(k.json_quotes))\n",
    "    # if k.name == \"malaria\":\n",
    "    #     for kjq in k.json_quotes:\n",
    "    #         json_line = json.loads(kjq)\n",
    "    #         print(\"\\n\\n\" + json_line['quotation'])"
   ],
   "metadata": {
    "collapsed": false,
    "pycharm": {
     "name": "#%%\n"
    }
   }
  },
  {
   "cell_type": "code",
   "execution_count": 10,
   "metadata": {
    "pycharm": {
     "name": "#%%\n"
    },
    "scrolled": true
   },
   "outputs": [
    {
     "name": "stdout",
     "output_type": "stream",
     "text": [
      "['meningitis-2008.json.bz2', 'meningitis-2009.json.bz2', 'meningitis-2010.json.bz2', 'meningitis-2011.json.bz2', 'meningitis-2012.json.bz2', 'meningitis-2013.json.bz2', 'meningitis-2014.json.bz2', 'meningitis-2015.json.bz2', 'meningitis-2016.json.bz2', 'meningitis-2017.json.bz2', 'meningitis-2018.json.bz2', 'meningitis-2019.json.bz2', 'meningitis-2020.json.bz2']\n"
     ]
    }
   ],
   "source": [
    "print(quotebank.keywords[0].output_filenames)"
   ]
  },
  {
   "cell_type": "code",
   "execution_count": 11,
   "metadata": {},
   "outputs": [
    {
     "data": {
      "text/plain": "'meningitis-2008.json.bz2'"
     },
     "execution_count": 11,
     "metadata": {},
     "output_type": "execute_result"
    }
   ],
   "source": [
    "quotebank.get_keyword_by_name('meningitis').output_filenames[0]"
   ]
  }
 ],
 "metadata": {
  "kernelspec": {
   "display_name": "Python 3",
   "language": "python",
   "name": "python3"
  },
  "language_info": {
   "codemirror_mode": {
    "name": "ipython",
    "version": 3
   },
   "file_extension": ".py",
   "mimetype": "text/x-python",
   "name": "python",
   "nbconvert_exporter": "python",
   "pygments_lexer": "ipython3",
   "version": "3.7.4"
  }
 },
 "nbformat": 4,
 "nbformat_minor": 1
}