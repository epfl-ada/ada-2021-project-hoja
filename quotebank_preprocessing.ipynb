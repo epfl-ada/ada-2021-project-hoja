{
 "cells": [
  {
   "cell_type": "markdown",
   "metadata": {},
   "source": [
    "Imports"
   ]
  },
  {
   "cell_type": "code",
   "execution_count": 1,
   "metadata": {
    "pycharm": {
     "name": "#%%\n"
    }
   },
   "outputs": [
    {
     "name": "stderr",
     "output_type": "stream",
     "text": [
      "C:\\Python38\\lib\\site-packages\\thefuzz\\fuzz.py:11: UserWarning: Using slow pure-python SequenceMatcher. Install python-Levenshtein to remove this warning\n",
      "  warnings.warn('Using slow pure-python SequenceMatcher. Install python-Levenshtein to remove this warning')\n"
     ]
    }
   ],
   "source": [
    "import sys\n",
    "import json\n",
    "import pandas as pd\n",
    "import time\n",
    "import bz2\n",
    "\n",
    "import topic\n",
    "from topic import Topics\n",
    "from topic import Keyword\n",
    "from tqdm import tqdm"
   ]
  },
  {
   "cell_type": "markdown",
   "metadata": {},
   "source": [
    "Constants"
   ]
  },
  {
   "cell_type": "code",
   "execution_count": 2,
   "metadata": {
    "pycharm": {
     "name": "#%%\n"
    }
   },
   "outputs": [],
   "source": [
    "DATA_PATH = './data/'\n",
    "PATH_TO_QUOTEBANK_2020 = DATA_PATH + \"quotes-2020.json.bz2\"\n",
    "quotebank = Topics(\"HenrikAsshole\", [])\n",
    "quotebank.read_keywords_from_file()"
   ]
  },
  {
   "cell_type": "markdown",
   "metadata": {},
   "source": [
    "Code"
   ]
  },
  {
   "cell_type": "code",
   "execution_count": 3,
   "metadata": {
    "pycharm": {
     "name": "#%%\n"
    }
   },
   "outputs": [],
   "source": [
    "def start_quotation_classification(topic):\n",
    " \n",
    "    topic.read_keywords_from_file()\n",
    "    quotes_file_list = compose_file_names()\n",
    "\n",
    "    for filename in quotes_file_list:\n",
    "        print(filename)\n",
    "        elaborate_file(filename, topic)\n",
    "        "
   ]
  },
  {
   "cell_type": "code",
   "execution_count": 4,
   "metadata": {
    "pycharm": {
     "name": "#%%\n"
    }
   },
   "outputs": [],
   "source": [
    "def elaborate_file(filename, topic):\n",
    "    try:\n",
    "        with bz2.open(filename, \"rb\") as file:\n",
    "            for i, line in tqdm(enumerate(file)):\n",
    "                if i == 20: break\n",
    "                quotation = extract_quotation(line)\n",
    "                found_keyword = topic.match_quotation_with_any_keyword(quotation)\n",
    "                \n",
    "                if found_keyword != None:\n",
    "                    topic.assign_keyword(found_keyword, line) \n",
    "                \n",
    "\n",
    "    except OSError:\n",
    "        print(\"Could not open/read file:\", filename)"
   ]
  },
  {
   "cell_type": "code",
   "execution_count": 5,
   "metadata": {
    "pycharm": {
     "name": "#%%\n"
    }
   },
   "outputs": [],
   "source": [
    "quotes_file_list = []\n",
    "\n",
    "def compose_file_names() -> list:\n",
    "    for i in range(8,18):\n",
    "        if i < 10:\n",
    "            tmp = \"0\" + str(i)\n",
    "        else:\n",
    "            tmp = str(i)\n",
    "\n",
    "        quotes_file_list.append(\"quotes-20\" + tmp + \".json.bz2\")\n",
    "    return quotes_file_list"
   ]
  },
  {
   "cell_type": "code",
   "execution_count": 6,
   "metadata": {
    "pycharm": {
     "name": "#%%\n"
    }
   },
   "outputs": [],
   "source": [
    "def extract_quotation(line) -> str:\n",
    "    json_line = json.loads(line)\n",
    "    return json_line['quotation']\n",
    "    "
   ]
  },
  {
   "cell_type": "code",
   "execution_count": 7,
   "metadata": {
    "pycharm": {
     "name": "#%%\n"
    }
   },
   "outputs": [
    {
     "name": "stderr",
     "output_type": "stream",
     "text": [
      "20it [00:00, 219.79it/s]\n"
     ]
    }
   ],
   "source": [
    "\n",
    "elaborate_file(DATA_PATH + \"quotes-2020.json.bz2\", quotebank)\n",
    "\n",
    "# print(fuzz.ratio(\"12\",\"22\"))"
   ]
  },
  {
   "cell_type": "code",
   "execution_count": 8,
   "metadata": {
    "pycharm": {
     "name": "#%%\n"
    },
    "scrolled": true
   },
   "outputs": [
    {
     "name": "stdout",
     "output_type": "stream",
     "text": [
      "<topic.Topics object at 0x00000185579A1FA0>\n",
      "Series([], Name: quoteID, dtype: object)\n"
     ]
    }
   ],
   "source": [
    "print(quotebank)\n",
    "print(quotebank.keywords[3].quotes['quoteID'])"
   ]
  },
  {
   "cell_type": "code",
   "execution_count": null,
   "metadata": {},
   "outputs": [],
   "source": []
  }
 ],
 "metadata": {
  "kernelspec": {
   "display_name": "Python 3",
   "language": "python",
   "name": "python3"
  },
  "language_info": {
   "codemirror_mode": {
    "name": "ipython",
    "version": 3
   },
   "file_extension": ".py",
   "mimetype": "text/x-python",
   "name": "python",
   "nbconvert_exporter": "python",
   "pygments_lexer": "ipython3",
   "version": "3.8.7"
  }
 },
 "nbformat": 4,
 "nbformat_minor": 1
}
