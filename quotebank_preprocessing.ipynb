{
 "cells": [
  {
   "cell_type": "markdown",
   "metadata": {},
   "source": [
    "Imports"
   ]
  },
  {
   "cell_type": "code",
   "execution_count": 1,
   "metadata": {
    "pycharm": {
     "name": "#%%\n"
    }
   },
   "outputs": [
    {
     "name": "stderr",
     "output_type": "stream",
     "text": [
      "C:\\Users\\jurri\\anaconda3\\lib\\site-packages\\thefuzz\\fuzz.py:11: UserWarning: Using slow pure-python SequenceMatcher. Install python-Levenshtein to remove this warning\n",
      "  warnings.warn('Using slow pure-python SequenceMatcher. Install python-Levenshtein to remove this warning')\n"
     ]
    }
   ],
   "source": [
    "import sys\n",
    "import json\n",
    "import pandas as pd\n",
    "import time\n",
    "import bz2\n",
    "\n",
    "import topic\n",
    "from topic import Topics\n",
    "from topic import Keyword\n",
    "from tqdm import tqdm"
   ]
  },
  {
   "cell_type": "markdown",
   "metadata": {},
   "source": [
    "Constants"
   ]
  },
  {
   "cell_type": "code",
   "execution_count": 2,
   "metadata": {
    "pycharm": {
     "name": "#%%\n"
    }
   },
   "outputs": [],
   "source": [
    "DATA_PATH = './data/'\n",
    "PATH_TO_QUOTEBANK_2020 = DATA_PATH + \"quotes-2020.json.bz2\"\n",
    "quotebank = Topics(\"HenrikAsshole\", [])\n",
    "quotebank.read_keywords_from_file()"
   ]
  },
  {
   "cell_type": "markdown",
   "metadata": {},
   "source": [
    "Code"
   ]
  },
  {
   "cell_type": "code",
   "execution_count": 3,
   "metadata": {
    "pycharm": {
     "name": "#%%\n"
    }
   },
   "outputs": [],
   "source": [
    "def start_quotation_classification():\n",
    " \n",
    "    quotebank.read_keywords_from_file()\n",
    "    quotes_file_list = compose_file_names()\n",
    "\n",
    "    for index, filename in enumerate(quotes_file_list):\n",
    "        #print(\"Year is: \" + str(starting_year + index) + \"\\nReading: \" + filename)\n",
    "        elaborate_file_for_year(filename, index)\n",
    "        "
   ]
  },
  {
   "cell_type": "code",
   "execution_count": 4,
   "metadata": {
    "pycharm": {
     "name": "#%%\n"
    }
   },
   "outputs": [],
   "source": [
    "def elaborate_file_for_year(filename, index):\n",
    "    try:\n",
    "        with bz2.open(filename, \"rb\") as file:\n",
    "\n",
    "            # with bz2.open(quotebank.get_keyword_by_name(key_words).output_filename[index]):\n",
    "            create_json_dumps()\n",
    "\n",
    "            for i, line in tqdm(enumerate(file)):\n",
    "               # if i == 20: break\n",
    "                quotation = extract_quotation(line)\n",
    "                found_keyword = quotebank.match_quotation_with_any_keyword(quotation)\n",
    "                \n",
    "                if found_keyword is not None: \n",
    "                    quotebank.assign_quote_to_file(found_keyword.name, index, line)\n",
    "#                     key = quotebank.get_keyword_by_name(found_keyword.name)\n",
    "#                     with bz2.open(key.output_filenames[index], 'wb') as output_file:\n",
    "#                         output_file.write((json.dumps(json.loads(line))+'\\n').encode('utf-8'))\n",
    "#                     output_file.close()\n",
    "                        \n",
    "                \n",
    "\n",
    "    except OSError:\n",
    "        print(\"Could not open/read file:\", filename)\n",
    "\n",
    "def create_json_dumps():\n",
    "    years_for_file = get_all_years()\n",
    "\n",
    "    for k in quotebank.keywords:\n",
    "        for year in years_for_file:\n",
    "            filename_for_year = k.name.replace(\" \", \"_\") + \"-20\" + year + \".json.bz2\"\n",
    "            k.output_filenames.append(filename_for_year)\n",
    "            \n",
    "\n",
    "def get_all_years() -> list:\n",
    "    years_for_file = []\n",
    "    for i in range(8,21):\n",
    "        if i < 10:\n",
    "            tmp = \"0\" + str(i)\n",
    "            years_for_file.append(tmp)\n",
    "        else:\n",
    "            tmp = str(i)\n",
    "            years_for_file.append(tmp)\n",
    "    return years_for_file\n"
   ]
  },
  {
   "cell_type": "code",
   "execution_count": 5,
   "metadata": {
    "pycharm": {
     "name": "#%%\n"
    }
   },
   "outputs": [],
   "source": [
    "def compose_file_names() -> list:\n",
    "    quotes_file_list = []\n",
    "    for i in range(8,21):\n",
    "        if i < 10:\n",
    "            tmp = \"0\" + str(i)\n",
    "        else:\n",
    "            tmp = str(i)\n",
    "\n",
    "        quotes_file_list.append(\"./data/quotes-20\" + tmp + \".json.bz2\")\n",
    "    return quotes_file_list"
   ]
  },
  {
   "cell_type": "code",
   "execution_count": 6,
   "metadata": {
    "pycharm": {
     "name": "#%%\n"
    }
   },
   "outputs": [],
   "source": [
    "def extract_quotation(line) -> str:\n",
    "    json_line = json.loads(line)\n",
    "    return json_line['quotation']\n",
    "    "
   ]
  },
  {
   "cell_type": "code",
   "execution_count": null,
   "metadata": {
    "pycharm": {
     "name": "#%%\n"
    }
   },
   "outputs": [
    {
     "name": "stderr",
     "output_type": "stream",
     "text": [
      "104it [00:00, 1034.93it/s]"
     ]
    },
    {
     "name": "stdout",
     "output_type": "stream",
     "text": [
      "Could not open/read file: ./data/quotes-2008.json.bz2\n",
      "Could not open/read file: ./data/quotes-2009.json.bz2\n",
      "Could not open/read file: ./data/quotes-2010.json.bz2\n",
      "Could not open/read file: ./data/quotes-2011.json.bz2\n",
      "Could not open/read file: ./data/quotes-2012.json.bz2\n",
      "Could not open/read file: ./data/quotes-2013.json.bz2\n",
      "Could not open/read file: ./data/quotes-2014.json.bz2\n",
      "Could not open/read file: ./data/quotes-2015.json.bz2\n",
      "Could not open/read file: ./data/quotes-2016.json.bz2\n",
      "Could not open/read file: ./data/quotes-2017.json.bz2\n",
      "Could not open/read file: ./data/quotes-2018.json.bz2\n",
      "Could not open/read file: ./data/quotes-2019.json.bz2\n"
     ]
    },
    {
     "name": "stderr",
     "output_type": "stream",
     "text": [
      "122351it [02:17, 900.28it/s] "
     ]
    }
   ],
   "source": [
    "start_quotation_classification()"
   ]
  },
  {
   "cell_type": "code",
   "execution_count": null,
   "metadata": {
    "pycharm": {
     "name": "#%%\n"
    },
    "scrolled": true
   },
   "outputs": [],
   "source": [
    "print(quotebank.keywords[0].output_filenames)"
   ]
  },
  {
   "cell_type": "code",
   "execution_count": null,
   "metadata": {},
   "outputs": [],
   "source": [
    "quotebank.get_keyword_by_name('meningitis').output_filenames[0]"
   ]
  }
 ],
 "metadata": {
  "kernelspec": {
   "display_name": "Python 3",
   "language": "python",
   "name": "python3"
  },
  "language_info": {
   "codemirror_mode": {
    "name": "ipython",
    "version": 3
   },
   "file_extension": ".py",
   "mimetype": "text/x-python",
   "name": "python",
   "nbconvert_exporter": "python",
   "pygments_lexer": "ipython3",
   "version": "3.7.6"
  }
 },
 "nbformat": 4,
 "nbformat_minor": 1
}
