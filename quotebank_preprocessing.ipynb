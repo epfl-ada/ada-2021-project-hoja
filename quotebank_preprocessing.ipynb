{
 "cells": [
  {
   "cell_type": "markdown",
   "metadata": {},
   "source": []
  },
  {
   "cell_type": "code",
   "execution_count": 12,
   "metadata": {
    "pycharm": {
     "name": "#%%\n"
    }
   },
   "outputs": [],
   "source": [
    "import os\n",
    "import json\n",
    "import bz2\n",
    "\n",
    "from topic import Topics\n",
    "from tqdm import tqdm"
   ]
  },
  {
   "cell_type": "markdown",
   "metadata": {},
   "source": [
    "Constants"
   ]
  },
  {
   "cell_type": "code",
   "execution_count": 13,
   "metadata": {
    "pycharm": {
     "name": "#%%\n"
    }
   },
   "outputs": [],
   "source": [
    "DATA_PATH = './data/'\n",
    "GENERATED_PATH = './generated/'\n",
    "PATH_TO_QUOTEBANK_2020 = DATA_PATH + \"quotes-2020.json.bz2\" #TODO delete this line"
   ]
  },
  {
   "cell_type": "markdown",
   "metadata": {},
   "source": [
    "Code"
   ]
  },
  {
   "cell_type": "code",
   "execution_count": 14,
   "metadata": {
    "pycharm": {
     "name": "#%%\n"
    }
   },
   "outputs": [],
   "source": [
    "def start_quotation_classification():\n",
    "    quotes_file_list = compose_quotebank_filenames()\n",
    "\n",
    "    for index, filename in enumerate(quotes_file_list):\n",
    "        print(\"Elaborating file: \" + filename)\n",
    "        elaborate_file_for_year(filename)\n",
    "        quotebank.write_matching_quotes_to_file_for_year(index)\n",
    "        quotebank.delete_json_line_for_all_keywords()"
   ]
  },
  {
   "cell_type": "code",
   "execution_count": 15,
   "outputs": [],
   "source": [
    "def elaborate_file_for_year(filename):\n",
    "    try:\n",
    "        with bz2.open(filename, \"rb\") as file:\n",
    "            for i, line in tqdm(enumerate(file)):\n",
    "                if i == 2000: break\n",
    "                quotation = extract_quotation(line)\n",
    "                found_keyword = quotebank.match_quotation_with_any_keyword(quotation)\n",
    "                if found_keyword is not None:\n",
    "                    found_keyword.json_lines.append(line)\n",
    "    except OSError:\n",
    "        print(\"Could not open/read file:\", filename)"
   ],
   "metadata": {
    "collapsed": false,
    "pycharm": {
     "name": "#%%\n"
    }
   }
  },
  {
   "cell_type": "code",
   "execution_count": 16,
   "outputs": [],
   "source": [
    "# TODO put this func inside topic class\n",
    "def create_json_dumps_filenames_for_each_keyword():\n",
    "    years_for_file = get_all_years()\n",
    "\n",
    "    for k in quotebank.keywords:\n",
    "        for year in years_for_file:\n",
    "            directory_for_year = year + \"/\"\n",
    "            relative_path_for_file_for_year = format_filenames_nicely(k.name) + \"-\" + year + \".json.bz2\"\n",
    "            # print(relative_path_for_file_for_year)\n",
    "            k.output_filenames.append(GENERATED_PATH + directory_for_year + relative_path_for_file_for_year)\n",
    "\n",
    "def get_all_years() -> list:\n",
    "    years_for_file = []\n",
    "    for i in range(8,18):\n",
    "        year = create_year_string_from_number(i)\n",
    "        years_for_file.append(year)\n",
    "    return years_for_file\n",
    "\n",
    "def create_directories_for_every_year():\n",
    "    for i in range(8,18):\n",
    "        year = create_year_string_from_number(i)\n",
    "        path = GENERATED_PATH + year + \"/\"\n",
    "\n",
    "        try:\n",
    "            os.mkdir(path)\n",
    "            print(\"Created Directory at: \" + path)\n",
    "        except OSError:\n",
    "            continue\n",
    "\n",
    "# TODO create class Utils\n",
    "def format_filenames_nicely(filename) -> str:\n",
    "    specialChars = \"!#$%^&*()/ \"\n",
    "    for specialChar in specialChars:\n",
    "        filename = filename.replace(specialChar, '_')\n",
    "\n",
    "    filename_without_comma = filename.replace(\",\",\"\")\n",
    "    return filename_without_comma"
   ],
   "metadata": {
    "collapsed": false,
    "pycharm": {
     "name": "#%%\n"
    }
   }
  },
  {
   "cell_type": "code",
   "execution_count": 17,
   "metadata": {
    "pycharm": {
     "name": "#%%\n"
    }
   },
   "outputs": [],
   "source": [
    "def compose_quotebank_filenames() -> list:\n",
    "    quotes_file_list = []\n",
    "    for i in range(8,18):\n",
    "        year = create_year_string_from_number(i)\n",
    "        quotes_file_list.append(DATA_PATH + \"quotes-\" + year + \".json.bz2\")\n",
    "    return quotes_file_list\n",
    "\n",
    "def create_year_string_from_number(number) -> str:\n",
    "    if number < 10:\n",
    "        year = \"200\" + str(number)\n",
    "    else:\n",
    "        year = \"20\" + str(number)\n",
    "    return year"
   ]
  },
  {
   "cell_type": "code",
   "execution_count": 18,
   "metadata": {
    "pycharm": {
     "name": "#%%\n"
    }
   },
   "outputs": [],
   "source": [
    "def extract_quotation(line) -> str:\n",
    "    json_line = json.loads(line)\n",
    "    return json_line['quotation']"
   ]
  },
  {
   "cell_type": "code",
   "execution_count": 19,
   "metadata": {
    "pycharm": {
     "name": "#%%\n"
    }
   },
   "outputs": [
    {
     "name": "stderr",
     "output_type": "stream",
     "text": [
      "190it [00:00, 1898.67it/s]"
     ]
    },
    {
     "name": "stdout",
     "output_type": "stream",
     "text": [
      "Elaborating file: ./data/quotes-2008.json.bz2\n",
      "Could not open/read file: ./data/quotes-2008.json.bz2\n",
      "Elaborating file: ./data/quotes-2009.json.bz2\n",
      "Could not open/read file: ./data/quotes-2009.json.bz2\n",
      "Elaborating file: ./data/quotes-2010.json.bz2\n",
      "Could not open/read file: ./data/quotes-2010.json.bz2\n",
      "Elaborating file: ./data/quotes-2011.json.bz2\n"
     ]
    },
    {
     "name": "stderr",
     "output_type": "stream",
     "text": [
      "2000it [00:00, 3116.37it/s]\n",
      "498it [00:00, 2509.09it/s]"
     ]
    },
    {
     "name": "stdout",
     "output_type": "stream",
     "text": [
      "Elaborating file: ./data/quotes-2012.json.bz2\n"
     ]
    },
    {
     "name": "stderr",
     "output_type": "stream",
     "text": [
      "2000it [00:00, 2862.41it/s]\n",
      "265it [00:00, 2582.37it/s]"
     ]
    },
    {
     "name": "stdout",
     "output_type": "stream",
     "text": [
      "Elaborating file: ./data/quotes-2013.json.bz2\n"
     ]
    },
    {
     "name": "stderr",
     "output_type": "stream",
     "text": [
      "2000it [00:00, 2868.99it/s]\n",
      "208it [00:00, 2079.19it/s]"
     ]
    },
    {
     "name": "stdout",
     "output_type": "stream",
     "text": [
      "Elaborating file: ./data/quotes-2014.json.bz2\n"
     ]
    },
    {
     "name": "stderr",
     "output_type": "stream",
     "text": [
      "2000it [00:00, 2517.98it/s]\n",
      "486it [00:00, 2480.98it/s]"
     ]
    },
    {
     "name": "stdout",
     "output_type": "stream",
     "text": [
      "Elaborating file: ./data/quotes-2015.json.bz2\n"
     ]
    },
    {
     "name": "stderr",
     "output_type": "stream",
     "text": [
      "2000it [00:00, 2598.69it/s]\n",
      "231it [00:00, 2305.02it/s]"
     ]
    },
    {
     "name": "stdout",
     "output_type": "stream",
     "text": [
      "Elaborating file: ./data/quotes-2016.json.bz2\n"
     ]
    },
    {
     "name": "stderr",
     "output_type": "stream",
     "text": [
      "2000it [00:00, 2697.01it/s]\n",
      "236it [00:00, 2318.85it/s]"
     ]
    },
    {
     "name": "stdout",
     "output_type": "stream",
     "text": [
      "Elaborating file: ./data/quotes-2017.json.bz2\n"
     ]
    },
    {
     "name": "stderr",
     "output_type": "stream",
     "text": [
      "2000it [00:00, 2447.45it/s]\n"
     ]
    }
   ],
   "source": [
    "quotebank = Topics(\"Asymmetry of News\", [])\n",
    "quotebank.read_keywords_from_file()\n",
    "create_directories_for_every_year()\n",
    "create_json_dumps_filenames_for_each_keyword()\n",
    "start_quotation_classification()"
   ]
  },
  {
   "cell_type": "code",
   "execution_count": 20,
   "metadata": {
    "pycharm": {
     "name": "#%%\n"
    },
    "scrolled": true
   },
   "outputs": [
    {
     "name": "stdout",
     "output_type": "stream",
     "text": [
      "['./generated/2008/meningitis-2008.json.bz2', './generated/2009/meningitis-2009.json.bz2', './generated/2010/meningitis-2010.json.bz2', './generated/2011/meningitis-2011.json.bz2', './generated/2012/meningitis-2012.json.bz2', './generated/2013/meningitis-2013.json.bz2', './generated/2014/meningitis-2014.json.bz2', './generated/2015/meningitis-2015.json.bz2', './generated/2016/meningitis-2016.json.bz2', './generated/2017/meningitis-2017.json.bz2']\n"
     ]
    }
   ],
   "source": [
    "print(quotebank.keywords[0].output_filenames)"
   ]
  },
  {
   "cell_type": "code",
   "execution_count": 21,
   "metadata": {},
   "outputs": [
    {
     "data": {
      "text/plain": "'./generated/2008/meningitis-2008.json.bz2'"
     },
     "execution_count": 21,
     "metadata": {},
     "output_type": "execute_result"
    }
   ],
   "source": [
    "quotebank.get_keyword_by_name('meningitis').output_filenames[0]"
   ]
  }
 ],
 "metadata": {
  "kernelspec": {
   "display_name": "Python 3",
   "language": "python",
   "name": "python3"
  },
  "language_info": {
   "codemirror_mode": {
    "name": "ipython",
    "version": 3
   },
   "file_extension": ".py",
   "mimetype": "text/x-python",
   "name": "python",
   "nbconvert_exporter": "python",
   "pygments_lexer": "ipython3",
   "version": "3.7.4"
  }
 },
 "nbformat": 4,
 "nbformat_minor": 1
}