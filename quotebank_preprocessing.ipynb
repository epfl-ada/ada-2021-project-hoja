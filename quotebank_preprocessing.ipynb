{
 "cells": [
  {
   "cell_type": "markdown",
   "metadata": {},
   "source": []
  },
  {
   "cell_type": "code",
   "execution_count": null,
   "metadata": {
    "pycharm": {
     "name": "#%%\n",
     "is_executing": true
    }
   },
   "outputs": [],
   "source": [
    "import json\n",
    "import bz2\n",
    "\n",
    "from topic import Topics\n",
    "from tqdm import tqdm"
   ]
  },
  {
   "cell_type": "markdown",
   "metadata": {},
   "source": [
    "Constants"
   ]
  },
  {
   "cell_type": "code",
   "execution_count": 5,
   "metadata": {
    "pycharm": {
     "name": "#%%\n"
    }
   },
   "outputs": [],
   "source": [
    "DATA_PATH = './data/'\n",
    "PATH_TO_QUOTEBANK_2020 = DATA_PATH + \"quotes-2020.json.bz2\""
   ]
  },
  {
   "cell_type": "markdown",
   "metadata": {},
   "source": [
    "Code"
   ]
  },
  {
   "cell_type": "code",
   "execution_count": 6,
   "metadata": {
    "pycharm": {
     "name": "#%%\n"
    }
   },
   "outputs": [],
   "source": [
    "def start_quotation_classification():\n",
    "    quotes_file_list = compose_quotebank_filenames()\n",
    "\n",
    "    for index, filename in enumerate(quotes_file_list):\n",
    "        print(\"Year is: \" + str(2008 + index) + \" Reading: \" + filename)\n",
    "        elaborate_file_for_year(filename, index)\n",
    "        quotebank.write_matching_quotes_to_file()\n",
    "        quotebank.delete_json_line_for_all_keywords()\n",
    "        \n"
   ]
  },
  {
   "cell_type": "code",
   "execution_count": 7,
   "outputs": [],
   "source": [
    "# TODO: clean this function\n",
    "def elaborate_file_for_year(filename, index):\n",
    "    try:\n",
    "        with bz2.open(filename, \"rb\") as file:\n",
    "            for i, line in tqdm(enumerate(file)):\n",
    "                if i == 200: break\n",
    "                quotation = extract_quotation(line)\n",
    "                found_keyword = quotebank.match_quotation_with_any_keyword(quotation)\n",
    "                if found_keyword is not None:\n",
    "                    found_keyword.json_quotes.append(line)\n",
    "    except OSError:\n",
    "        print(\"Could not open/read file:\", filename)"
   ],
   "metadata": {
    "collapsed": false,
    "pycharm": {
     "name": "#%%\n"
    }
   }
  },
  {
   "cell_type": "code",
   "execution_count": 8,
   "outputs": [],
   "source": [
    "# TODO put this func inside topic class\n",
    "def create_json_dumps_filenames_for_each_keyword():\n",
    "    years_for_file = get_all_years()\n",
    "\n",
    "    for k in quotebank.keywords:\n",
    "        for year in years_for_file:\n",
    "            filename_for_year = k.name.replace(\" \", \"_\") + \"-20\" + year + \".json.bz2\"\n",
    "            k.output_filenames.append(filename_for_year)\n",
    "\n",
    "def get_all_years() -> list:\n",
    "    years_for_file = []\n",
    "    for i in range(8,18):\n",
    "        if i < 10:\n",
    "            tmp = \"0\" + str(i)\n",
    "            years_for_file.append(tmp)\n",
    "        else:\n",
    "            tmp = str(i)\n",
    "            years_for_file.append(tmp)\n",
    "    return years_for_file\n"
   ],
   "metadata": {
    "collapsed": false,
    "pycharm": {
     "name": "#%%\n"
    }
   }
  },
  {
   "cell_type": "code",
   "execution_count": 9,
   "metadata": {
    "pycharm": {
     "name": "#%%\n"
    }
   },
   "outputs": [],
   "source": [
    "def compose_quotebank_filenames() -> list:\n",
    "    quotes_file_list = []\n",
    "    for i in range(8,18):\n",
    "        if i < 10:\n",
    "            tmp = \"0\" + str(i)\n",
    "        else:\n",
    "            tmp = str(i)\n",
    "\n",
    "        quotes_file_list.append(\"./data/quotes-20\" + tmp + \".json.bz2\")\n",
    "    return quotes_file_list"
   ]
  },
  {
   "cell_type": "code",
   "execution_count": 10,
   "metadata": {
    "pycharm": {
     "name": "#%%\n"
    }
   },
   "outputs": [],
   "source": [
    "def extract_quotation(line) -> str:\n",
    "    json_line = json.loads(line)\n",
    "    return json_line['quotation']"
   ]
  },
  {
   "cell_type": "code",
   "execution_count": 11,
   "metadata": {
    "pycharm": {
     "name": "#%%\n"
    }
   },
   "outputs": [
    {
     "name": "stderr",
     "output_type": "stream",
     "text": [
      "200it [00:00, 2563.87it/s]\n",
      "200it [00:00, 2824.94it/s]\n",
      "0it [00:00, ?it/s]"
     ]
    },
    {
     "name": "stdout",
     "output_type": "stream",
     "text": [
      "Year is: 2008 Reading: ./data/quotes-2008.json.bz2\n",
      "Could not open/read file: ./data/quotes-2008.json.bz2\n",
      "Year is: 2009 Reading: ./data/quotes-2009.json.bz2\n",
      "Could not open/read file: ./data/quotes-2009.json.bz2\n",
      "Year is: 2010 Reading: ./data/quotes-2010.json.bz2\n",
      "Could not open/read file: ./data/quotes-2010.json.bz2\n",
      "Year is: 2011 Reading: ./data/quotes-2011.json.bz2\n",
      "Year is: 2012 Reading: ./data/quotes-2012.json.bz2\n",
      "Year is: 2013 Reading: ./data/quotes-2013.json.bz2\n"
     ]
    },
    {
     "name": "stderr",
     "output_type": "stream",
     "text": [
      "200it [00:00, 2707.10it/s]\n",
      "200it [00:00, 2922.91it/s]\n",
      "200it [00:00, 2580.61it/s]\n",
      "0it [00:00, ?it/s]"
     ]
    },
    {
     "name": "stdout",
     "output_type": "stream",
     "text": [
      "Year is: 2014 Reading: ./data/quotes-2014.json.bz2\n",
      "Year is: 2015 Reading: ./data/quotes-2015.json.bz2\n",
      "Year is: 2016 Reading: ./data/quotes-2016.json.bz2\n"
     ]
    },
    {
     "name": "stderr",
     "output_type": "stream",
     "text": [
      "200it [00:00, 1921.35it/s]\n",
      "200it [00:00, 2339.10it/s]"
     ]
    },
    {
     "name": "stdout",
     "output_type": "stream",
     "text": [
      "Year is: 2017 Reading: ./data/quotes-2017.json.bz2\n"
     ]
    },
    {
     "name": "stderr",
     "output_type": "stream",
     "text": [
      "\n"
     ]
    }
   ],
   "source": [
    "quotebank = Topics(\"Asymmetry of News\", [])\n",
    "quotebank.read_keywords_from_file()\n",
    "create_json_dumps_filenames_for_each_keyword()\n",
    "start_quotation_classification()\n",
    "\n",
    "\n"
   ]
  },
  {
   "cell_type": "code",
   "execution_count": 12,
   "outputs": [
    {
     "name": "stdout",
     "output_type": "stream",
     "text": [
      "meningitis\n",
      "0\n",
      "lower respiratory infections\n",
      "0\n",
      "intestinal infectious diseases\n",
      "0\n",
      "protein-energy malnutrition\n",
      "0\n",
      "terrorism\n",
      "3\n",
      "cardiovascular diseases\n",
      "2\n",
      "alzheimer disease and other dementias\n",
      "0\n",
      "chronic kidney disease\n",
      "0\n",
      "chronic respiratory diseases\n",
      "0\n",
      "cirrhosis and other chronic liver diseases\n",
      "0\n",
      "digestive diseases\n",
      "0\n",
      "hepatitis\n",
      "0\n",
      "neoplasms\n",
      "0\n",
      "parkinson disease\n",
      "0\n",
      "fire, heat, and hot substances\n",
      "0\n",
      "malaria\n",
      "0\n",
      "drowning\n",
      "0\n",
      "interpersonal violence\n",
      "1\n",
      "hiv/aids\n",
      "1\n",
      "drug use disorders\n",
      "0\n",
      "tuberculosis\n",
      "0\n",
      "road injuries\n",
      "0\n",
      "maternal disorders\n",
      "0\n",
      "neonatal disorders\n",
      "0\n",
      "alcohol use disorders\n",
      "0\n",
      "exposure to forces of nature\n",
      "0\n",
      "diarrheal diseases\n",
      "0\n",
      "environmental heat and cold exposure\n",
      "0\n",
      "nutritional deficiencies\n",
      "0\n",
      "self-harm\n",
      "0\n",
      "conflict and terrorism\n",
      "8\n",
      "diabetes mellitus\n",
      "0\n",
      "poisonings\n",
      "0\n"
     ]
    }
   ],
   "source": [
    "for k in quotebank.keywords:\n",
    "    print(k.name)\n",
    "    print(len(k.json_quotes))\n",
    "    # if k.name == \"malaria\":\n",
    "    #     for kjq in k.json_quotes:\n",
    "    #         json_line = json.loads(kjq)\n",
    "    #         print(\"\\n\\n\" + json_line['quotation'])"
   ],
   "metadata": {
    "collapsed": false,
    "pycharm": {
     "name": "#%%\n"
    }
   }
  },
  {
   "cell_type": "code",
   "execution_count": 13,
   "metadata": {
    "pycharm": {
     "name": "#%%\n"
    },
    "scrolled": true
   },
   "outputs": [
    {
     "name": "stdout",
     "output_type": "stream",
     "text": [
      "['meningitis-2008.json.bz2', 'meningitis-2009.json.bz2', 'meningitis-2010.json.bz2', 'meningitis-2011.json.bz2', 'meningitis-2012.json.bz2', 'meningitis-2013.json.bz2', 'meningitis-2014.json.bz2', 'meningitis-2015.json.bz2', 'meningitis-2016.json.bz2', 'meningitis-2017.json.bz2']\n"
     ]
    }
   ],
   "source": [
    "print(quotebank.keywords[0].output_filenames)"
   ]
  },
  {
   "cell_type": "code",
   "execution_count": 14,
   "metadata": {},
   "outputs": [
    {
     "data": {
      "text/plain": "'meningitis-2008.json.bz2'"
     },
     "execution_count": 14,
     "metadata": {},
     "output_type": "execute_result"
    }
   ],
   "source": [
    "quotebank.get_keyword_by_name('meningitis').output_filenames[0]"
   ]
  }
 ],
 "metadata": {
  "kernelspec": {
   "display_name": "Python 3",
   "language": "python",
   "name": "python3"
  },
  "language_info": {
   "codemirror_mode": {
    "name": "ipython",
    "version": 3
   },
   "file_extension": ".py",
   "mimetype": "text/x-python",
   "name": "python",
   "nbconvert_exporter": "python",
   "pygments_lexer": "ipython3",
   "version": "3.7.4"
  }
 },
 "nbformat": 4,
 "nbformat_minor": 1
}