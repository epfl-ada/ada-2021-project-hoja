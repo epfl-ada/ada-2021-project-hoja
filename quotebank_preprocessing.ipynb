{
 "cells": [
  {
   "cell_type": "markdown",
   "metadata": {},
   "source": []
  },
  {
   "cell_type": "code",
   "execution_count": 1,
   "metadata": {
    "pycharm": {
     "name": "#%%\n"
    }
   },
   "outputs": [],
   "source": [
    "import bz2\n",
    "from quotebank_data import QuotebankData\n",
    "import quotebank_preprocessing_utils as utils\n",
    "from tqdm import tqdm"
   ]
  },
  {
   "cell_type": "markdown",
   "metadata": {},
   "source": [
    "Code"
   ]
  },
  {
   "cell_type": "code",
   "execution_count": 2,
   "metadata": {
    "pycharm": {
     "name": "#%%\n"
    }
   },
   "outputs": [],
   "source": [
    "def quotation_classification():\n",
    "    \"\"\"\n",
    "    Iterate through all quotebank files, stored locally. For each quote inside the file, check which keywords match.\n",
    "    Store the results in the respective output\n",
    "    \"\"\"\n",
    "    quotes_filenames_list = utils.compose_quotebank_filenames()\n",
    "\n",
    "    for index, filename in enumerate(quotes_filenames_list):\n",
    "        print(\"Elaborating file: \" + filename.replace(\"./data/\", \"\"))\n",
    "        quotation_classification_for_file(filename)\n",
    "        quotebank.write_matching_quotes_to_file_for_year(index)\n",
    "        quotebank.delete_json_lines_for_all_keywords()"
   ]
  },
  {
   "cell_type": "code",
   "execution_count": 3,
   "outputs": [],
   "source": [
    "def quotation_classification_for_file(filename):\n",
    "    try:\n",
    "        with bz2.open(filename, \"rb\") as file:\n",
    "            for i, line in tqdm(enumerate(file)):\n",
    "                # if i == 20000: break\n",
    "                quotation = utils.extract_quotation(line)\n",
    "                found_keywords = quotebank.match_quotation_with_any_keyword(quotation)\n",
    "                if len(found_keywords) > 0:\n",
    "                    for found_keyword in found_keywords:\n",
    "                        found_keyword.json_lines.append(line)\n",
    "    except OSError:\n",
    "        print(\"Could not open/read file:\", filename)"
   ],
   "metadata": {
    "collapsed": false,
    "pycharm": {
     "name": "#%%\n"
    }
   }
  },
  {
   "cell_type": "code",
   "execution_count": null,
   "metadata": {
    "pycharm": {
     "name": "#%%\n",
     "is_executing": true
    }
   },
   "outputs": [
    {
     "name": "stderr",
     "output_type": "stream",
     "text": [
      "0it [00:00, ?it/s]"
     ]
    },
    {
     "name": "stdout",
     "output_type": "stream",
     "text": [
      "Elaborating file: quotes-2008.json.bz2\n",
      "Could not open/read file: ./data/quotes-2008.json.bz2\n",
      "Elaborating file: quotes-2009.json.bz2\n",
      "Could not open/read file: ./data/quotes-2009.json.bz2\n",
      "Elaborating file: quotes-2010.json.bz2\n",
      "Could not open/read file: ./data/quotes-2010.json.bz2\n",
      "Elaborating file: quotes-2011.json.bz2\n",
      "Could not open/read file: ./data/quotes-2011.json.bz2\n",
      "Elaborating file: quotes-2012.json.bz2\n",
      "Could not open/read file: ./data/quotes-2012.json.bz2\n",
      "Elaborating file: quotes-2013.json.bz2\n",
      "Could not open/read file: ./data/quotes-2013.json.bz2\n",
      "Elaborating file: quotes-2014.json.bz2\n",
      "Could not open/read file: ./data/quotes-2014.json.bz2\n",
      "Elaborating file: quotes-2015.json.bz2\n",
      "Could not open/read file: ./data/quotes-2015.json.bz2\n",
      "Elaborating file: quotes-2016.json.bz2\n",
      "Could not open/read file: ./data/quotes-2016.json.bz2\n",
      "Elaborating file: quotes-2017.json.bz2\n"
     ]
    },
    {
     "name": "stderr",
     "output_type": "stream",
     "text": [
      "2841562it [09:59, 4434.44it/s]"
     ]
    }
   ],
   "source": [
    "quotebank = QuotebankData(\"Asymmetry of News\", [])\n",
    "quotebank.read_keywords_from_file()\n",
    "utils.create_directories_for_every_year()\n",
    "quotebank.create_json_dumps_filenames_for_each_keyword()\n",
    "quotation_classification()"
   ]
  },
  {
   "cell_type": "code",
   "execution_count": null,
   "outputs": [],
   "source": [
    "for k in quotebank.keywords:\n",
    "    k.print_pretty_json_lines_info()"
   ],
   "metadata": {
    "collapsed": false,
    "pycharm": {
     "name": "#%%\n",
     "is_executing": true
    }
   }
  },
  {
   "cell_type": "code",
   "execution_count": null,
   "metadata": {
    "pycharm": {
     "name": "#%%\n",
     "is_executing": true
    },
    "scrolled": true
   },
   "outputs": [],
   "source": [
    "print(quotebank.keywords[0].output_filenames)"
   ]
  },
  {
   "cell_type": "code",
   "execution_count": null,
   "metadata": {
    "pycharm": {
     "is_executing": true
    }
   },
   "outputs": [],
   "source": [
    "quotebank.get_keyword_by_name('meningitis').output_filenames[0]"
   ]
  }
 ],
 "metadata": {
  "kernelspec": {
   "display_name": "Python 3",
   "language": "python",
   "name": "python3"
  },
  "language_info": {
   "codemirror_mode": {
    "name": "ipython",
    "version": 3
   },
   "file_extension": ".py",
   "mimetype": "text/x-python",
   "name": "python",
   "nbconvert_exporter": "python",
   "pygments_lexer": "ipython3",
   "version": "3.7.4"
  }
 },
 "nbformat": 4,
 "nbformat_minor": 1
}