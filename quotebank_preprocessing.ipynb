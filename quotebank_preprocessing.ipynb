{
 "cells": [
  {
   "cell_type": "markdown",
   "metadata": {},
   "source": []
  },
  {
   "cell_type": "code",
   "execution_count": 12,
   "metadata": {
    "pycharm": {
     "name": "#%%\n"
    }
   },
   "outputs": [],
   "source": [
    "import os\n",
    "import json\n",
    "import bz2\n",
    "\n",
    "from topic import Topics\n",
    "from tqdm import tqdm"
   ]
  },
  {
   "cell_type": "markdown",
   "metadata": {},
   "source": [
    "Constants"
   ]
  },
  {
   "cell_type": "code",
   "execution_count": 13,
   "metadata": {
    "pycharm": {
     "name": "#%%\n"
    }
   },
   "outputs": [],
   "source": [
    "DATA_PATH = './data/'\n",
    "GENERATED_PATH = './generated/'\n",
    "PATH_TO_QUOTEBANK_2020 = DATA_PATH + \"quotes-2020.json.bz2\""
   ]
  },
  {
   "cell_type": "markdown",
   "metadata": {},
   "source": [
    "Code"
   ]
  },
  {
   "cell_type": "code",
   "execution_count": 14,
   "metadata": {
    "pycharm": {
     "name": "#%%\n"
    }
   },
   "outputs": [],
   "source": [
    "def start_quotation_classification():\n",
    "    quotes_file_list = compose_quotebank_filenames()\n",
    "\n",
    "    for index, filename in enumerate(quotes_file_list):\n",
    "        print(\"Year is: \" + str(2008 + index) + \" Reading: \" + filename)\n",
    "        elaborate_file_for_year(filename)\n",
    "        quotebank.write_matching_quotes_to_file_for_year(index)\n",
    "        quotebank.delete_json_line_for_all_keywords()\n",
    "\n"
   ]
  },
  {
   "cell_type": "code",
   "execution_count": 15,
   "outputs": [],
   "source": [
    "# TODO: clean this function\n",
    "def elaborate_file_for_year(filename):\n",
    "    try:\n",
    "        with bz2.open(filename, \"rb\") as file:\n",
    "            for i, line in tqdm(enumerate(file)):\n",
    "                if i == 200: break\n",
    "                quotation = extract_quotation(line)\n",
    "                found_keyword = quotebank.match_quotation_with_any_keyword(quotation)\n",
    "                if found_keyword is not None:\n",
    "                    found_keyword.json_lines.append(line)\n",
    "    except OSError:\n",
    "        print(\"Could not open/read file:\", filename)"
   ],
   "metadata": {
    "collapsed": false,
    "pycharm": {
     "name": "#%%\n"
    }
   }
  },
  {
   "cell_type": "code",
   "execution_count": 16,
   "outputs": [],
   "source": [
    "# TODO put this func inside topic class\n",
    "def create_json_dumps_filenames_for_each_keyword():\n",
    "    years_for_file = get_all_years()\n",
    "\n",
    "    for k in quotebank.keywords:\n",
    "        for year in years_for_file:\n",
    "            directory_for_year = year + \"/\"\n",
    "            relative_path_for_file_for_year = format_filenames_nicely(k.name) + \"-\" + year + \".json.bz2\"\n",
    "            # print(relative_path_for_file_for_year)\n",
    "            k.output_filenames.append(GENERATED_PATH + directory_for_year + relative_path_for_file_for_year)\n",
    "\n",
    "# TODO make fucntions for i < 10 etc\n",
    "def get_all_years() -> list:\n",
    "    years_for_file = []\n",
    "    for i in range(8,18):\n",
    "        if i < 10:\n",
    "            tmp = \"200\" + str(i)\n",
    "            years_for_file.append(tmp)\n",
    "        else:\n",
    "            tmp = \"20\" + str(i)\n",
    "            years_for_file.append(tmp)\n",
    "    return years_for_file\n",
    "\n",
    "def create_directories_for_every_year():\n",
    "    for i in range(8,18):\n",
    "        if i < 10:\n",
    "            tmp = \"0\" + str(i)\n",
    "        else:\n",
    "            tmp = str(i)\n",
    "\n",
    "\n",
    "        path = GENERATED_PATH + \"20\" + tmp + \"/\"\n",
    "\n",
    "        try:\n",
    "            os.mkdir(path)\n",
    "            print(\"Created Directory at: \" + path)\n",
    "        except OSError:\n",
    "            continue\n",
    "\n",
    "# TODO create class Utils\n",
    "def format_filenames_nicely(filename) -> str:\n",
    "    specialChars = \"!#$%^&*()/ \"\n",
    "    for specialChar in specialChars:\n",
    "        filename = filename.replace(specialChar, '_')\n",
    "\n",
    "    filename_without_comma = filename.replace(\",\",\"\")\n",
    "    print(\"new filename is: \" + filename_without_comma)\n",
    "    return filename_without_comma"
   ],
   "metadata": {
    "collapsed": false,
    "pycharm": {
     "name": "#%%\n"
    }
   }
  },
  {
   "cell_type": "code",
   "execution_count": 17,
   "metadata": {
    "pycharm": {
     "name": "#%%\n"
    }
   },
   "outputs": [],
   "source": [
    "def compose_quotebank_filenames() -> list:\n",
    "    quotes_file_list = []\n",
    "    for i in range(8,18):\n",
    "        if i < 10:\n",
    "            tmp = \"0\" + str(i)\n",
    "        else:\n",
    "            tmp = str(i)\n",
    "\n",
    "        quotes_file_list.append(\"./data/quotes-20\" + tmp + \".json.bz2\")\n",
    "    return quotes_file_list"
   ]
  },
  {
   "cell_type": "code",
   "execution_count": 18,
   "metadata": {
    "pycharm": {
     "name": "#%%\n"
    }
   },
   "outputs": [],
   "source": [
    "def extract_quotation(line) -> str:\n",
    "    json_line = json.loads(line)\n",
    "    return json_line['quotation']"
   ]
  },
  {
   "cell_type": "code",
   "execution_count": 19,
   "metadata": {
    "pycharm": {
     "name": "#%%\n"
    }
   },
   "outputs": [
    {
     "name": "stderr",
     "output_type": "stream",
     "text": [
      "200it [00:00, 2563.15it/s]\n",
      "200it [00:00, 3263.01it/s]"
     ]
    },
    {
     "name": "stdout",
     "output_type": "stream",
     "text": [
      "new filename is: meningitis\n",
      "new filename is: meningitis\n",
      "new filename is: meningitis\n",
      "new filename is: meningitis\n",
      "new filename is: meningitis\n",
      "new filename is: meningitis\n",
      "new filename is: meningitis\n",
      "new filename is: meningitis\n",
      "new filename is: meningitis\n",
      "new filename is: meningitis\n",
      "new filename is: lower_respiratory_infections\n",
      "new filename is: lower_respiratory_infections\n",
      "new filename is: lower_respiratory_infections\n",
      "new filename is: lower_respiratory_infections\n",
      "new filename is: lower_respiratory_infections\n",
      "new filename is: lower_respiratory_infections\n",
      "new filename is: lower_respiratory_infections\n",
      "new filename is: lower_respiratory_infections\n",
      "new filename is: lower_respiratory_infections\n",
      "new filename is: lower_respiratory_infections\n",
      "new filename is: intestinal_infectious_diseases\n",
      "new filename is: intestinal_infectious_diseases\n",
      "new filename is: intestinal_infectious_diseases\n",
      "new filename is: intestinal_infectious_diseases\n",
      "new filename is: intestinal_infectious_diseases\n",
      "new filename is: intestinal_infectious_diseases\n",
      "new filename is: intestinal_infectious_diseases\n",
      "new filename is: intestinal_infectious_diseases\n",
      "new filename is: intestinal_infectious_diseases\n",
      "new filename is: intestinal_infectious_diseases\n",
      "new filename is: protein-energy_malnutrition\n",
      "new filename is: protein-energy_malnutrition\n",
      "new filename is: protein-energy_malnutrition\n",
      "new filename is: protein-energy_malnutrition\n",
      "new filename is: protein-energy_malnutrition\n",
      "new filename is: protein-energy_malnutrition\n",
      "new filename is: protein-energy_malnutrition\n",
      "new filename is: protein-energy_malnutrition\n",
      "new filename is: protein-energy_malnutrition\n",
      "new filename is: protein-energy_malnutrition\n",
      "new filename is: terrorism\n",
      "new filename is: terrorism\n",
      "new filename is: terrorism\n",
      "new filename is: terrorism\n",
      "new filename is: terrorism\n",
      "new filename is: terrorism\n",
      "new filename is: terrorism\n",
      "new filename is: terrorism\n",
      "new filename is: terrorism\n",
      "new filename is: terrorism\n",
      "new filename is: cardiovascular_diseases\n",
      "new filename is: cardiovascular_diseases\n",
      "new filename is: cardiovascular_diseases\n",
      "new filename is: cardiovascular_diseases\n",
      "new filename is: cardiovascular_diseases\n",
      "new filename is: cardiovascular_diseases\n",
      "new filename is: cardiovascular_diseases\n",
      "new filename is: cardiovascular_diseases\n",
      "new filename is: cardiovascular_diseases\n",
      "new filename is: cardiovascular_diseases\n",
      "new filename is: alzheimer_disease_and_other_dementias\n",
      "new filename is: alzheimer_disease_and_other_dementias\n",
      "new filename is: alzheimer_disease_and_other_dementias\n",
      "new filename is: alzheimer_disease_and_other_dementias\n",
      "new filename is: alzheimer_disease_and_other_dementias\n",
      "new filename is: alzheimer_disease_and_other_dementias\n",
      "new filename is: alzheimer_disease_and_other_dementias\n",
      "new filename is: alzheimer_disease_and_other_dementias\n",
      "new filename is: alzheimer_disease_and_other_dementias\n",
      "new filename is: alzheimer_disease_and_other_dementias\n",
      "new filename is: chronic_kidney_disease\n",
      "new filename is: chronic_kidney_disease\n",
      "new filename is: chronic_kidney_disease\n",
      "new filename is: chronic_kidney_disease\n",
      "new filename is: chronic_kidney_disease\n",
      "new filename is: chronic_kidney_disease\n",
      "new filename is: chronic_kidney_disease\n",
      "new filename is: chronic_kidney_disease\n",
      "new filename is: chronic_kidney_disease\n",
      "new filename is: chronic_kidney_disease\n",
      "new filename is: chronic_respiratory_diseases\n",
      "new filename is: chronic_respiratory_diseases\n",
      "new filename is: chronic_respiratory_diseases\n",
      "new filename is: chronic_respiratory_diseases\n",
      "new filename is: chronic_respiratory_diseases\n",
      "new filename is: chronic_respiratory_diseases\n",
      "new filename is: chronic_respiratory_diseases\n",
      "new filename is: chronic_respiratory_diseases\n",
      "new filename is: chronic_respiratory_diseases\n",
      "new filename is: chronic_respiratory_diseases\n",
      "new filename is: cirrhosis_and_other_chronic_liver_diseases\n",
      "new filename is: cirrhosis_and_other_chronic_liver_diseases\n",
      "new filename is: cirrhosis_and_other_chronic_liver_diseases\n",
      "new filename is: cirrhosis_and_other_chronic_liver_diseases\n",
      "new filename is: cirrhosis_and_other_chronic_liver_diseases\n",
      "new filename is: cirrhosis_and_other_chronic_liver_diseases\n",
      "new filename is: cirrhosis_and_other_chronic_liver_diseases\n",
      "new filename is: cirrhosis_and_other_chronic_liver_diseases\n",
      "new filename is: cirrhosis_and_other_chronic_liver_diseases\n",
      "new filename is: cirrhosis_and_other_chronic_liver_diseases\n",
      "new filename is: digestive_diseases\n",
      "new filename is: digestive_diseases\n",
      "new filename is: digestive_diseases\n",
      "new filename is: digestive_diseases\n",
      "new filename is: digestive_diseases\n",
      "new filename is: digestive_diseases\n",
      "new filename is: digestive_diseases\n",
      "new filename is: digestive_diseases\n",
      "new filename is: digestive_diseases\n",
      "new filename is: digestive_diseases\n",
      "new filename is: hepatitis\n",
      "new filename is: hepatitis\n",
      "new filename is: hepatitis\n",
      "new filename is: hepatitis\n",
      "new filename is: hepatitis\n",
      "new filename is: hepatitis\n",
      "new filename is: hepatitis\n",
      "new filename is: hepatitis\n",
      "new filename is: hepatitis\n",
      "new filename is: hepatitis\n",
      "new filename is: neoplasms\n",
      "new filename is: neoplasms\n",
      "new filename is: neoplasms\n",
      "new filename is: neoplasms\n",
      "new filename is: neoplasms\n",
      "new filename is: neoplasms\n",
      "new filename is: neoplasms\n",
      "new filename is: neoplasms\n",
      "new filename is: neoplasms\n",
      "new filename is: neoplasms\n",
      "new filename is: parkinson_disease\n",
      "new filename is: parkinson_disease\n",
      "new filename is: parkinson_disease\n",
      "new filename is: parkinson_disease\n",
      "new filename is: parkinson_disease\n",
      "new filename is: parkinson_disease\n",
      "new filename is: parkinson_disease\n",
      "new filename is: parkinson_disease\n",
      "new filename is: parkinson_disease\n",
      "new filename is: parkinson_disease\n",
      "new filename is: fire_heat_and_hot_substances\n",
      "new filename is: fire_heat_and_hot_substances\n",
      "new filename is: fire_heat_and_hot_substances\n",
      "new filename is: fire_heat_and_hot_substances\n",
      "new filename is: fire_heat_and_hot_substances\n",
      "new filename is: fire_heat_and_hot_substances\n",
      "new filename is: fire_heat_and_hot_substances\n",
      "new filename is: fire_heat_and_hot_substances\n",
      "new filename is: fire_heat_and_hot_substances\n",
      "new filename is: fire_heat_and_hot_substances\n",
      "new filename is: malaria\n",
      "new filename is: malaria\n",
      "new filename is: malaria\n",
      "new filename is: malaria\n",
      "new filename is: malaria\n",
      "new filename is: malaria\n",
      "new filename is: malaria\n",
      "new filename is: malaria\n",
      "new filename is: malaria\n",
      "new filename is: malaria\n",
      "new filename is: drowning\n",
      "new filename is: drowning\n",
      "new filename is: drowning\n",
      "new filename is: drowning\n",
      "new filename is: drowning\n",
      "new filename is: drowning\n",
      "new filename is: drowning\n",
      "new filename is: drowning\n",
      "new filename is: drowning\n",
      "new filename is: drowning\n",
      "new filename is: interpersonal_violence\n",
      "new filename is: interpersonal_violence\n",
      "new filename is: interpersonal_violence\n",
      "new filename is: interpersonal_violence\n",
      "new filename is: interpersonal_violence\n",
      "new filename is: interpersonal_violence\n",
      "new filename is: interpersonal_violence\n",
      "new filename is: interpersonal_violence\n",
      "new filename is: interpersonal_violence\n",
      "new filename is: interpersonal_violence\n",
      "new filename is: hiv_aids\n",
      "new filename is: hiv_aids\n",
      "new filename is: hiv_aids\n",
      "new filename is: hiv_aids\n",
      "new filename is: hiv_aids\n",
      "new filename is: hiv_aids\n",
      "new filename is: hiv_aids\n",
      "new filename is: hiv_aids\n",
      "new filename is: hiv_aids\n",
      "new filename is: hiv_aids\n",
      "new filename is: drug_use_disorders\n",
      "new filename is: drug_use_disorders\n",
      "new filename is: drug_use_disorders\n",
      "new filename is: drug_use_disorders\n",
      "new filename is: drug_use_disorders\n",
      "new filename is: drug_use_disorders\n",
      "new filename is: drug_use_disorders\n",
      "new filename is: drug_use_disorders\n",
      "new filename is: drug_use_disorders\n",
      "new filename is: drug_use_disorders\n",
      "new filename is: tuberculosis\n",
      "new filename is: tuberculosis\n",
      "new filename is: tuberculosis\n",
      "new filename is: tuberculosis\n",
      "new filename is: tuberculosis\n",
      "new filename is: tuberculosis\n",
      "new filename is: tuberculosis\n",
      "new filename is: tuberculosis\n",
      "new filename is: tuberculosis\n",
      "new filename is: tuberculosis\n",
      "new filename is: road_injuries\n",
      "new filename is: road_injuries\n",
      "new filename is: road_injuries\n",
      "new filename is: road_injuries\n",
      "new filename is: road_injuries\n",
      "new filename is: road_injuries\n",
      "new filename is: road_injuries\n",
      "new filename is: road_injuries\n",
      "new filename is: road_injuries\n",
      "new filename is: road_injuries\n",
      "new filename is: maternal_disorders\n",
      "new filename is: maternal_disorders\n",
      "new filename is: maternal_disorders\n",
      "new filename is: maternal_disorders\n",
      "new filename is: maternal_disorders\n",
      "new filename is: maternal_disorders\n",
      "new filename is: maternal_disorders\n",
      "new filename is: maternal_disorders\n",
      "new filename is: maternal_disorders\n",
      "new filename is: maternal_disorders\n",
      "new filename is: neonatal_disorders\n",
      "new filename is: neonatal_disorders\n",
      "new filename is: neonatal_disorders\n",
      "new filename is: neonatal_disorders\n",
      "new filename is: neonatal_disorders\n",
      "new filename is: neonatal_disorders\n",
      "new filename is: neonatal_disorders\n",
      "new filename is: neonatal_disorders\n",
      "new filename is: neonatal_disorders\n",
      "new filename is: neonatal_disorders\n",
      "new filename is: alcohol_use_disorders\n",
      "new filename is: alcohol_use_disorders\n",
      "new filename is: alcohol_use_disorders\n",
      "new filename is: alcohol_use_disorders\n",
      "new filename is: alcohol_use_disorders\n",
      "new filename is: alcohol_use_disorders\n",
      "new filename is: alcohol_use_disorders\n",
      "new filename is: alcohol_use_disorders\n",
      "new filename is: alcohol_use_disorders\n",
      "new filename is: alcohol_use_disorders\n",
      "new filename is: exposure_to_forces_of_nature\n",
      "new filename is: exposure_to_forces_of_nature\n",
      "new filename is: exposure_to_forces_of_nature\n",
      "new filename is: exposure_to_forces_of_nature\n",
      "new filename is: exposure_to_forces_of_nature\n",
      "new filename is: exposure_to_forces_of_nature\n",
      "new filename is: exposure_to_forces_of_nature\n",
      "new filename is: exposure_to_forces_of_nature\n",
      "new filename is: exposure_to_forces_of_nature\n",
      "new filename is: exposure_to_forces_of_nature\n",
      "new filename is: diarrheal_diseases\n",
      "new filename is: diarrheal_diseases\n",
      "new filename is: diarrheal_diseases\n",
      "new filename is: diarrheal_diseases\n",
      "new filename is: diarrheal_diseases\n",
      "new filename is: diarrheal_diseases\n",
      "new filename is: diarrheal_diseases\n",
      "new filename is: diarrheal_diseases\n",
      "new filename is: diarrheal_diseases\n",
      "new filename is: diarrheal_diseases\n",
      "new filename is: environmental_heat_and_cold_exposure\n",
      "new filename is: environmental_heat_and_cold_exposure\n",
      "new filename is: environmental_heat_and_cold_exposure\n",
      "new filename is: environmental_heat_and_cold_exposure\n",
      "new filename is: environmental_heat_and_cold_exposure\n",
      "new filename is: environmental_heat_and_cold_exposure\n",
      "new filename is: environmental_heat_and_cold_exposure\n",
      "new filename is: environmental_heat_and_cold_exposure\n",
      "new filename is: environmental_heat_and_cold_exposure\n",
      "new filename is: environmental_heat_and_cold_exposure\n",
      "new filename is: nutritional_deficiencies\n",
      "new filename is: nutritional_deficiencies\n",
      "new filename is: nutritional_deficiencies\n",
      "new filename is: nutritional_deficiencies\n",
      "new filename is: nutritional_deficiencies\n",
      "new filename is: nutritional_deficiencies\n",
      "new filename is: nutritional_deficiencies\n",
      "new filename is: nutritional_deficiencies\n",
      "new filename is: nutritional_deficiencies\n",
      "new filename is: nutritional_deficiencies\n",
      "new filename is: self-harm\n",
      "new filename is: self-harm\n",
      "new filename is: self-harm\n",
      "new filename is: self-harm\n",
      "new filename is: self-harm\n",
      "new filename is: self-harm\n",
      "new filename is: self-harm\n",
      "new filename is: self-harm\n",
      "new filename is: self-harm\n",
      "new filename is: self-harm\n",
      "new filename is: conflict_and_terrorism\n",
      "new filename is: conflict_and_terrorism\n",
      "new filename is: conflict_and_terrorism\n",
      "new filename is: conflict_and_terrorism\n",
      "new filename is: conflict_and_terrorism\n",
      "new filename is: conflict_and_terrorism\n",
      "new filename is: conflict_and_terrorism\n",
      "new filename is: conflict_and_terrorism\n",
      "new filename is: conflict_and_terrorism\n",
      "new filename is: conflict_and_terrorism\n",
      "new filename is: diabetes_mellitus\n",
      "new filename is: diabetes_mellitus\n",
      "new filename is: diabetes_mellitus\n",
      "new filename is: diabetes_mellitus\n",
      "new filename is: diabetes_mellitus\n",
      "new filename is: diabetes_mellitus\n",
      "new filename is: diabetes_mellitus\n",
      "new filename is: diabetes_mellitus\n",
      "new filename is: diabetes_mellitus\n",
      "new filename is: diabetes_mellitus\n",
      "new filename is: poisonings\n",
      "new filename is: poisonings\n",
      "new filename is: poisonings\n",
      "new filename is: poisonings\n",
      "new filename is: poisonings\n",
      "new filename is: poisonings\n",
      "new filename is: poisonings\n",
      "new filename is: poisonings\n",
      "new filename is: poisonings\n",
      "new filename is: poisonings\n",
      "Year is: 2008 Reading: ./data/quotes-2008.json.bz2\n",
      "Could not open/read file: ./data/quotes-2008.json.bz2\n",
      "Year is: 2009 Reading: ./data/quotes-2009.json.bz2\n",
      "Could not open/read file: ./data/quotes-2009.json.bz2\n",
      "Year is: 2010 Reading: ./data/quotes-2010.json.bz2\n",
      "Could not open/read file: ./data/quotes-2010.json.bz2\n",
      "Year is: 2011 Reading: ./data/quotes-2011.json.bz2\n",
      "Year is: 2012 Reading: ./data/quotes-2012.json.bz2\n"
     ]
    },
    {
     "name": "stderr",
     "output_type": "stream",
     "text": [
      "\n",
      "200it [00:00, 2896.33it/s]\n",
      "200it [00:00, 3017.73it/s]\n",
      "0it [00:00, ?it/s]"
     ]
    },
    {
     "name": "stdout",
     "output_type": "stream",
     "text": [
      "Year is: 2013 Reading: ./data/quotes-2013.json.bz2\n",
      "Year is: 2014 Reading: ./data/quotes-2014.json.bz2\n",
      "Year is: 2015 Reading: ./data/quotes-2015.json.bz2\n"
     ]
    },
    {
     "name": "stderr",
     "output_type": "stream",
     "text": [
      "200it [00:00, 2831.77it/s]\n",
      "200it [00:00, 2934.66it/s]\n",
      "200it [00:00, 2696.69it/s]"
     ]
    },
    {
     "name": "stdout",
     "output_type": "stream",
     "text": [
      "Year is: 2016 Reading: ./data/quotes-2016.json.bz2\n",
      "Year is: 2017 Reading: ./data/quotes-2017.json.bz2\n"
     ]
    },
    {
     "name": "stderr",
     "output_type": "stream",
     "text": [
      "\n"
     ]
    }
   ],
   "source": [
    "quotebank = Topics(\"Asymmetry of News\", [])\n",
    "quotebank.read_keywords_from_file()\n",
    "create_directories_for_every_year()\n",
    "create_json_dumps_filenames_for_each_keyword()\n",
    "start_quotation_classification()\n",
    "\n",
    "\n"
   ]
  },
  {
   "cell_type": "code",
   "execution_count": 20,
   "outputs": [
    {
     "name": "stdout",
     "output_type": "stream",
     "text": [
      "meningitis\n",
      "0\n",
      "lower respiratory infections\n",
      "0\n",
      "intestinal infectious diseases\n",
      "0\n",
      "protein-energy malnutrition\n",
      "0\n",
      "terrorism\n",
      "0\n",
      "cardiovascular diseases\n",
      "0\n",
      "alzheimer disease and other dementias\n",
      "0\n",
      "chronic kidney disease\n",
      "0\n",
      "chronic respiratory diseases\n",
      "0\n",
      "cirrhosis and other chronic liver diseases\n",
      "0\n",
      "digestive diseases\n",
      "0\n",
      "hepatitis\n",
      "0\n",
      "neoplasms\n",
      "0\n",
      "parkinson disease\n",
      "0\n",
      "fire, heat, and hot substances\n",
      "0\n",
      "malaria\n",
      "0\n",
      "drowning\n",
      "0\n",
      "interpersonal violence\n",
      "0\n",
      "hiv/aids\n",
      "0\n",
      "drug use disorders\n",
      "0\n",
      "tuberculosis\n",
      "0\n",
      "road injuries\n",
      "0\n",
      "maternal disorders\n",
      "0\n",
      "neonatal disorders\n",
      "0\n",
      "alcohol use disorders\n",
      "0\n",
      "exposure to forces of nature\n",
      "0\n",
      "diarrheal diseases\n",
      "0\n",
      "environmental heat and cold exposure\n",
      "0\n",
      "nutritional deficiencies\n",
      "0\n",
      "self-harm\n",
      "0\n",
      "conflict and terrorism\n",
      "0\n",
      "diabetes mellitus\n",
      "0\n",
      "poisonings\n",
      "0\n"
     ]
    }
   ],
   "source": [
    "for k in quotebank.keywords:\n",
    "    print(k.name)\n",
    "    print(len(k.json_lines))\n",
    "    # if k.name == \"malaria\":\n",
    "    #     for kjq in k.json_quotes:\n",
    "    #         json_line = json.loads(kjq)\n",
    "    #         print(\"\\n\\n\" + json_line['quotation'])"
   ],
   "metadata": {
    "collapsed": false,
    "pycharm": {
     "name": "#%%\n"
    }
   }
  },
  {
   "cell_type": "code",
   "execution_count": 21,
   "metadata": {
    "pycharm": {
     "name": "#%%\n"
    },
    "scrolled": true
   },
   "outputs": [
    {
     "name": "stdout",
     "output_type": "stream",
     "text": [
      "['./generated/2008/meningitis-2008.json.bz2', './generated/2009/meningitis-2009.json.bz2', './generated/2010/meningitis-2010.json.bz2', './generated/2011/meningitis-2011.json.bz2', './generated/2012/meningitis-2012.json.bz2', './generated/2013/meningitis-2013.json.bz2', './generated/2014/meningitis-2014.json.bz2', './generated/2015/meningitis-2015.json.bz2', './generated/2016/meningitis-2016.json.bz2', './generated/2017/meningitis-2017.json.bz2']\n"
     ]
    }
   ],
   "source": [
    "print(quotebank.keywords[0].output_filenames)"
   ]
  },
  {
   "cell_type": "code",
   "execution_count": 22,
   "metadata": {},
   "outputs": [
    {
     "data": {
      "text/plain": "'./generated/2008/meningitis-2008.json.bz2'"
     },
     "execution_count": 22,
     "metadata": {},
     "output_type": "execute_result"
    }
   ],
   "source": [
    "quotebank.get_keyword_by_name('meningitis').output_filenames[0]"
   ]
  }
 ],
 "metadata": {
  "kernelspec": {
   "display_name": "Python 3",
   "language": "python",
   "name": "python3"
  },
  "language_info": {
   "codemirror_mode": {
    "name": "ipython",
    "version": 3
   },
   "file_extension": ".py",
   "mimetype": "text/x-python",
   "name": "python",
   "nbconvert_exporter": "python",
   "pygments_lexer": "ipython3",
   "version": "3.7.4"
  }
 },
 "nbformat": 4,
 "nbformat_minor": 1
}