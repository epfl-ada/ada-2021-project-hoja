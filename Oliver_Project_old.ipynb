{
  "cells": [
    {
      "cell_type": "code",
      "execution_count": null,
      "metadata": {
        "colab": {
          "base_uri": "https://localhost:8080/"
        },
        "id": "of6RY43hMmFb",
        "outputId": "da1676d9-49c0-4ef8-b50a-d3e5f39253f3"
      },
      "outputs": [
        {
          "name": "stdout",
          "output_type": "stream",
          "text": [
            "Drive already mounted at /content/drive; to attempt to forcibly remount, call drive.mount(\"/content/drive\", force_remount=True).\n"
          ]
        }
      ],
      "source": [
        "# IMPORTS\n",
        "import numpy as np\n",
        "import json\n",
        "import pandas as pd\n",
        "import time\n",
        "import bz2"
      ]
    },
    {
      "cell_type": "markdown",
      "metadata": {
        "id": "9Ua305IKdRSm"
      },
      "source": [
        "Functions that extracts the type of quote based on keywords"
      ]
    },
    {
      "cell_type": "code",
      "execution_count": null,
      "metadata": {
        "id": "Sdvcl2KHn8Oy"
      },
      "outputs": [],
      "source": [
        "'''\n",
        "Issues:\n",
        "\n",
        "Terrorism\n",
        "Cardiovascular diseases\n",
        "Cancers\n",
        "Diarrheal diseases\n",
        "Diabetes \n",
        "'''\n",
        "\n",
        "def get_quote_type(quotation):\n",
        "    \n",
        "    # Which keywords? Which subjects??\n",
        "    terrorism_keywords = [\"terror attack\", \"ISIS\", \"Al Qaeda\"]\n",
        "    cardiovascular_keywords = [\"cardiovascular\"] \n",
        "    cancer_keywords = [\"cancer\", \"lung cancer\"] \n",
        "    diarrhea_keywords = \"diarrhea\"\n",
        "    diabetes_keywords = \"diabetes\"\n",
        "\n",
        "    # Assuming no quote can belong to multiple categories:\n",
        "    if any(x in quotation for x in terrorism_keywords):\n",
        "      return \"terrorism_quote\"\n",
        "    \n",
        "    if any(x in quotation for x in cardiovascular_keywords):\n",
        "      return \"cardiovascular_quote\"\n",
        "    \n",
        "    if any(x in quotation for x in cancer_keywords):\n",
        "      return \"cancer_quote\"\n",
        "    \n",
        "    if any(x in quotation for x in diarrhea_keywords):\n",
        "      return \"diarrhea_quote\"\n",
        "\n",
        "    if any(x in quotation for x in diabetes_keywords):\n",
        "      return \"diabetes_quote\"\n",
        "    \n",
        "    else:\n",
        "      return False\n"
      ]
    },
    {
      "cell_type": "code",
      "execution_count": null,
      "metadata": {
        "colab": {
          "base_uri": "https://localhost:8080/",
          "height": 35
        },
        "id": "2M8oxxHbLhTp",
        "outputId": "fd3b0342-7d34-4d4f-b140-ad32b579ffce"
      },
      "outputs": [
        {
          "data": {
            "application/vnd.google.colaboratory.intrinsic+json": {
              "type": "string"
            },
            "text/plain": [
              "'cancer_quote'"
            ]
          },
          "execution_count": 44,
          "metadata": {},
          "output_type": "execute_result"
        }
      ],
      "source": [
        "# Test that functions work\n",
        "\n",
        "phrase_climate = \"hejsan hoppsan climate\"\n",
        "phrase_not_climate = \"hejsan hoppsan\"\n",
        "phrase_CO2 = \"hejsan hoppsan cancer \"\n",
        "get_quote_type(phrase_CO2)\n"
      ]
    },
    {
      "cell_type": "markdown",
      "metadata": {
        "id": "5dya_Ry0dERh"
      },
      "source": [
        "Here we loop through the entire dataset, extracting the quotes and dumping them to different files according to their subject."
      ]
    },
    {
      "cell_type": "code",
      "execution_count": null,
      "metadata": {
        "id": "b_pNqxi8T_5o"
      },
      "outputs": [],
      "source": [
        "# Loop through 2020 Dataset to get all types of quotes\n",
        "\n",
        "path_to_2020_file = '/content/drive/MyDrive/ADA_HOJA/Quotebank/quotes-2020.json.bz2' \n",
        "path_to_2019_file = '/content/drive/MyDrive/ADA_HOJA/Quotebank/quotes-2019.json.bz2' \n",
        "path_to_2018_file = '/content/drive/MyDrive/ADA_HOJA/Quotebank/quotes-2018.json.bz2' \n",
        "path_to_2017_file = '/content/drive/MyDrive/ADA_HOJA/Quotebank/quotes-2017.json.bz2' \n",
        "\n",
        "terrorism_2020_path_to_out = '/content/quotes-2020-terrorism.json.bz2'\n",
        "terrorism_2019_path_to_out = '/content/quotes-2019-terrorism.json.bz2'\n",
        "terrorism_2018_path_to_out = '/content/quotes-2018-terrorism.json.bz2'\n",
        "terrorism_2017_path_to_out = '/content/quotes-2017-terrorism.json.bz2'\n",
        "no_terrorism_2020 = 0\n",
        "no_terrorism_2019 = 0\n",
        "no_terrorism_2018 = 0\n",
        "no_terrorism_2017 = 0\n",
        "\n",
        "cardiovascular_2020_path_to_out = '/content/quotes-2020-cardiovascular.json.bz2'\n",
        "cardiovascular_2019_path_to_out = '/content/quotes-2019-cardiovascular.json.bz2'\n",
        "cardiovascular_2018_path_to_out = '/content/quotes-2018-cardiovascular.json.bz2'\n",
        "cardiovascular_2017_path_to_out = '/content/quotes-2017-cardiovascular.json.bz2'\n",
        "no_cardiovascular_2020 = 0\n",
        "no_cardiovascular_2019 = 0\n",
        "no_cardiovascular_2018 = 0\n",
        "no_cardiovascular_2017 = 0"
      ]
    },
    {
      "cell_type": "code",
      "execution_count": null,
      "metadata": {
        "id": "qr5bhQxbkJmA"
      },
      "outputs": [],
      "source": [
        "# Loop 2020\n",
        "\n",
        "iteration_2020 = 0\n",
        "start_time_2020 = time.time()\n",
        "\n",
        "with bz2.open(path_to_2020_file, 'rb') as s_file:\n",
        "    with bz2.open(cardiovascular_2020_path_to_out, 'wb') as c_file, bz2.open(terrorism_2020_path_to_out, 'wb') as t_file :  #### <--- Write more compact?\n",
        "\n",
        "        for instance in s_file:\n",
        "          iteration_2020 += 1\n",
        "          if iteration_2020 % 1000000 == 0:\n",
        "            print('iteration : ' + str(iteration_2020))\n",
        "\n",
        "          instance = json.loads(instance) # loading a sample\n",
        "          quotation = instance['quotation'] # extracting the quote\n",
        "\n",
        "          phrase_type = get_quote_type(quotation)\n",
        "\n",
        "          if phrase_type == \"terrorism_quote\":\n",
        "            no_terrorism_2020 += 1\n",
        "            instance['quotation'] = quotation\n",
        "            t_file.write((json.dumps(instance)+'\\n').encode('utf-8')) # writing in the new file\n",
        "\n",
        "          if phrase_type == \"cardiovascular_quote\":\n",
        "            no_cardiovascular_2020 += 1\n",
        "            instance['quotation'] = quotation\n",
        "            c_file.write((json.dumps(instance)+'\\n').encode('utf-8')) # writing in the new file\n",
        "\n",
        "          # If only looping through a few: \n",
        "          if iteration_2020 >= 100000:\n",
        "            break\n",
        "\n",
        "elapsed_time_2020 = time.time()"
      ]
    },
    {
      "cell_type": "code",
      "execution_count": null,
      "metadata": {
        "colab": {
          "base_uri": "https://localhost:8080/",
          "height": 188
        },
        "id": "GIY2--r4j75R",
        "outputId": "51508bd6-b447-4839-a18a-7fb503d19449"
      },
      "outputs": [
        {
          "name": "stdout",
          "output_type": "stream",
          "text": [
            "Time to loop through entire 2020 dataset: \n",
            "5.682855129241943\n",
            "Number of quotes 2020 dataset: \n",
            "100000\n",
            "Number of cardiovascular quotes 2020 dataset: \n",
            "17\n",
            "Number of terrorism quotes 2020 dataset: \n",
            "22\n"
          ]
        },
        {
          "data": {
            "application/vnd.google.colaboratory.intrinsic+json": {
              "type": "string"
            },
            "text/plain": [
              "'\\n# 2019\\n\\nprint(\"Time to loop through entire 2019 dataset: \")\\nprint(elapsed_time_2019 - start_time_2019)\\nprint(\"Number of quotes 2019 dataset: \")\\nprint(iteration_2019)\\n\\nprint(\"Number of climate quotes 2019 dataset: \")\\nprint(no_climate_2019)\\nprint(\"Number of antibiotica quotes 2019 dataset: \")\\nprint(no_antibiotica_2019)\\n'"
            ]
          },
          "execution_count": 58,
          "metadata": {},
          "output_type": "execute_result"
        }
      ],
      "source": [
        "# Loading info\n",
        "\n",
        "# 2020\n",
        "print(\"Time to loop through entire 2020 dataset: \")\n",
        "print(elapsed_time_2020 - start_time_2020)\n",
        "print(\"Number of quotes 2020 dataset: \")\n",
        "print(iteration_2020)\n",
        "\n",
        "print(\"Number of cardiovascular quotes 2020 dataset: \")\n",
        "print(no_cardiovascular_2020)\n",
        "print(\"Number of terrorism quotes 2020 dataset: \")\n",
        "print(no_terrorism_2020)\n",
        "\n",
        "'''\n",
        "# 2019\n",
        "\n",
        "print(\"Time to loop through entire 2019 dataset: \")\n",
        "print(elapsed_time_2019 - start_time_2019)\n",
        "print(\"Number of quotes 2019 dataset: \")\n",
        "print(iteration_2019)\n",
        "\n",
        "print(\"Number of climate quotes 2019 dataset: \")\n",
        "print(no_climate_2019)\n",
        "print(\"Number of antibiotica quotes 2019 dataset: \")\n",
        "print(no_antibiotica_2019)\n",
        "'''"
      ]
    },
    {
      "cell_type": "markdown",
      "metadata": {
        "id": "jluLXfR-c9e1"
      },
      "source": [
        "Now, we create Dataframes of each subject"
      ]
    },
    {
      "cell_type": "code",
      "execution_count": null,
      "metadata": {
        "colab": {
          "base_uri": "https://localhost:8080/"
        },
        "id": "ePPWJr9MteXW",
        "outputId": "2472dd35-9521-4a04-98a3-b2096f61bfc9"
      },
      "outputs": [
        {
          "name": "stdout",
          "output_type": "stream",
          "text": [
            "Time to load 2020 climate dataset to pandas:\n",
            "0.020483732223510742\n"
          ]
        },
        {
          "data": {
            "text/plain": [
              "quoteID           17\n",
              "quotation         17\n",
              "speaker           17\n",
              "qids              17\n",
              "date              17\n",
              "numOccurrences    17\n",
              "probas            17\n",
              "urls              17\n",
              "phase             17\n",
              "dtype: int64"
            ]
          },
          "execution_count": 55,
          "metadata": {},
          "output_type": "execute_result"
        }
      ],
      "source": [
        "start_time = time.time()\n",
        "df_2020cardiovascular = pd.read_json(cardiovascular_2020_path_to_out, lines=True)\n",
        "elapsed_time = time.time()\n",
        "print(\"Time to load 2020 climate dataset to pandas:\")\n",
        "print(elapsed_time - start_time)\n",
        "df_2020cardiovascular.count()"
      ]
    }
  ],
  "metadata": {
    "colab": {
      "collapsed_sections": [],
      "name": "Oliver_Project_old.ipynb",
      "provenance": []
    },
    "kernelspec": {
      "display_name": "Python 3",
      "name": "python3"
    },
    "language_info": {
      "name": "python"
    }
  },
  "nbformat": 4,
  "nbformat_minor": 0
}
